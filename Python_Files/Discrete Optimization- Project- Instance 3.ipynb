{
 "cells": [
  {
   "cell_type": "markdown",
   "metadata": {},
   "source": [
    "# Instance 3"
   ]
  },
  {
   "cell_type": "code",
   "execution_count": 1,
   "metadata": {},
   "outputs": [],
   "source": [
    "import os\n",
    "from pyomo.environ import *\n",
    "import numpy as np\n",
    "import pandas as pd\n",
    "import gurobipy as gp\n",
    "from gurobipy import GRB"
   ]
  },
  {
   "cell_type": "markdown",
   "metadata": {},
   "source": [
    "## Importing DataSet"
   ]
  },
  {
   "cell_type": "code",
   "execution_count": 2,
   "metadata": {},
   "outputs": [],
   "source": [
    "file_path = 'Instance_3.xlsx'\n",
    "# Read the Excel file into a dictionary of DataFrames, where keys are sheet names\n",
    "Instance_data = pd.read_excel(file_path, sheet_name=None)"
   ]
  },
  {
   "cell_type": "code",
   "execution_count": 3,
   "metadata": {},
   "outputs": [],
   "source": [
    "# Exam Data Set\n",
    "\n",
    "Exams = Instance_data['Sheet1']\n",
    "Exams['Exams'] = Exams['Exams'] - 1\n",
    "ExamsList = list(Exams['Exams'])"
   ]
  },
  {
   "cell_type": "markdown",
   "metadata": {},
   "source": [
    "### Dictionary of Students and their related Exams"
   ]
  },
  {
   "cell_type": "code",
   "execution_count": 4,
   "metadata": {},
   "outputs": [],
   "source": [
    "# Creating a Dictionary of Students and Their Related Exams\n",
    "Students_exams = Instance_data['Sheet3']\n",
    "Students_exams['ExamNumber'] = Students_exams['ExamNumber'] - 1\n",
    "# Initialize an empty dictionary to store the students and their exams\n",
    "students = {}\n",
    "# Iterate over the rows in the DataFrame\n",
    "for index, row in Students_exams.iterrows():\n",
    "    student = row['Student']\n",
    "    exam_number = row['ExamNumber']\n",
    "    \n",
    "    # Check if the student is already in the dictionary\n",
    "    if student in students:\n",
    "        students[student].append(exam_number)\n",
    "    # If the student is not in the dictionary, create a new key-value pair    \n",
    "    else:\n",
    "        students[student] = [exam_number]"
   ]
  },
  {
   "cell_type": "markdown",
   "metadata": {},
   "source": [
    "### TimeSlots"
   ]
  },
  {
   "cell_type": "code",
   "execution_count": 5,
   "metadata": {},
   "outputs": [],
   "source": [
    "Time_s = Instance_data['Sheet2']\n",
    "time_slots = Time_s.loc[0, 'TimeSlot']\n",
    "TimeList= list(range (time_slots))"
   ]
  },
  {
   "cell_type": "code",
   "execution_count": 6,
   "metadata": {},
   "outputs": [
    {
     "data": {
      "text/plain": [
       "[0,\n",
       " 1,\n",
       " 2,\n",
       " 3,\n",
       " 4,\n",
       " 5,\n",
       " 6,\n",
       " 7,\n",
       " 8,\n",
       " 9,\n",
       " 10,\n",
       " 11,\n",
       " 12,\n",
       " 13,\n",
       " 14,\n",
       " 15,\n",
       " 16,\n",
       " 17,\n",
       " 18,\n",
       " 19,\n",
       " 20,\n",
       " 21,\n",
       " 22,\n",
       " 23]"
      ]
     },
     "execution_count": 6,
     "metadata": {},
     "output_type": "execute_result"
    }
   ],
   "source": [
    "TimeList"
   ]
  },
  {
   "cell_type": "markdown",
   "metadata": {},
   "source": [
    "### Distance"
   ]
  },
  {
   "cell_type": "code",
   "execution_count": 7,
   "metadata": {},
   "outputs": [
    {
     "data": {
      "text/plain": [
       "[1, 2, 3, 4, 5]"
      ]
     },
     "execution_count": 7,
     "metadata": {},
     "output_type": "execute_result"
    }
   ],
   "source": [
    "#Distance\n",
    "Distance=list(range(1,6))\n",
    "Distance"
   ]
  },
  {
   "cell_type": "markdown",
   "metadata": {},
   "source": [
    "###  Finding Conflicted Exams (Weighted-Unweighted)"
   ]
  },
  {
   "cell_type": "code",
   "execution_count": 8,
   "metadata": {},
   "outputs": [],
   "source": [
    "# Unweighted\n",
    "# Step 1: Initialize the dictionary to store conflicting exams\n",
    "conflicting_exams = {exam: set() for exams_list in students.values() for exam in exams_list}\n",
    "\n",
    "# Step 2: Populate the dictionary with conflicting exams\n",
    "for student_exams in students.values():\n",
    "    for i, exam1 in enumerate(student_exams):\n",
    "        for exam2 in student_exams[i + 1:]:\n",
    "            conflicting_exams[exam1].add(exam2)\n",
    "            conflicting_exams[exam2].add(exam1)\n",
    "\n",
    "# Step 3: Create the unweighted conflicting matrix\n",
    "Unweighted_Conflict_Matrix = [\n",
    "    [1 if exam2 in conflicting_exams[exam1] else 0 for exam2 in ExamsList] for exam1 in ExamsList\n",
    "]\n"
   ]
  },
  {
   "cell_type": "code",
   "execution_count": 9,
   "metadata": {},
   "outputs": [],
   "source": [
    "# Weighted\n",
    "\n",
    "# The weighted Conflicting MATRIX\n",
    "# Step 1: Initialize the dictionary to store conflicting exams\n",
    "conflicting_exams = {exam: set() for exams_list in students.values() for exam in exams_list}\n",
    "\n",
    "# Step 2: Populate the dictionary with conflicting exams\n",
    "for student_exams in students.values():\n",
    "    for i, exam1 in enumerate(student_exams):\n",
    "        for exam2 in student_exams[i + 1:]:\n",
    "            conflicting_exams[exam1].add(exam2)\n",
    "            conflicting_exams[exam2].add(exam1)\n",
    "\n",
    "# Step 3: Create the weighted conflicting matrix\n",
    "weighted_conflicting_matrix = [[0 for _ in ExamsList] for _ in ExamsList]\n",
    "\n",
    "# Step 4: Calculate the number of students in each conflicting exam pair and fill the matrix\n",
    "for i, exam1 in enumerate(ExamsList):\n",
    "    for j, exam2 in enumerate(ExamsList):\n",
    "        if exam2 in conflicting_exams[exam1]:\n",
    "            count = sum(1 for student_exams in students.values() if exam1 in student_exams and exam2 in student_exams)\n",
    "            weighted_conflicting_matrix[i][j] = count\n",
    "\n"
   ]
  },
  {
   "cell_type": "markdown",
   "metadata": {},
   "source": [
    "### Converting the Llist of UC and WC to Matrix of Coefficients"
   ]
  },
  {
   "cell_type": "code",
   "execution_count": 10,
   "metadata": {},
   "outputs": [],
   "source": [
    "#Conflicting Exams (Weighted and Unweighted)\n",
    "\n",
    "UC_Matrix=np.array(Unweighted_Conflict_Matrix )\n",
    "WC_Matrix=np.array(weighted_conflicting_matrix)"
   ]
  },
  {
   "cell_type": "code",
   "execution_count": 11,
   "metadata": {},
   "outputs": [
    {
     "data": {
      "text/plain": [
       "array([[0, 0, 0, ..., 0, 0, 0],\n",
       "       [0, 0, 0, ..., 0, 0, 0],\n",
       "       [0, 0, 0, ..., 0, 1, 1],\n",
       "       ...,\n",
       "       [0, 0, 0, ..., 0, 0, 0],\n",
       "       [0, 0, 1, ..., 0, 0, 0],\n",
       "       [0, 0, 1, ..., 0, 0, 0]])"
      ]
     },
     "execution_count": 11,
     "metadata": {},
     "output_type": "execute_result"
    }
   ],
   "source": [
    "UC_Matrix"
   ]
  },
  {
   "cell_type": "code",
   "execution_count": 12,
   "metadata": {},
   "outputs": [
    {
     "data": {
      "text/plain": [
       "array([[0, 0, 0, ..., 0, 0, 0],\n",
       "       [0, 0, 0, ..., 0, 0, 0],\n",
       "       [0, 0, 0, ..., 0, 1, 1],\n",
       "       ...,\n",
       "       [0, 0, 0, ..., 0, 0, 0],\n",
       "       [0, 0, 1, ..., 0, 0, 0],\n",
       "       [0, 0, 1, ..., 0, 0, 0]])"
      ]
     },
     "execution_count": 12,
     "metadata": {},
     "output_type": "execute_result"
    }
   ],
   "source": [
    "WC_Matrix"
   ]
  },
  {
   "cell_type": "code",
   "execution_count": 14,
   "metadata": {},
   "outputs": [
    {
     "name": "stdout",
     "output_type": "stream",
     "text": [
      "Set parameter Username\n",
      "Set parameter LogFile to value \"C:\\Users\\ghadi\\Downloads\\Discrete Optimization Project - Gurobi- Instance 3\\Discrete Optimization Project - Instance 3-Log File.log\"\n",
      "Academic license - for non-commercial use only - expires 2024-07-07\n",
      "Set parameter Threads to value 1\n",
      "Set parameter Presolve to value 1\n",
      "Set parameter Method to value 0\n",
      "Set parameter TimeLimit to value 1200\n",
      "Set parameter PreSparsify to value 1\n"
     ]
    }
   ],
   "source": [
    "# Setting up the environment\n",
    "\n",
    "\n",
    "env = gp.Env(\n",
    "    r\"C:\\Users\\ghadi\\Downloads\\Discrete Optimization Project - Gurobi- Instance 3\\Discrete Optimization Project - Instance 3-Log File.log\")\n",
    "env.start()\n",
    "\n",
    "# Environment parameters\n",
    "env.setParam(\"Threads\", 1)  # Controls the number of threads to apply to parallel algorithms\n",
    "env.setParam(\"Presolve\", 1)  # Controls the presolve level. conservative (1).\n",
    "env.setParam(\"MIPGap\", 1e-4)\n",
    "env.setParam('Method', 0)  # Algorithm used to solve the initial root relaxation of a MIP model. 0=primal simplex.\n",
    "env.setParam(\"TimeLimit\", 1200)  # 40 minutes time limit\n",
    "env.setParam(\"PreSparsify\", 1) # to reduce the memory used\n"
   ]
  },
  {
   "cell_type": "markdown",
   "metadata": {},
   "source": [
    "### Defining Gurobi Model"
   ]
  },
  {
   "cell_type": "code",
   "execution_count": 15,
   "metadata": {},
   "outputs": [],
   "source": [
    "model = gp.Model(\"Exam_Scheduling\", env=env)"
   ]
  },
  {
   "cell_type": "markdown",
   "metadata": {},
   "source": [
    "### Defining Decision Variable and Auxiliary Variable"
   ]
  },
  {
   "cell_type": "code",
   "execution_count": 16,
   "metadata": {},
   "outputs": [],
   "source": [
    "#Decision Variable\n",
    "X = model.addVars(ExamsList, TimeList , vtype=GRB.BINARY, name=\"X\")"
   ]
  },
  {
   "cell_type": "code",
   "execution_count": 17,
   "metadata": {},
   "outputs": [],
   "source": [
    "# Binary auxiliary variable for controlling conflict\n",
    "Y = model.addVars(ExamsList, ExamsList, Distance, vtype=GRB.BINARY, name=\"Y\")"
   ]
  },
  {
   "cell_type": "markdown",
   "metadata": {},
   "source": [
    "###  Defining Constraints "
   ]
  },
  {
   "cell_type": "code",
   "execution_count": 18,
   "metadata": {},
   "outputs": [],
   "source": [
    "#Constraint 1\n",
    "model.addConstrs(UC_Matrix[i, j] * (X[i, k] + X[j, k]) <= 1 for i in ExamsList for j in ExamsList for k in TimeList)\n",
    "model.update()"
   ]
  },
  {
   "cell_type": "code",
   "execution_count": 19,
   "metadata": {},
   "outputs": [],
   "source": [
    "#Constraint 2\n",
    "model.addConstrs(sum(X[i, k] for k in TimeList) == 1 for i in ExamsList for k in TimeList)\n",
    "model.update()"
   ]
  },
  {
   "cell_type": "code",
   "execution_count": 20,
   "metadata": {},
   "outputs": [],
   "source": [
    "#Constraint C3\n",
    "model.addConstrs((X[i, k] + X[j, k + d]) <= Y[i, j, d] + 1 for i in ExamsList for j in ExamsList for k in TimeList for d in Distance if (k + d) in TimeList and UC_Matrix[i, j] != 0)\n",
    "model.update()"
   ]
  },
  {
   "cell_type": "markdown",
   "metadata": {},
   "source": [
    "### Defining Objective Function"
   ]
  },
  {
   "cell_type": "code",
   "execution_count": 21,
   "metadata": {},
   "outputs": [],
   "source": [
    "# Create the objective expression using a loop\n",
    "objective_expr = 0\n",
    "for i in ExamsList:\n",
    "    for j in ExamsList:\n",
    "        for d in Distance:\n",
    "            objective_expr += Y[i, j, d] * WC_Matrix[i, j] * ((2 ** (5 - d))/1125)\n",
    "\n",
    "# Set up the objective function for minimization\n",
    "model.setObjective(objective_expr, GRB.MINIMIZE)"
   ]
  },
  {
   "cell_type": "code",
   "execution_count": 21,
   "metadata": {},
   "outputs": [
    {
     "name": "stdout",
     "output_type": "stream",
     "text": [
      "Set parameter TimeLimit to value 2400\n"
     ]
    }
   ],
   "source": [
    "# Time limit for the model\n",
    "#model.Params.TimeLimit = 2400"
   ]
  },
  {
   "cell_type": "code",
   "execution_count": 22,
   "metadata": {},
   "outputs": [],
   "source": [
    "model.update()"
   ]
  },
  {
   "cell_type": "code",
   "execution_count": 23,
   "metadata": {},
   "outputs": [
    {
     "name": "stdout",
     "output_type": "stream",
     "text": [
      "Gurobi Optimizer version 10.0.2 build v10.0.2rc0 (win64)\n",
      "\n",
      "CPU model: 12th Gen Intel(R) Core(TM) i5-1235U, instruction set [SSE2|AVX|AVX2]\n",
      "Thread count: 10 physical cores, 12 logical processors, using up to 1 threads\n",
      "\n",
      "Optimize a model with 1877490 rows, 185060 columns and 3589158 nonzeros\n",
      "Model fingerprint: 0x2ed586a1\n",
      "Variable types: 0 continuous, 185060 integer (185060 binary)\n",
      "Coefficient statistics:\n",
      "  Matrix range     [1e+00, 1e+00]\n",
      "  Objective range  [9e-04, 3e+00]\n",
      "  Bounds range     [1e+00, 1e+00]\n",
      "  RHS range        [1e+00, 1e+00]\n",
      "Presolve removed 853471 rows and 132570 columns (presolve time = 5s) ...\n",
      "Presolve removed 854829 rows and 132570 columns (presolve time = 10s) ...\n",
      "Presolve removed 854836 rows and 132570 columns (presolve time = 15s) ...\n",
      "Presolve removed 854836 rows and 132570 columns (presolve time = 20s) ...\n",
      "Sparsify removed 2127 nonzeros (0%)\n",
      "Presolve removed 854836 rows and 132374 columns\n",
      "Presolve time: 20.29s\n",
      "Presolved: 1022654 rows, 52686 columns, 3160016 nonzeros\n",
      "Variable types: 0 continuous, 52686 integer (52678 binary)\n",
      "Root relaxation presolved: 52686 rows, 1075340 columns, 3212702 nonzeros\n",
      "\n",
      "\n",
      "Root simplex log...\n",
      "\n",
      "Iteration    Objective       Primal Inf.    Dual Inf.      Time\n",
      "       0   -0.0000000e+00   0.000000e+00   3.780000e+02     23s\n",
      "   10651    2.9183821e-02   0.000000e+00   2.080496e+04     25s\n",
      "   37987    5.3969753e-02   0.000000e+00   1.436451e+04     30s\n",
      "   65323    6.5448195e-02   0.000000e+00   1.006970e+04     35s\n",
      "   95071    7.2670959e-02   0.000000e+00   2.071165e+02     40s\n",
      "  103658   -0.0000000e+00   0.000000e+00   0.000000e+00     42s\n",
      "  103658   -0.0000000e+00   0.000000e+00   0.000000e+00     42s\n",
      "  103658    0.0000000e+00   0.000000e+00   0.000000e+00     42s\n",
      "\n",
      "Root relaxation: objective 0.000000e+00, 103658 iterations, 20.35 seconds (48.34 work units)\n",
      "\n",
      "    Nodes    |    Current Node    |     Objective Bounds      |     Work\n",
      " Expl Unexpl |  Obj  Depth IntInf | Incumbent    BestBd   Gap | It/Node Time\n",
      "\n",
      "     0     0    0.00000    0 1068          -    0.00000      -     -  110s\n",
      "     0     0    0.00000    0 1138          -    0.00000      -     -  352s\n",
      "     0     0    0.00000    0 1084          -    0.00000      -     -  468s\n",
      "     0     0    0.00000    0 1127          -    0.00000      -     -  786s\n",
      "     0     0    0.00000    0 1080          -    0.00000      -     -  897s\n",
      "     0     0    0.00000    0 1131          -    0.00000      -     - 1200s\n",
      "\n",
      "Cutting planes:\n",
      "  Clique: 369\n",
      "  MIR: 5\n",
      "  Zero half: 53\n",
      "  RLT: 3845\n",
      "  BQP: 1863\n",
      "\n",
      "Explored 1 nodes (212485 simplex iterations) in 1200.10 seconds (3930.35 work units)\n",
      "Thread count was 1 (of 12 available processors)\n",
      "\n",
      "Solution count 0\n",
      "\n",
      "Time limit reached\n",
      "Best objective -, best bound 0.000000000000e+00, gap -\n"
     ]
    }
   ],
   "source": [
    "model.optimize()"
   ]
  },
  {
   "cell_type": "code",
   "execution_count": 24,
   "metadata": {},
   "outputs": [
    {
     "name": "stdout",
     "output_type": "stream",
     "text": [
      "Gurobi Optimizer version 10.0.2 build v10.0.2rc0 (win64)\n",
      "\n",
      "CPU model: 12th Gen Intel(R) Core(TM) i5-1235U, instruction set [SSE2|AVX|AVX2]\n",
      "Thread count: 10 physical cores, 12 logical processors, using up to 1 threads\n",
      "\n",
      "Optimize a model with 1877490 rows, 185060 columns and 3589158 nonzeros\n",
      "Model fingerprint: 0x2ed586a1\n",
      "Variable types: 0 continuous, 185060 integer (185060 binary)\n",
      "Coefficient statistics:\n",
      "  Matrix range     [1e+00, 1e+00]\n",
      "  Objective range  [9e-04, 3e+00]\n",
      "  Bounds range     [1e+00, 1e+00]\n",
      "  RHS range        [1e+00, 1e+00]\n",
      "Presolved: 1022654 rows, 52686 columns, 3160016 nonzeros\n",
      "\n",
      "Continuing optimization...\n",
      "\n",
      "     0     0    0.00000    0 1056          -    0.00000      -     - 1292s\n",
      "     0     0    0.00000    0 1056          -    0.00000      -     - 1402s\n",
      "     0     0    0.00000    0 1056          -    0.00000      -     - 1554s\n",
      "H    0     0                      54.5831111    0.00000   100%     - 2195s\n",
      "H    0     0                      54.5653333    0.00000   100%     - 2230s\n",
      "     0     2    0.00000    0 1056   54.56533    0.00000   100%     - 2400s\n",
      "\n",
      "Cutting planes:\n",
      "  Clique: 37\n",
      "  MIR: 3\n",
      "  Zero half: 1\n",
      "  RLT: 317\n",
      "  BQP: 8\n",
      "\n",
      "Explored 1 nodes (335933 simplex iterations) in 1200.13 seconds (2426.36 work units)\n",
      "Thread count was 1 (of 12 available processors)\n",
      "\n",
      "Solution count 2: 54.5653 54.5831 \n",
      "\n",
      "Time limit reached\n",
      "Best objective 5.456533333333e+01, best bound 0.000000000000e+00, gap 100.0000%\n"
     ]
    }
   ],
   "source": [
    "if model.Status == gp.GRB.TIME_LIMIT:\n",
    "\n",
    "    # Extend the time limit\n",
    "    extended_time_limit =1200 # Set the extended time limit in seconds\n",
    "    model.setParam('TimeLimit', extended_time_limit)\n",
    "\n",
    "    # Continue the optimization\n",
    "    model.optimize()"
   ]
  },
  {
   "cell_type": "code",
   "execution_count": 25,
   "metadata": {},
   "outputs": [
    {
     "name": "stdout",
     "output_type": "stream",
     "text": [
      "Objective Value: 54.565333333333385\n"
     ]
    }
   ],
   "source": [
    "if model.Status == GRB.OPTIMAL:\n",
    "    print(\"Optimization was successful and an optimal solution was found.\")\n",
    "elif model.Status == GRB.INFEASIBLE:\n",
    "    print(\"The model is infeasible - no feasible solution exists.\")\n",
    "elif model.Status == GRB.UNBOUNDED:\n",
    "    print(\"The model is unbounded - the objective can be improved without limit.\")\n",
    "print(\"Objective Value:\", model.objVal)"
   ]
  },
  {
   "cell_type": "code",
   "execution_count": 26,
   "metadata": {},
   "outputs": [
    {
     "name": "stdout",
     "output_type": "stream",
     "text": [
      "Objective Value: 54.565333333333385\n"
     ]
    }
   ],
   "source": [
    "print(\"Objective Value:\", model.objVal)"
   ]
  },
  {
   "cell_type": "markdown",
   "metadata": {},
   "source": [
    "### Time Slots and Exams in Each Time Slot"
   ]
  },
  {
   "cell_type": "code",
   "execution_count": 27,
   "metadata": {},
   "outputs": [],
   "source": [
    "# Scheduled-Exams in LIST\n",
    "scheduled_exams = []\n",
    "# Print the values of decision variable X\n",
    "for exam in ExamsList:\n",
    "    for time in TimeList:\n",
    "        if X[exam, time].x > 0.5:\n",
    "            scheduled_exams.append((exam, time))"
   ]
  },
  {
   "cell_type": "code",
   "execution_count": 28,
   "metadata": {},
   "outputs": [
    {
     "name": "stdout",
     "output_type": "stream",
     "text": [
      "Time Slot 0: Exams [5, 20, 30, 35, 50, 59, 77, 101, 106, 116, 120, 133, 174, 180]\n",
      "Time Slot 1: Exams [15, 47, 107, 125, 126, 127, 175, 181]\n",
      "Time Slot 2: Exams [39, 57, 65, 113, 117, 129, 135, 141]\n",
      "Time Slot 3: Exams [18, 25, 52, 75, 99, 124, 130]\n",
      "Time Slot 4: Exams [11, 38, 44, 66]\n",
      "Time Slot 5: Exams [32, 63, 64, 105, 115, 166, 172]\n",
      "Time Slot 6: Exams [2, 21, 48, 70, 110, 169, 171]\n",
      "Time Slot 7: Exams [4, 16, 40, 94, 100, 103, 111, 138, 167, 170]\n",
      "Time Slot 8: Exams [3, 31, 61, 68, 98, 140, 161]\n",
      "Time Slot 9: Exams [41, 51, 58, 67, 144, 157]\n",
      "Time Slot 10: Exams [19, 22, 23, 56]\n",
      "Time Slot 11: Exams [14, 46, 60, 96, 142, 143]\n",
      "Time Slot 12: Exams [24, 29, 73, 79, 151, 154, 156, 164]\n",
      "Time Slot 13: Exams [12, 13, 33, 53, 74, 134, 146, 163, 177]\n",
      "Time Slot 14: Exams [81, 119, 121, 122, 123, 137, 185]\n",
      "Time Slot 15: Exams [28, 45, 91, 92, 145, 159, 160, 186]\n",
      "Time Slot 16: Exams [36, 42, 88, 89, 97, 131, 136]\n",
      "Time Slot 17: Exams [7, 8, 9, 78, 104, 155]\n",
      "Time Slot 18: Exams [54, 69, 93, 109, 114, 128, 168, 173, 176, 188]\n",
      "Time Slot 19: Exams [26, 43, 71, 108, 118, 139, 149]\n",
      "Time Slot 20: Exams [6, 27, 34, 49, 62, 72, 112, 150, 158, 165, 178, 187, 189]\n",
      "Time Slot 21: Exams [0, 37, 83, 147, 148, 179, 184]\n",
      "Time Slot 22: Exams [17, 55, 76, 80, 82, 84, 85, 86, 87, 90]\n",
      "Time Slot 23: Exams [1, 10, 95, 102, 132, 152, 153, 162, 182, 183]\n"
     ]
    }
   ],
   "source": [
    "# Create a dictionary to store exams for each time slot\n",
    "Exams_in_TimeSlots = {}\n",
    "\n",
    "for exam, time in scheduled_exams:\n",
    "    if time not in Exams_in_TimeSlots:\n",
    "        Exams_in_TimeSlots[time] = []\n",
    "    Exams_in_TimeSlots[time].append(exam)\n",
    "\n",
    "# Print the organized structure\n",
    "for time_slot, exams in sorted(Exams_in_TimeSlots.items()):\n",
    "    print(f\"Time Slot {time_slot}: Exams {exams}\")"
   ]
  },
  {
   "cell_type": "code",
   "execution_count": 29,
   "metadata": {},
   "outputs": [],
   "source": [
    "# Sorting the Dic According to Time Slot It Will be Sorted By Keys \n",
    "Exams_in_TimeSlots= dict(sorted(Exams_in_TimeSlots.items()))"
   ]
  },
  {
   "cell_type": "markdown",
   "metadata": {},
   "source": [
    "### Chcking whether there is Conflict Between the Exams In Each Time Slots"
   ]
  },
  {
   "cell_type": "code",
   "execution_count": 30,
   "metadata": {
    "scrolled": true
   },
   "outputs": [],
   "source": [
    "#All pairs of Time Tables exams related to Each time slot-More General\n",
    "All_pairs_in_TimeSlots_Exams = []\n",
    "\n",
    "for time_slot, exams in Exams_in_TimeSlots.items():\n",
    "    exam_pairs = [(exams[i], exams[j]) for i in range(len(exams)) for j in range(i + 1, len(exams))]\n",
    "    All_pairs_in_TimeSlots_Exams.extend(exam_pairs)"
   ]
  },
  {
   "cell_type": "code",
   "execution_count": 31,
   "metadata": {},
   "outputs": [],
   "source": [
    "#Conflicting Exams - The code is Correct\n",
    "List_ConflictExams=[]\n",
    "for i in ExamsList:\n",
    "    for j in ExamsList:\n",
    "        if UC_Matrix[i,j] > 0:\n",
    "            List_ConflictExams.append((i,j))"
   ]
  },
  {
   "cell_type": "code",
   "execution_count": 32,
   "metadata": {},
   "outputs": [
    {
     "name": "stdout",
     "output_type": "stream",
     "text": [
      "The Solution is Feasible Meaning that There is No Conflicting Exam in a All Time Slots\n"
     ]
    }
   ],
   "source": [
    "# To find Whether There is Intersection Between This Lists or Not\n",
    "\n",
    "Set_All_pairs_in_TimeSlots_Exams=set(All_pairs_in_TimeSlots_Exams)\n",
    "Set_List_ConflictExams=set(List_ConflictExams)\n",
    "Common_elements = Set_All_pairs_in_TimeSlots_Exams.intersection(List_ConflictExams)\n",
    "# Find common elements\n",
    "if len (Common_elements) == 0:\n",
    "    print('The Solution is Feasible Meaning that There is No Conflicting Exam in a All Time Slots')\n",
    "else:\n",
    "    print('The Solution is Not Feasible Meaning that There is Conflicting Exam in Time Slots')\n",
    "    \n",
    "\n",
    "\n",
    "# Print the common elements\n",
    "#print(\"Common Elements:\", Common_elements)"
   ]
  },
  {
   "cell_type": "markdown",
   "metadata": {},
   "source": [
    "### Necessary OutPuts "
   ]
  },
  {
   "cell_type": "code",
   "execution_count": 33,
   "metadata": {},
   "outputs": [],
   "source": [
    "output_folder = r\"C:\\Users\\ghadi\\Downloads\\Discrete Optimization Project - Gurobi- Instance 3\"\n",
    "\n",
    "\n",
    "output_file_path = os.path.join(output_folder, \"Discrete Optimization Project- Instance 3 .sol\")\n",
    "\n",
    "# Specify the file name only for model.write()\n",
    "model.write(\"Discrete Optimization Project 2023.sol\")\n",
    "\n",
    "with open(output_file_path, 'w') as f:\n",
    "    # your code here\n",
    "    \n",
    "    # Convert Exams_in_TimeSlots to a string before writing\n",
    "    exams_string = \", \".join(map(str, TimeList))\n",
    "    f.write(f\"Exams Time Slots are: {exams_string}\\n\")\n",
    "    \n",
    "    f.write('\\n\\n')\n",
    "    \n",
    "    if len (Common_elements) == 0:\n",
    "        f.write('The Solution is Feasible Meaning that There is No Conflicting Exam in  All Time Slots')\n",
    "    else:\n",
    "        f.write('The Solution is Not Feasible Meaning that There is Conflicting Exam in Time Slots')\n",
    "        \n",
    "    \n",
    "    f.write('\\n\\n')    \n",
    "        \n",
    "    \n",
    "    for time_slot, exams in sorted(Exams_in_TimeSlots.items()):\n",
    "        f.write(f\"Time Slot {time_slot}: Exams {exams}\\n\")\n",
    "        \n",
    "    f.write('\\n\\n') \n",
    "    \n",
    "    f.write(f\"The Objected Value - Penalty: {model.objVal}\\n\")\n",
    "    f.write(f\"The Benchmark is = 32.627 \\n\")\n",
    "    "
   ]
  }
 ],
 "metadata": {
  "kernelspec": {
   "display_name": "Python 3 (ipykernel)",
   "language": "python",
   "name": "python3"
  },
  "language_info": {
   "codemirror_mode": {
    "name": "ipython",
    "version": 3
   },
   "file_extension": ".py",
   "mimetype": "text/x-python",
   "name": "python",
   "nbconvert_exporter": "python",
   "pygments_lexer": "ipython3",
   "version": "3.9.12"
  }
 },
 "nbformat": 4,
 "nbformat_minor": 4
}

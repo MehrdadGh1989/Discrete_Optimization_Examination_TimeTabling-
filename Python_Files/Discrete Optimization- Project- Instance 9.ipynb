{
 "cells": [
  {
   "cell_type": "markdown",
   "metadata": {},
   "source": [
    "# Instance 9"
   ]
  },
  {
   "cell_type": "code",
   "execution_count": 1,
   "metadata": {},
   "outputs": [],
   "source": [
    "import os\n",
    "from pyomo.environ import *\n",
    "import numpy as np\n",
    "import pandas as pd\n",
    "import gurobipy as gp\n",
    "from gurobipy import GRB"
   ]
  },
  {
   "cell_type": "markdown",
   "metadata": {},
   "source": [
    "## Importing DataSet"
   ]
  },
  {
   "cell_type": "code",
   "execution_count": 2,
   "metadata": {},
   "outputs": [],
   "source": [
    "file_path = 'Instance_9.xlsx'\n",
    "# Read the Excel file into a dictionary of DataFrames, where keys are sheet names\n",
    "Instance_data = pd.read_excel(file_path, sheet_name=None)"
   ]
  },
  {
   "cell_type": "code",
   "execution_count": 3,
   "metadata": {},
   "outputs": [],
   "source": [
    "# Exam Data Set\n",
    "\n",
    "Exams = Instance_data['Sheet1']\n",
    "Exams['Exams'] = Exams['Exams'] - 1\n",
    "ExamsList = list(Exams['Exams'])"
   ]
  },
  {
   "cell_type": "markdown",
   "metadata": {},
   "source": [
    "### Dictionary of Students and their related Exams"
   ]
  },
  {
   "cell_type": "code",
   "execution_count": 4,
   "metadata": {},
   "outputs": [],
   "source": [
    "# Creating a Dictionary of Students and Their Related Exams\n",
    "Students_exams = Instance_data['Sheet3']\n",
    "Students_exams['ExamNumber'] = Students_exams['ExamNumber'] - 1\n",
    "# Initialize an empty dictionary to store the students and their exams\n",
    "students = {}\n",
    "# Iterate over the rows in the DataFrame\n",
    "for index, row in Students_exams.iterrows():\n",
    "    student = row['Student']\n",
    "    exam_number = row['ExamNumber']\n",
    "    \n",
    "    # Check if the student is already in the dictionary\n",
    "    if student in students:\n",
    "        students[student].append(exam_number)\n",
    "    # If the student is not in the dictionary, create a new key-value pair    \n",
    "    else:\n",
    "        students[student] = [exam_number]"
   ]
  },
  {
   "cell_type": "markdown",
   "metadata": {},
   "source": [
    "### TimeSlots"
   ]
  },
  {
   "cell_type": "code",
   "execution_count": 5,
   "metadata": {},
   "outputs": [],
   "source": [
    "Time_s = Instance_data['Sheet2']\n",
    "time_slots = Time_s.loc[0, 'TimeSlot']\n",
    "TimeList= list(range (time_slots))"
   ]
  },
  {
   "cell_type": "code",
   "execution_count": 6,
   "metadata": {},
   "outputs": [
    {
     "data": {
      "text/plain": [
       "[0, 1, 2, 3, 4, 5, 6, 7, 8, 9, 10, 11, 12, 13, 14, 15, 16, 17]"
      ]
     },
     "execution_count": 6,
     "metadata": {},
     "output_type": "execute_result"
    }
   ],
   "source": [
    "TimeList"
   ]
  },
  {
   "cell_type": "markdown",
   "metadata": {},
   "source": [
    "### Distance"
   ]
  },
  {
   "cell_type": "code",
   "execution_count": 7,
   "metadata": {},
   "outputs": [
    {
     "data": {
      "text/plain": [
       "[1, 2, 3, 4, 5]"
      ]
     },
     "execution_count": 7,
     "metadata": {},
     "output_type": "execute_result"
    }
   ],
   "source": [
    "#Distance\n",
    "Distance=list(range(1,6))\n",
    "Distance"
   ]
  },
  {
   "cell_type": "markdown",
   "metadata": {},
   "source": [
    "###  Finding Conflicted Exams (Weighted-Unweighted)"
   ]
  },
  {
   "cell_type": "code",
   "execution_count": 8,
   "metadata": {},
   "outputs": [],
   "source": [
    "# Unweighted\n",
    "# Step 1: Initialize the dictionary to store conflicting exams\n",
    "conflicting_exams = {exam: set() for exams_list in students.values() for exam in exams_list}\n",
    "\n",
    "# Step 2: Populate the dictionary with conflicting exams\n",
    "for student_exams in students.values():\n",
    "    for i, exam1 in enumerate(student_exams):\n",
    "        for exam2 in student_exams[i + 1:]:\n",
    "            conflicting_exams[exam1].add(exam2)\n",
    "            conflicting_exams[exam2].add(exam1)\n",
    "\n",
    "# Step 3: Create the unweighted conflicting matrix\n",
    "Unweighted_Conflict_Matrix = [\n",
    "    [1 if exam2 in conflicting_exams[exam1] else 0 for exam2 in ExamsList] for exam1 in ExamsList\n",
    "]\n"
   ]
  },
  {
   "cell_type": "code",
   "execution_count": 9,
   "metadata": {},
   "outputs": [],
   "source": [
    "# Weighted\n",
    "\n",
    "# The weighted Conflicting MATRIX\n",
    "# Step 1: Initialize the dictionary to store conflicting exams\n",
    "conflicting_exams = {exam: set() for exams_list in students.values() for exam in exams_list}\n",
    "\n",
    "# Step 2: Populate the dictionary with conflicting exams\n",
    "for student_exams in students.values():\n",
    "    for i, exam1 in enumerate(student_exams):\n",
    "        for exam2 in student_exams[i + 1:]:\n",
    "            conflicting_exams[exam1].add(exam2)\n",
    "            conflicting_exams[exam2].add(exam1)\n",
    "\n",
    "# Step 3: Create the weighted conflicting matrix\n",
    "weighted_conflicting_matrix = [[0 for _ in ExamsList] for _ in ExamsList]\n",
    "\n",
    "# Step 4: Calculate the number of students in each conflicting exam pair and fill the matrix\n",
    "for i, exam1 in enumerate(ExamsList):\n",
    "    for j, exam2 in enumerate(ExamsList):\n",
    "        if exam2 in conflicting_exams[exam1]:\n",
    "            count = sum(1 for student_exams in students.values() if exam1 in student_exams and exam2 in student_exams)\n",
    "            weighted_conflicting_matrix[i][j] = count\n",
    "\n"
   ]
  },
  {
   "cell_type": "markdown",
   "metadata": {},
   "source": [
    "### Converting the Llist of UC and WC to Matrix of Coefficients"
   ]
  },
  {
   "cell_type": "code",
   "execution_count": 10,
   "metadata": {},
   "outputs": [],
   "source": [
    "#What We have:\n",
    "#Exams\n",
    "#TimeSlots\n",
    "#Distance\n",
    "#Conflicting Exams (Weighted and Unweighted)\n",
    "#aij\n",
    "\n",
    "#nij\n",
    "#aij=UC_Matrix and nij=WC_Matrix\n",
    "UC_Matrix=np.array(Unweighted_Conflict_Matrix )\n",
    "WC_Matrix=np.array(weighted_conflicting_matrix)"
   ]
  },
  {
   "cell_type": "code",
   "execution_count": 11,
   "metadata": {},
   "outputs": [
    {
     "data": {
      "text/plain": [
       "array([[0, 1, 0, ..., 0, 0, 0],\n",
       "       [1, 0, 1, ..., 0, 0, 0],\n",
       "       [0, 1, 0, ..., 0, 0, 0],\n",
       "       ...,\n",
       "       [0, 0, 0, ..., 0, 0, 0],\n",
       "       [0, 0, 0, ..., 0, 0, 0],\n",
       "       [0, 0, 0, ..., 0, 0, 0]])"
      ]
     },
     "execution_count": 11,
     "metadata": {},
     "output_type": "execute_result"
    }
   ],
   "source": [
    "UC_Matrix"
   ]
  },
  {
   "cell_type": "code",
   "execution_count": 12,
   "metadata": {},
   "outputs": [
    {
     "data": {
      "text/plain": [
       "array([[ 0,  5,  0, ...,  0,  0,  0],\n",
       "       [ 5,  0, 10, ...,  0,  0,  0],\n",
       "       [ 0, 10,  0, ...,  0,  0,  0],\n",
       "       ...,\n",
       "       [ 0,  0,  0, ...,  0,  0,  0],\n",
       "       [ 0,  0,  0, ...,  0,  0,  0],\n",
       "       [ 0,  0,  0, ...,  0,  0,  0]])"
      ]
     },
     "execution_count": 12,
     "metadata": {},
     "output_type": "execute_result"
    }
   ],
   "source": [
    "WC_Matrix"
   ]
  },
  {
   "cell_type": "code",
   "execution_count": 13,
   "metadata": {},
   "outputs": [
    {
     "name": "stdout",
     "output_type": "stream",
     "text": [
      "Set parameter Username\n",
      "Set parameter LogFile to value \"C:\\Users\\ghadi\\Downloads\\Discrete Optimization Project - Gurobi- Instance 9\\Discrete Optimization Project - Instance 9-Log File.log\"\n",
      "Academic license - for non-commercial use only - expires 2024-07-07\n",
      "Set parameter Threads to value 1\n",
      "Set parameter Presolve to value 1\n",
      "Set parameter Method to value 0\n",
      "Set parameter TimeLimit to value 1200\n",
      "Set parameter PreSparsify to value 1\n"
     ]
    }
   ],
   "source": [
    "# Setting up the environment\n",
    "\n",
    "\n",
    "env = gp.Env(\n",
    "    r\"C:\\Users\\ghadi\\Downloads\\Discrete Optimization Project - Gurobi- Instance 9\\Discrete Optimization Project - Instance 9-Log File.log\")\n",
    "env.start()\n",
    "\n",
    "# Environment parameters\n",
    "env.setParam(\"Threads\", 1)  # Controls the number of threads to apply to parallel algorithms\n",
    "env.setParam(\"Presolve\", 1)  # Controls the presolve level. conservative (1).\n",
    "env.setParam(\"MIPGap\", 1e-4)\n",
    "env.setParam('Method', 0)  # Algorithm used to solve the initial root relaxation of a MIP model. 0=primal simplex.\n",
    "env.setParam(\"TimeLimit\", 1200)  # 20 minutes time limit\n",
    "env.setParam(\"PreSparsify\", 1) # to reduce the memory used\n"
   ]
  },
  {
   "cell_type": "markdown",
   "metadata": {},
   "source": [
    "### Defining Gurobi Model"
   ]
  },
  {
   "cell_type": "code",
   "execution_count": 14,
   "metadata": {},
   "outputs": [],
   "source": [
    "model = gp.Model(\"Exam_Scheduling\", env=env)"
   ]
  },
  {
   "cell_type": "markdown",
   "metadata": {},
   "source": [
    "### Defining Decision Variable and Auxiliary Variable"
   ]
  },
  {
   "cell_type": "code",
   "execution_count": 15,
   "metadata": {},
   "outputs": [],
   "source": [
    "#Decision Variable\n",
    "X = model.addVars(ExamsList, TimeList , vtype=GRB.BINARY, name=\"X\")"
   ]
  },
  {
   "cell_type": "code",
   "execution_count": 16,
   "metadata": {},
   "outputs": [],
   "source": [
    "# Binary auxiliary variable for controlling conflict\n",
    "Y = model.addVars(ExamsList, ExamsList, Distance, vtype=GRB.BINARY, name=\"Y\")"
   ]
  },
  {
   "cell_type": "markdown",
   "metadata": {},
   "source": [
    "###  Defining Constraints "
   ]
  },
  {
   "cell_type": "code",
   "execution_count": 17,
   "metadata": {},
   "outputs": [],
   "source": [
    "#Constraint 1\n",
    "model.addConstrs(UC_Matrix[i, j] * (X[i, k] + X[j, k]) <= 1 for i in ExamsList for j in ExamsList for k in TimeList)\n",
    "model.update()"
   ]
  },
  {
   "cell_type": "code",
   "execution_count": 18,
   "metadata": {},
   "outputs": [],
   "source": [
    "#Constraint 2\n",
    "model.addConstrs(sum(X[i, k] for k in TimeList) == 1 for i in ExamsList for k in TimeList)\n",
    "model.update()"
   ]
  },
  {
   "cell_type": "code",
   "execution_count": 19,
   "metadata": {},
   "outputs": [],
   "source": [
    "#Constraint C3\n",
    "model.addConstrs((X[i, k] + X[j, k + d]) <= Y[i, j, d] + 1 for i in ExamsList for j in ExamsList for k in TimeList for d in Distance if (k + d) in TimeList and UC_Matrix[i, j] != 0)\n",
    "model.update()"
   ]
  },
  {
   "cell_type": "markdown",
   "metadata": {},
   "source": [
    "### Defining Objective Function"
   ]
  },
  {
   "cell_type": "code",
   "execution_count": 20,
   "metadata": {},
   "outputs": [],
   "source": [
    "# Create the objective expression using a loop\n",
    "objective_expr = 0\n",
    "for i in ExamsList:\n",
    "    for j in ExamsList:\n",
    "        for d in Distance:\n",
    "            objective_expr += Y[i, j, d] * WC_Matrix[i, j] * ((2 ** (5 - d))/2726)\n",
    "\n",
    "# Set up the objective function for minimization\n",
    "model.setObjective(objective_expr, GRB.MINIMIZE)"
   ]
  },
  {
   "cell_type": "code",
   "execution_count": 21,
   "metadata": {},
   "outputs": [],
   "source": [
    "# Time limit for the model\n",
    "model.Params.TimeLimit = 1200"
   ]
  },
  {
   "cell_type": "code",
   "execution_count": 22,
   "metadata": {},
   "outputs": [],
   "source": [
    "model.update()"
   ]
  },
  {
   "cell_type": "code",
   "execution_count": 23,
   "metadata": {},
   "outputs": [
    {
     "name": "stdout",
     "output_type": "stream",
     "text": [
      "Gurobi Optimizer version 10.0.2 build v10.0.2rc0 (win64)\n",
      "\n",
      "CPU model: 12th Gen Intel(R) Core(TM) i5-1235U, instruction set [SSE2|AVX|AVX2]\n",
      "Thread count: 10 physical cores, 12 logical processors, using up to 1 threads\n",
      "\n",
      "Optimize a model with 3299406 rows, 732663 columns and 2488626 nonzeros\n",
      "Model fingerprint: 0x7be1b776\n",
      "Variable types: 0 continuous, 732663 integer (732663 binary)\n",
      "Coefficient statistics:\n",
      "  Matrix range     [1e+00, 1e+00]\n",
      "  Objective range  [4e-04, 1e+00]\n",
      "  Bounds range     [1e+00, 1e+00]\n",
      "  RHS range        [1e+00, 1e+00]\n",
      "Presolve removed 2603033 rows and 680531 columns (presolve time = 5s) ...\n",
      "Presolve removed 2603061 rows and 680531 columns (presolve time = 10s) ...\n",
      "Sparsify removed 354 nonzeros (0%)\n",
      "Presolve removed 2603061 rows and 680501 columns\n",
      "Presolve time: 10.93s\n",
      "Presolved: 696345 rows, 52162 columns, 2146213 nonzeros\n",
      "Variable types: 0 continuous, 52162 integer (52161 binary)\n",
      "Root relaxation presolved: 52162 rows, 748507 columns, 2198375 nonzeros\n",
      "\n",
      "\n",
      "Root simplex log...\n",
      "\n",
      "Iteration    Objective       Primal Inf.    Dual Inf.      Time\n",
      "       0   -0.0000000e+00   0.000000e+00   4.080000e+02     13s\n",
      "   10930    4.2711825e-02   0.000000e+00   1.202205e+05     15s\n",
      "   43382    7.5753569e-02   0.000000e+00   2.135324e+03     20s\n",
      "   60198   -0.0000000e+00   0.000000e+00   0.000000e+00     23s\n",
      "   60198   -0.0000000e+00   0.000000e+00   0.000000e+00     23s\n",
      "   60198    0.0000000e+00   0.000000e+00   0.000000e+00     23s\n",
      "\n",
      "Root relaxation: objective 0.000000e+00, 60198 iterations, 10.76 seconds (23.04 work units)\n",
      "\n",
      "    Nodes    |    Current Node    |     Objective Bounds      |     Work\n",
      " Expl Unexpl |  Obj  Depth IntInf | Incumbent    BestBd   Gap | It/Node Time\n",
      "\n",
      "     0     0    0.00000    0 1190          -    0.00000      -     -   60s\n",
      "     0     0    0.00000    0 1390          -    0.00000      -     -  216s\n",
      "     0     0    0.00000    0 1405          -    0.00000      -     -  343s\n",
      "     0     0    0.00000    0 1526          -    0.00000      -     -  592s\n",
      "     0     0    0.00000    0 1530          -    0.00000      -     -  743s\n",
      "     0     0    0.00000    0 1565          -    0.00000      -     -  986s\n",
      "     0     0    0.00000    0 1531          -    0.00000      -     - 1135s\n",
      "     0     0          -    0               -    0.00000      -     - 1200s\n",
      "\n",
      "Cutting planes:\n",
      "  Clique: 125\n",
      "  MIR: 29\n",
      "  Zero half: 151\n",
      "  RLT: 3290\n",
      "  BQP: 2510\n",
      "\n",
      "Explored 1 nodes (233086 simplex iterations) in 1200.06 seconds (4159.76 work units)\n",
      "Thread count was 1 (of 12 available processors)\n",
      "\n",
      "Solution count 0\n",
      "\n",
      "Time limit reached\n",
      "Best objective -, best bound 0.000000000000e+00, gap -\n"
     ]
    }
   ],
   "source": [
    "model.optimize()"
   ]
  },
  {
   "cell_type": "code",
   "execution_count": 24,
   "metadata": {},
   "outputs": [
    {
     "name": "stdout",
     "output_type": "stream",
     "text": [
      "Gurobi Optimizer version 10.0.2 build v10.0.2rc0 (win64)\n",
      "\n",
      "CPU model: 12th Gen Intel(R) Core(TM) i5-1235U, instruction set [SSE2|AVX|AVX2]\n",
      "Thread count: 10 physical cores, 12 logical processors, using up to 1 threads\n",
      "\n",
      "Optimize a model with 3299406 rows, 732663 columns and 2488626 nonzeros\n",
      "Model fingerprint: 0x7be1b776\n",
      "Variable types: 0 continuous, 732663 integer (732663 binary)\n",
      "Coefficient statistics:\n",
      "  Matrix range     [1e+00, 1e+00]\n",
      "  Objective range  [4e-04, 1e+00]\n",
      "  Bounds range     [1e+00, 1e+00]\n",
      "  RHS range        [1e+00, 1e+00]\n",
      "Presolved: 696345 rows, 52162 columns, 2146213 nonzeros\n",
      "\n",
      "Continuing optimization...\n",
      "\n",
      "     0     0    0.00000    0 1281          -    0.00000      -     - 1258s\n",
      "     0     0    0.00000    0 1342          -    0.00000      -     - 1362s\n",
      "     0     0    0.00000    0 1342          -    0.00000      -     - 1428s\n",
      "H    0     0                      19.8360235    0.00000   100%     - 1619s\n",
      "H    0     0                      19.7377109    0.00000   100%     - 1633s\n",
      "H    0     0                      19.7201027    0.00000   100%     - 1736s\n",
      "     0     2    0.00000    0 1342   19.72010    0.00000   100%     - 1736s\n",
      "     1     3    0.00000    1 1277   19.72010    0.00000   100% 10675 1738s\n",
      "     2     4    0.00000    1 1049   19.72010    0.00000   100% 10820 1784s\n",
      "     3     5    0.00000    2 1194   19.72010    0.00000   100%  7383 1788s\n",
      "     4     6    0.00000    2 1212   19.72010    0.00000   100%  5639 1792s\n",
      "     5     7    0.00000    3 1078   19.72010    0.00000   100%  6402 1834s\n",
      "     6     8    0.00000    3 1146   19.72010    0.00000   100%  5435 1839s\n",
      "     7     9    0.00000    4 1126   19.72010    0.00000   100%  4711 1841s\n",
      "     8    10    0.00000    4 1117   19.72010    0.00000   100%  6339 1923s\n",
      "     9    11    0.00000    5 1042   19.72010    0.00000   100%  5895 1968s\n",
      "    10    12    0.00000    6 1113   19.72010    0.00000   100%  5807 2014s\n",
      "    11    13    0.01178    6 1339   19.72010    0.00000   100% 10319 2320s\n",
      "\n",
      "Cutting planes:\n",
      "  Gomory: 1\n",
      "  Clique: 25\n",
      "  MIR: 12\n",
      "  Zero half: 4\n",
      "  RLT: 456\n",
      "  BQP: 47\n",
      "\n",
      "Explored 12 nodes (446542 simplex iterations) in 1200.13 seconds (3219.97 work units)\n",
      "Thread count was 1 (of 12 available processors)\n",
      "\n",
      "Solution count 3: 19.7201 19.7377 19.836 \n",
      "\n",
      "Time limit reached\n",
      "Best objective 1.972010271460e+01, best bound 0.000000000000e+00, gap 100.0000%\n"
     ]
    }
   ],
   "source": [
    "if model.Status == gp.GRB.TIME_LIMIT:\n",
    "\n",
    "    # Extend the time limit\n",
    "    extended_time_limit =1200 # Set the extended time limit in seconds\n",
    "    model.setParam('TimeLimit', extended_time_limit)\n",
    "\n",
    "    # Continue the optimization\n",
    "    model.optimize()"
   ]
  },
  {
   "cell_type": "code",
   "execution_count": 25,
   "metadata": {},
   "outputs": [
    {
     "name": "stdout",
     "output_type": "stream",
     "text": [
      "Objective Value: 19.7201027146001\n"
     ]
    }
   ],
   "source": [
    "if model.Status == GRB.OPTIMAL:\n",
    "    print(\"Optimization was successful and an optimal solution was found.\")\n",
    "elif model.Status == GRB.INFEASIBLE:\n",
    "    print(\"The model is infeasible - no feasible solution exists.\")\n",
    "elif model.Status == GRB.UNBOUNDED:\n",
    "    print(\"The model is unbounded - the objective can be improved without limit.\")\n",
    "print(\"Objective Value:\", model.objVal)"
   ]
  },
  {
   "cell_type": "code",
   "execution_count": 26,
   "metadata": {},
   "outputs": [
    {
     "name": "stdout",
     "output_type": "stream",
     "text": [
      "Objective Value: 19.7201027146001\n"
     ]
    }
   ],
   "source": [
    "print(\"Objective Value:\", model.objVal)"
   ]
  },
  {
   "cell_type": "markdown",
   "metadata": {},
   "source": [
    "### Time Slots and Exams in Each Time Slot"
   ]
  },
  {
   "cell_type": "code",
   "execution_count": 27,
   "metadata": {},
   "outputs": [],
   "source": [
    "# Scheduled-Exams in LIST\n",
    "scheduled_exams = []\n",
    "# Print the values of decision variable X\n",
    "for exam in ExamsList:\n",
    "    for time in TimeList:\n",
    "        if X[exam, time].x > 0.5:\n",
    "            scheduled_exams.append((exam, time))"
   ]
  },
  {
   "cell_type": "code",
   "execution_count": 28,
   "metadata": {},
   "outputs": [
    {
     "name": "stdout",
     "output_type": "stream",
     "text": [
      "Time Slot 0: Exams [33, 58, 74, 80, 87, 94, 98, 103, 109, 112, 124, 130, 181, 195, 202, 204, 212, 214, 215, 221, 252, 255, 262, 276, 280, 288, 293, 304, 324, 326, 348, 357]\n",
      "Time Slot 1: Exams [2, 6, 35, 44, 72, 84, 85, 110, 114, 149, 159, 164, 172, 174, 176, 196, 213, 222, 235, 246, 253, 258, 274, 277, 284, 297, 310, 313, 331, 338, 339, 373, 378, 380]\n",
      "Time Slot 2: Exams [8, 41, 63, 75, 102, 111, 126, 140, 198, 209, 238, 299, 300, 305, 333, 349, 356, 376, 377]\n",
      "Time Slot 3: Exams [16, 48, 50, 53, 65, 82, 91, 92, 101, 118, 119, 135, 166, 191, 226, 237, 256, 265, 267, 282, 303, 317, 353]\n",
      "Time Slot 4: Exams [24, 32, 60, 93, 115, 144, 187, 194, 205, 227, 229, 243, 263, 270, 301, 308, 318, 332, 345, 352, 361, 379]\n",
      "Time Slot 5: Exams [17, 20, 31, 42, 46, 56, 71, 146, 156, 192, 242, 281, 286, 296, 321]\n",
      "Time Slot 6: Exams [1, 19, 22, 23, 40, 68, 78, 128, 141, 142, 153, 207, 266, 290, 294, 315, 337, 351]\n",
      "Time Slot 7: Exams [11, 15, 37, 59, 95, 97, 137, 138, 147, 162, 169, 177, 180, 231, 268, 272, 292, 334, 336, 366, 369, 371, 375]\n",
      "Time Slot 8: Exams [25, 51, 79, 105, 131, 168, 170, 201, 211, 219, 232, 239, 249, 261, 275, 306, 319, 322, 323, 344, 367]\n",
      "Time Slot 9: Exams [29, 45, 76, 104, 190, 240, 259, 289, 307, 311, 320, 363, 364]\n",
      "Time Slot 10: Exams [14, 18, 26, 52, 64, 89, 116, 148, 157, 183, 188, 200, 228, 230, 257, 283, 328, 365]\n",
      "Time Slot 11: Exams [13, 34, 62, 123, 151, 189, 206, 225, 254, 278, 335, 341, 343, 360, 362]\n",
      "Time Slot 12: Exams [12, 30, 117, 139, 145, 178, 182, 197, 208, 223, 245, 248, 250, 316, 327, 340, 342]\n",
      "Time Slot 13: Exams [4, 10, 38, 43, 47, 69, 81, 96, 107, 120, 132, 150, 152, 167, 203, 217, 241, 269, 347, 354]\n",
      "Time Slot 14: Exams [5, 9, 27, 28, 61, 70, 88, 99, 100, 106, 199, 210, 236, 247, 298, 314, 330, 355]\n",
      "Time Slot 15: Exams [21, 39, 49, 57, 66, 73, 77, 86, 125, 143, 175, 179, 234, 244, 251, 264, 271, 287, 295, 350, 359, 370, 372, 374]\n",
      "Time Slot 16: Exams [3, 7, 36, 83, 90, 108, 154, 161, 216, 233, 273, 285, 302, 309, 325, 358]\n",
      "Time Slot 17: Exams [0, 54, 55, 67, 113, 121, 122, 127, 129, 133, 134, 136, 155, 158, 160, 163, 165, 171, 173, 184, 185, 186, 193, 218, 220, 224, 260, 279, 291, 312, 329, 346, 368]\n"
     ]
    }
   ],
   "source": [
    "# Create a dictionary to store exams for each time slot\n",
    "Exams_in_TimeSlots = {}\n",
    "\n",
    "for exam, time in scheduled_exams:\n",
    "    if time not in Exams_in_TimeSlots:\n",
    "        Exams_in_TimeSlots[time] = []\n",
    "    Exams_in_TimeSlots[time].append(exam)\n",
    "\n",
    "# Print the organized structure\n",
    "for time_slot, exams in sorted(Exams_in_TimeSlots.items()):\n",
    "    print(f\"Time Slot {time_slot}: Exams {exams}\")"
   ]
  },
  {
   "cell_type": "code",
   "execution_count": 29,
   "metadata": {},
   "outputs": [],
   "source": [
    "# Sorting the Dic According to Time Slot It Will be Sorted By Keys \n",
    "Exams_in_TimeSlots= dict(sorted(Exams_in_TimeSlots.items()))"
   ]
  },
  {
   "cell_type": "markdown",
   "metadata": {},
   "source": [
    "### Chcking whether there is Conflict Between the Exams In Each Time Slots"
   ]
  },
  {
   "cell_type": "code",
   "execution_count": 30,
   "metadata": {
    "scrolled": true
   },
   "outputs": [],
   "source": [
    "#All pairs of Time Tables exams related to Each time slot-More General\n",
    "All_pairs_in_TimeSlots_Exams = []\n",
    "\n",
    "for time_slot, exams in Exams_in_TimeSlots.items():\n",
    "    exam_pairs = [(exams[i], exams[j]) for i in range(len(exams)) for j in range(i + 1, len(exams))]\n",
    "    All_pairs_in_TimeSlots_Exams.extend(exam_pairs)"
   ]
  },
  {
   "cell_type": "code",
   "execution_count": 31,
   "metadata": {},
   "outputs": [],
   "source": [
    "#Conflicting Exams - The code is Correct\n",
    "List_ConflictExams=[]\n",
    "for i in ExamsList:\n",
    "    for j in ExamsList:\n",
    "        if UC_Matrix[i,j] > 0:\n",
    "            List_ConflictExams.append((i,j))"
   ]
  },
  {
   "cell_type": "code",
   "execution_count": 32,
   "metadata": {},
   "outputs": [
    {
     "name": "stdout",
     "output_type": "stream",
     "text": [
      "The Solution is Feasible Meaning that There is No Conflicting Exam in a All Time Slots\n"
     ]
    }
   ],
   "source": [
    "# To find Whether There is Intersection Between This Lists or Not\n",
    "\n",
    "Set_All_pairs_in_TimeSlots_Exams=set(All_pairs_in_TimeSlots_Exams)\n",
    "Set_List_ConflictExams=set(List_ConflictExams)\n",
    "Common_elements = Set_All_pairs_in_TimeSlots_Exams.intersection(List_ConflictExams)\n",
    "# Find common elements\n",
    "if len (Common_elements) == 0:\n",
    "    print('The Solution is Feasible Meaning that There is No Conflicting Exam in a All Time Slots')\n",
    "else:\n",
    "    print('The Solution is Not Feasible Meaning that There is Conflicting Exam in Time Slots')\n",
    "    \n",
    "\n",
    "\n",
    "# Print the common elements\n",
    "#print(\"Common Elements:\", Common_elements)"
   ]
  },
  {
   "cell_type": "markdown",
   "metadata": {},
   "source": [
    "### Necessary OutPuts "
   ]
  },
  {
   "cell_type": "code",
   "execution_count": 33,
   "metadata": {},
   "outputs": [],
   "source": [
    "output_folder = r\"C:\\Users\\ghadi\\Downloads\\Discrete Optimization Project - Gurobi- Instance 9\"\n",
    "\n",
    "\n",
    "output_file_path = os.path.join(output_folder, \"Discrete Optimization Project- Instance 9 .sol\")\n",
    "\n",
    "# Specify the file name only for model.write()\n",
    "model.write(\"Discrete Optimization Project 2023.sol\")\n",
    "\n",
    "with open(output_file_path, 'w') as f:\n",
    "    # your code here\n",
    "    \n",
    "    # Convert Exams_in_TimeSlots to a string before writing\n",
    "    exams_string = \", \".join(map(str, TimeList))\n",
    "    f.write(f\"Exams Time Slots are: {exams_string}\\n\")\n",
    "    \n",
    "    f.write('\\n\\n')\n",
    "    \n",
    "    if len (Common_elements) == 0:\n",
    "        f.write('The Solution is Feasible Meaning that There is No Conflicting Exam in  All Time Slots')\n",
    "    else:\n",
    "        f.write('The Solution is Not Feasible Meaning that There is Conflicting Exam in Time Slots')\n",
    "        \n",
    "    \n",
    "    f.write('\\n\\n')    \n",
    "        \n",
    "    \n",
    "    for time_slot, exams in sorted(Exams_in_TimeSlots.items()):\n",
    "        f.write(f\"Time Slot {time_slot}: Exams {exams}\\n\")\n",
    "        \n",
    "    f.write('\\n\\n') \n",
    "    \n",
    "    f.write(f\"The Objected Value - Penalty: {model.objVal}\\n\")\n",
    "    f.write(f\"The Benchmark is = 9.818\\n\")\n",
    "    "
   ]
  }
 ],
 "metadata": {
  "kernelspec": {
   "display_name": "Python 3 (ipykernel)",
   "language": "python",
   "name": "python3"
  },
  "language_info": {
   "codemirror_mode": {
    "name": "ipython",
    "version": 3
   },
   "file_extension": ".py",
   "mimetype": "text/x-python",
   "name": "python",
   "nbconvert_exporter": "python",
   "pygments_lexer": "ipython3",
   "version": "3.9.12"
  }
 },
 "nbformat": 4,
 "nbformat_minor": 4
}

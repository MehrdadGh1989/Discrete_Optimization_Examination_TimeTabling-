{
 "cells": [
  {
   "cell_type": "markdown",
   "metadata": {},
   "source": [
    "# Instance 6"
   ]
  },
  {
   "cell_type": "code",
   "execution_count": 1,
   "metadata": {},
   "outputs": [],
   "source": [
    "import os\n",
    "from pyomo.environ import *\n",
    "import numpy as np\n",
    "import pandas as pd\n",
    "import gurobipy as gp\n",
    "from gurobipy import GRB"
   ]
  },
  {
   "cell_type": "markdown",
   "metadata": {},
   "source": [
    "## Importing DataSet"
   ]
  },
  {
   "cell_type": "code",
   "execution_count": 2,
   "metadata": {},
   "outputs": [],
   "source": [
    "file_path = 'Instance_6.xlsx'\n",
    "# Read the Excel file into a dictionary of DataFrames, where keys are sheet names\n",
    "Instance_data = pd.read_excel(file_path, sheet_name=None)"
   ]
  },
  {
   "cell_type": "code",
   "execution_count": 3,
   "metadata": {},
   "outputs": [],
   "source": [
    "# Exam Data Set\n",
    "Exams = Instance_data['Sheet1']\n",
    "Exams['Exams'] = Exams['Exams'] - 1\n",
    "ExamsList = list(Exams['Exams'])"
   ]
  },
  {
   "cell_type": "markdown",
   "metadata": {},
   "source": [
    "### Dictionary of Students and their related Exams"
   ]
  },
  {
   "cell_type": "code",
   "execution_count": 4,
   "metadata": {},
   "outputs": [],
   "source": [
    "# Creating a Dictionary of Students and Their Related Exams\n",
    "Students_exams = Instance_data['Sheet3']\n",
    "Students_exams['ExamNumber'] = Students_exams['ExamNumber'] - 1\n",
    "# Initialize an empty dictionary to store the students and their exams\n",
    "students = {}\n",
    "# Iterate over the rows in the DataFrame\n",
    "for index, row in Students_exams.iterrows():\n",
    "    student = row['Student']\n",
    "    exam_number = row['ExamNumber']\n",
    "    \n",
    "    # Check if the student is already in the dictionary\n",
    "    if student in students:\n",
    "        students[student].append(exam_number)\n",
    "    # If the student is not in the dictionary, create a new key-value pair    \n",
    "    else:\n",
    "        students[student] = [exam_number]"
   ]
  },
  {
   "cell_type": "markdown",
   "metadata": {},
   "source": [
    "### TimeSlots"
   ]
  },
  {
   "cell_type": "code",
   "execution_count": 5,
   "metadata": {},
   "outputs": [],
   "source": [
    "Time_s = Instance_data['Sheet2']\n",
    "time_slots = Time_s.loc[0, 'TimeSlot']\n",
    "TimeList= list(range (time_slots))"
   ]
  },
  {
   "cell_type": "code",
   "execution_count": 6,
   "metadata": {},
   "outputs": [
    {
     "data": {
      "text/plain": [
       "[0,\n",
       " 1,\n",
       " 2,\n",
       " 3,\n",
       " 4,\n",
       " 5,\n",
       " 6,\n",
       " 7,\n",
       " 8,\n",
       " 9,\n",
       " 10,\n",
       " 11,\n",
       " 12,\n",
       " 13,\n",
       " 14,\n",
       " 15,\n",
       " 16,\n",
       " 17,\n",
       " 18,\n",
       " 19,\n",
       " 20,\n",
       " 21,\n",
       " 22,\n",
       " 23,\n",
       " 24,\n",
       " 25,\n",
       " 26,\n",
       " 27,\n",
       " 28,\n",
       " 29,\n",
       " 30,\n",
       " 31,\n",
       " 32,\n",
       " 33,\n",
       " 34]"
      ]
     },
     "execution_count": 6,
     "metadata": {},
     "output_type": "execute_result"
    }
   ],
   "source": [
    "TimeList"
   ]
  },
  {
   "cell_type": "markdown",
   "metadata": {},
   "source": [
    "### Distance"
   ]
  },
  {
   "cell_type": "code",
   "execution_count": 7,
   "metadata": {},
   "outputs": [
    {
     "data": {
      "text/plain": [
       "[1, 2, 3, 4, 5]"
      ]
     },
     "execution_count": 7,
     "metadata": {},
     "output_type": "execute_result"
    }
   ],
   "source": [
    "#Distance\n",
    "Distance=list(range(1,6))\n",
    "Distance"
   ]
  },
  {
   "cell_type": "markdown",
   "metadata": {},
   "source": [
    "###  Finding Conflicted Exams (Weighted-Unweighted)"
   ]
  },
  {
   "cell_type": "code",
   "execution_count": 8,
   "metadata": {},
   "outputs": [],
   "source": [
    "# Unweighted\n",
    "# Step 1: Initialize the dictionary to store conflicting exams\n",
    "conflicting_exams = {exam: set() for exams_list in students.values() for exam in exams_list}\n",
    "\n",
    "# Step 2: Populate the dictionary with conflicting exams\n",
    "for student_exams in students.values():\n",
    "    for i, exam1 in enumerate(student_exams):\n",
    "        for exam2 in student_exams[i + 1:]:\n",
    "            conflicting_exams[exam1].add(exam2)\n",
    "            conflicting_exams[exam2].add(exam1)\n",
    "\n",
    "# Step 3: Create the unweighted conflicting matrix\n",
    "Unweighted_Conflict_Matrix = [\n",
    "    [1 if exam2 in conflicting_exams[exam1] else 0 for exam2 in ExamsList] for exam1 in ExamsList\n",
    "]\n"
   ]
  },
  {
   "cell_type": "code",
   "execution_count": 9,
   "metadata": {},
   "outputs": [],
   "source": [
    "# Weighted\n",
    "\n",
    "# The weighted Conflicting MATRIX\n",
    "# Step 1: Initialize the dictionary to store conflicting exams\n",
    "conflicting_exams = {exam: set() for exams_list in students.values() for exam in exams_list}\n",
    "\n",
    "# Step 2: Populate the dictionary with conflicting exams\n",
    "for student_exams in students.values():\n",
    "    for i, exam1 in enumerate(student_exams):\n",
    "        for exam2 in student_exams[i + 1:]:\n",
    "            conflicting_exams[exam1].add(exam2)\n",
    "            conflicting_exams[exam2].add(exam1)\n",
    "\n",
    "# Step 3: Create the weighted conflicting matrix\n",
    "weighted_conflicting_matrix = [[0 for _ in ExamsList] for _ in ExamsList]\n",
    "\n",
    "# Step 4: Calculate the number of students in each conflicting exam pair and fill the matrix\n",
    "for i, exam1 in enumerate(ExamsList):\n",
    "    for j, exam2 in enumerate(ExamsList):\n",
    "        if exam2 in conflicting_exams[exam1]:\n",
    "            count = sum(1 for student_exams in students.values() if exam1 in student_exams and exam2 in student_exams)\n",
    "            weighted_conflicting_matrix[i][j] = count\n",
    "\n"
   ]
  },
  {
   "cell_type": "markdown",
   "metadata": {},
   "source": [
    "### Converting the Llist of UC and WC to Matrix of Coefficients"
   ]
  },
  {
   "cell_type": "code",
   "execution_count": 10,
   "metadata": {},
   "outputs": [],
   "source": [
    "#Conflicting Exams (Weighted and Unweighted)\n",
    "\n",
    "UC_Matrix=np.array(Unweighted_Conflict_Matrix )\n",
    "WC_Matrix=np.array(weighted_conflicting_matrix)"
   ]
  },
  {
   "cell_type": "code",
   "execution_count": 11,
   "metadata": {},
   "outputs": [
    {
     "data": {
      "text/plain": [
       "array([[0, 1, 1, ..., 0, 0, 0],\n",
       "       [1, 0, 1, ..., 0, 0, 0],\n",
       "       [1, 1, 0, ..., 0, 0, 0],\n",
       "       ...,\n",
       "       [0, 0, 0, ..., 0, 1, 1],\n",
       "       [0, 0, 0, ..., 1, 0, 0],\n",
       "       [0, 0, 0, ..., 1, 0, 0]])"
      ]
     },
     "execution_count": 11,
     "metadata": {},
     "output_type": "execute_result"
    }
   ],
   "source": [
    "UC_Matrix"
   ]
  },
  {
   "cell_type": "code",
   "execution_count": 12,
   "metadata": {},
   "outputs": [
    {
     "data": {
      "text/plain": [
       "array([[ 0, 16,  1, ...,  0,  0,  0],\n",
       "       [16,  0,  2, ...,  0,  0,  0],\n",
       "       [ 1,  2,  0, ...,  0,  0,  0],\n",
       "       ...,\n",
       "       [ 0,  0,  0, ...,  0,  1,  5],\n",
       "       [ 0,  0,  0, ...,  1,  0,  0],\n",
       "       [ 0,  0,  0, ...,  5,  0,  0]])"
      ]
     },
     "execution_count": 12,
     "metadata": {},
     "output_type": "execute_result"
    }
   ],
   "source": [
    "WC_Matrix"
   ]
  },
  {
   "cell_type": "code",
   "execution_count": 13,
   "metadata": {},
   "outputs": [
    {
     "name": "stdout",
     "output_type": "stream",
     "text": [
      "Set parameter Username\n",
      "Set parameter LogFile to value \"C:\\Users\\ghadi\\Downloads\\Discrete Optimization Project - Gurobi- Instance 6\\Discrete Optimization Project - Instance 6-Log File.log\"\n",
      "Academic license - for non-commercial use only - expires 2024-07-07\n",
      "Set parameter Threads to value 1\n",
      "Set parameter Presolve to value 1\n",
      "Set parameter Method to value 0\n",
      "Set parameter TimeLimit to value 1200\n",
      "Set parameter PreSparsify to value 1\n"
     ]
    }
   ],
   "source": [
    "# Setting up the environment\n",
    "\n",
    "\n",
    "env = gp.Env(\n",
    "    r\"C:\\Users\\ghadi\\Downloads\\Discrete Optimization Project - Gurobi- Instance 6\\Discrete Optimization Project - Instance 6-Log File.log\")\n",
    "env.start()\n",
    "\n",
    "# Environment parameters\n",
    "env.setParam(\"Threads\", 1)  # Controls the number of threads to apply to parallel algorithms\n",
    "env.setParam(\"Presolve\", 1)  # Controls the presolve level. conservative (1).\n",
    "env.setParam(\"MIPGap\", 1e-4)\n",
    "env.setParam('Method', 0)  # Algorithm used to solve the initial root relaxation of a MIP model. 0=primal simplex.\n",
    "env.setParam(\"TimeLimit\", 1200)  # 20 minutes time limit\n",
    "env.setParam(\"PreSparsify\", 1) # to reduce the memory used\n"
   ]
  },
  {
   "cell_type": "markdown",
   "metadata": {},
   "source": [
    "### Defining Gurobi Model"
   ]
  },
  {
   "cell_type": "code",
   "execution_count": 14,
   "metadata": {},
   "outputs": [],
   "source": [
    "model = gp.Model(\"Exam_Scheduling\", env=env)"
   ]
  },
  {
   "cell_type": "markdown",
   "metadata": {},
   "source": [
    "### Defining Decision Variable and Auxiliary Variable"
   ]
  },
  {
   "cell_type": "code",
   "execution_count": 15,
   "metadata": {},
   "outputs": [],
   "source": [
    "#Decision Variable\n",
    "X = model.addVars(ExamsList, TimeList , vtype=GRB.BINARY, name=\"X\")"
   ]
  },
  {
   "cell_type": "code",
   "execution_count": 16,
   "metadata": {},
   "outputs": [],
   "source": [
    "# Binary auxiliary variable for controlling conflict\n",
    "Y = model.addVars(ExamsList, ExamsList, Distance, vtype=GRB.BINARY, name=\"Y\")"
   ]
  },
  {
   "cell_type": "markdown",
   "metadata": {},
   "source": [
    "###  Defining Constraints "
   ]
  },
  {
   "cell_type": "code",
   "execution_count": 17,
   "metadata": {},
   "outputs": [],
   "source": [
    "#Constraint 1\n",
    "model.addConstrs(UC_Matrix[i, j] * (X[i, k] + X[j, k]) <= 1 for i in ExamsList for j in ExamsList for k in TimeList)\n",
    "model.update()"
   ]
  },
  {
   "cell_type": "code",
   "execution_count": 18,
   "metadata": {},
   "outputs": [],
   "source": [
    "#Constraint 2\n",
    "model.addConstrs(sum(X[i, k] for k in TimeList) == 1 for i in ExamsList for k in TimeList)\n",
    "model.update()"
   ]
  },
  {
   "cell_type": "code",
   "execution_count": 19,
   "metadata": {},
   "outputs": [],
   "source": [
    "#Constraint C3\n",
    "model.addConstrs((X[i, k] + X[j, k + d]) <= Y[i, j, d] + 1 for i in ExamsList for j in ExamsList for k in TimeList for d in Distance if (k + d) in TimeList and UC_Matrix[i, j] != 0)\n",
    "model.update()"
   ]
  },
  {
   "cell_type": "markdown",
   "metadata": {},
   "source": [
    "### Defining Objective Function"
   ]
  },
  {
   "cell_type": "code",
   "execution_count": 20,
   "metadata": {},
   "outputs": [],
   "source": [
    "# Create the objective expression using a loop\n",
    "objective_expr = 0\n",
    "for i in ExamsList:\n",
    "    for j in ExamsList:\n",
    "        for d in Distance:\n",
    "            objective_expr += Y[i, j, d] * WC_Matrix[i, j] * ((2 ** (5 - d))/21266)\n",
    "\n",
    "# Set up the objective function for minimization\n",
    "model.setObjective(objective_expr, GRB.MINIMIZE)"
   ]
  },
  {
   "cell_type": "code",
   "execution_count": 21,
   "metadata": {},
   "outputs": [],
   "source": [
    "# Time limit for the model\n",
    "model.Params.TimeLimit = 1200"
   ]
  },
  {
   "cell_type": "code",
   "execution_count": 22,
   "metadata": {},
   "outputs": [],
   "source": [
    "model.update()"
   ]
  },
  {
   "cell_type": "code",
   "execution_count": 23,
   "metadata": {},
   "outputs": [
    {
     "name": "stdout",
     "output_type": "stream",
     "text": [
      "Gurobi Optimizer version 10.0.2 build v10.0.2rc0 (win64)\n",
      "\n",
      "CPU model: 12th Gen Intel(R) Core(TM) i5-1235U, instruction set [SSE2|AVX|AVX2]\n",
      "Thread count: 10 physical cores, 12 logical processors, using up to 1 threads\n",
      "\n",
      "Optimize a model with 21322390 rows, 1956190 columns and 27435850 nonzeros\n",
      "Model fingerprint: 0xc62f1b43\n",
      "Variable types: 0 continuous, 1956190 integer (1956190 binary)\n",
      "Coefficient statistics:\n",
      "  Matrix range     [1e+00, 1e+00]\n",
      "  Objective range  [5e-05, 6e-01]\n",
      "  Bounds range     [1e+00, 1e+00]\n",
      "  RHS range        [1e+00, 1e+00]\n",
      "Presolve removed 11843510 rows and 1691930 columns (presolve time = 5s) ...\n",
      "Presolve removed 12713373 rows and 1691930 columns (presolve time = 10s) ...\n",
      "Presolve removed 12713373 rows and 1691930 columns (presolve time = 15s) ...\n",
      "Presolve removed 13363915 rows and 1691930 columns (presolve time = 20s) ...\n",
      "Presolve removed 13366413 rows and 1691930 columns (presolve time = 25s) ...\n",
      "Presolve removed 13368201 rows and 1691930 columns (presolve time = 30s) ...\n",
      "Presolve removed 13370144 rows and 1691930 columns (presolve time = 35s) ...\n",
      "Presolve removed 13371860 rows and 1691930 columns (presolve time = 40s) ...\n",
      "Presolve removed 13373313 rows and 1691930 columns (presolve time = 45s) ...\n",
      "Presolve removed 13374823 rows and 1691930 columns (presolve time = 50s) ...\n",
      "Presolve removed 13375797 rows and 1691930 columns (presolve time = 55s) ...\n",
      "Presolve removed 13376942 rows and 1691930 columns (presolve time = 60s) ...\n",
      "Presolve removed 13378138 rows and 1691930 columns (presolve time = 65s) ...\n",
      "Presolve removed 13380351 rows and 1691930 columns (presolve time = 70s) ...\n",
      "Presolve removed 13381537 rows and 1691930 columns (presolve time = 75s) ...\n",
      "Presolve removed 13381537 rows and 1691930 columns (presolve time = 81s) ...\n",
      "Presolve removed 13381537 rows and 1691930 columns (presolve time = 85s) ...\n",
      "Presolve removed 13381542 rows and 1691930 columns (presolve time = 90s) ...\n",
      "Presolve removed 13381732 rows and 1691930 columns (presolve time = 95s) ...\n",
      "Presolve removed 13381732 rows and 1691930 columns (presolve time = 100s) ...\n",
      "Presolve removed 13381732 rows and 1691930 columns (presolve time = 105s) ...\n",
      "Presolve removed 13381732 rows and 1691930 columns (presolve time = 110s) ...\n",
      "Presolve removed 13381732 rows and 1691930 columns (presolve time = 115s) ...\n",
      "Presolve removed 13381732 rows and 1691930 columns (presolve time = 120s) ...\n",
      "Presolve removed 13381732 rows and 1691930 columns (presolve time = 125s) ...\n",
      "Presolve removed 13381732 rows and 1691930 columns (presolve time = 130s) ...\n",
      "Presolve removed 13381732 rows and 1691930 columns (presolve time = 135s) ...\n",
      "Presolve removed 13381732 rows and 1691930 columns (presolve time = 142s) ...\n",
      "Presolve removed 13381732 rows and 1691930 columns (presolve time = 145s) ...\n",
      "Sparsify removed 166 nonzeros (0%)\n",
      "Presolve removed 13381732 rows and 1691912 columns\n",
      "Presolve time: 149.37s\n",
      "Presolved: 7940658 rows, 264278 columns, 24203385 nonzeros\n",
      "Variable types: 0 continuous, 264278 integer (264278 binary)\n",
      "Root relaxation presolved: 264278 rows, 8204936 columns, 24467663 nonzeros\n",
      "\n",
      "\n",
      "Root simplex log...\n",
      "\n",
      "Iteration    Objective       Primal Inf.    Dual Inf.      Time\n",
      "       0   -0.0000000e+00   0.000000e+00   6.400000e+02    185s\n",
      "    3189   -0.0000000e+00   0.000000e+00   2.249047e+05    186s\n",
      "    8709    2.6470804e-02   0.000000e+00   1.165640e+06    191s\n",
      "   14229    4.2076626e-02   0.000000e+00   1.122279e+06    196s\n",
      "   19749    5.1954257e-02   0.000000e+00   1.340535e+06    200s\n",
      "   28029    6.1969213e-02   0.000000e+00   1.429846e+06    207s\n",
      "   33549    6.9306852e-02   0.000000e+00   5.165249e+05    211s\n",
      "   41829    7.6939035e-02   0.000000e+00   4.931131e+05    217s\n",
      "   47349    8.2090272e-02   0.000000e+00   3.998961e+05    222s\n",
      "   52869    8.7146331e-02   0.000000e+00   6.051955e+05    226s\n",
      "   58389    9.2340772e-02   0.000000e+00   1.031402e+06    231s\n",
      "   66669    9.9515293e-02   0.000000e+00   2.899801e+05    237s\n",
      "   72189    1.0348916e-01   0.000000e+00   4.714811e+05    242s\n",
      "   77709    1.0681810e-01   0.000000e+00   4.667239e+05    246s\n",
      "   85989    1.1179522e-01   0.000000e+00   2.200062e+05    252s\n",
      "   88749    1.1306636e-01   0.000000e+00   3.134755e+05    255s\n",
      "   97029    1.1720485e-01   0.000000e+00   4.675328e+05    261s\n",
      "  102549    1.1992935e-01   0.000000e+00   5.065421e+05    265s\n",
      "  108069    1.2334826e-01   0.000000e+00   3.842139e+05    271s\n",
      "  116349    1.2816381e-01   0.000000e+00   3.748765e+05    277s\n",
      "  121869    1.3111855e-01   0.000000e+00   1.327368e+06    281s\n",
      "  127389    1.3317140e-01   0.000000e+00   1.942307e+05    286s\n",
      "  132909    1.3561427e-01   0.000000e+00   1.976415e+05    292s\n",
      "  138429    1.3800274e-01   0.000000e+00   7.535126e+05    296s\n",
      "  143949    1.4017134e-01   0.000000e+00   6.382900e+05    301s\n",
      "  149469    1.4205644e-01   0.000000e+00   9.432475e+05    306s\n",
      "  154989    1.4458230e-01   0.000000e+00   2.320959e+05    310s\n",
      "  163269    1.4801560e-01   0.000000e+00   5.606852e+05    316s\n",
      "  168789    1.4990287e-01   0.000000e+00   1.976304e+05    321s\n",
      "  174309    1.5177311e-01   0.000000e+00   4.601653e+05    326s\n",
      "  179829    1.5353827e-01   0.000000e+00   2.388012e+05    331s\n",
      "  185349    1.5554499e-01   0.000000e+00   1.191880e+05    336s\n",
      "  193629    1.5809764e-01   0.000000e+00   4.787101e+05    342s\n",
      "  199149    1.5962965e-01   0.000000e+00   2.282908e+05    346s\n",
      "  204669    1.6093039e-01   0.000000e+00   2.144355e+05    352s\n",
      "  210189    1.6277804e-01   0.000000e+00   2.289231e+05    356s\n",
      "  218469    1.6510694e-01   0.000000e+00   2.620241e+05    362s\n",
      "  223989    1.6675006e-01   0.000000e+00   1.501613e+05    367s\n",
      "  229509    1.6810809e-01   0.000000e+00   1.280132e+05    371s\n",
      "  237789    1.7025408e-01   0.000000e+00   1.386155e+05    377s\n",
      "  243309    1.7183226e-01   0.000000e+00   1.006365e+05    381s\n",
      "  248829    1.7317384e-01   0.000000e+00   1.403694e+05    386s\n",
      "  254349    1.7461618e-01   0.000000e+00   1.378804e+05    390s\n",
      "  262629    1.7653970e-01   0.000000e+00   2.919007e+05    396s\n",
      "  268149    1.7821701e-01   0.000000e+00   1.311754e+05    401s\n",
      "  273669    1.7941203e-01   0.000000e+00   1.455115e+05    405s\n",
      "  281949    1.8182932e-01   0.000000e+00   8.018193e+04    412s\n",
      "  287469    1.8300971e-01   0.000000e+00   9.572146e+04    417s\n",
      "  292989    1.8425609e-01   0.000000e+00   1.276894e+05    421s\n",
      "  298509    1.8554910e-01   0.000000e+00   5.730829e+05    425s\n",
      "  306789    1.8735900e-01   0.000000e+00   1.261014e+05    432s\n",
      "  312309    1.8864607e-01   0.000000e+00   3.180433e+05    436s\n",
      "  317829    1.8993158e-01   0.000000e+00   7.184035e+04    441s\n",
      "  323349    1.9088746e-01   0.000000e+00   1.703271e+05    446s\n",
      "  328869    1.9213714e-01   0.000000e+00   4.625551e+05    451s\n",
      "  337149    1.9399086e-01   0.000000e+00   1.300094e+05    457s\n",
      "  342669    1.9516279e-01   0.000000e+00   7.431286e+04    461s\n",
      "  348189    1.9642114e-01   0.000000e+00   1.118721e+05    465s\n",
      "  356469    1.9778126e-01   0.000000e+00   4.415058e+05    471s\n",
      "  361989    1.9879353e-01   0.000000e+00   1.138806e+05    475s\n",
      "  367509    1.9989769e-01   0.000000e+00   3.798572e+05    480s\n",
      "  375789    2.0148791e-01   0.000000e+00   2.681027e+05    487s\n",
      "  381309    2.0254783e-01   0.000000e+00   1.818470e+05    491s\n",
      "  386829    2.0372508e-01   0.000000e+00   1.672536e+05    496s\n",
      "  392349    2.0478178e-01   0.000000e+00   1.923840e+05    501s\n",
      "  397869    2.0572388e-01   0.000000e+00   3.017082e+05    505s\n",
      "  403389    2.0676920e-01   0.000000e+00   4.703036e+05    511s\n",
      "  408909    2.0780385e-01   0.000000e+00   1.956458e+05    516s\n",
      "  414429    2.0881343e-01   0.000000e+00   2.372241e+05    520s\n",
      "  419949    2.0977859e-01   0.000000e+00   2.199445e+05    526s\n",
      "  425469    2.1077655e-01   0.000000e+00   1.741233e+05    531s\n",
      "  430989    2.1173812e-01   0.000000e+00   1.260977e+05    536s\n",
      "  436509    2.1271275e-01   0.000000e+00   9.499415e+04    541s\n",
      "  442029    2.1370556e-01   0.000000e+00   1.752998e+05    546s\n",
      "  447549    2.1471932e-01   0.000000e+00   1.845000e+05    551s\n",
      "  453069    2.1575669e-01   0.000000e+00   1.220764e+05    556s\n",
      "  458589    2.1673081e-01   0.000000e+00   3.098092e+05    561s\n",
      "  464109    2.1799133e-01   0.000000e+00   6.409606e+04    566s\n",
      "  469629    2.1890054e-01   0.000000e+00   2.528218e+05    570s\n"
     ]
    },
    {
     "name": "stdout",
     "output_type": "stream",
     "text": [
      "  475149    2.1986659e-01   0.000000e+00   1.012309e+05    576s\n",
      "  480669    2.2079309e-01   0.000000e+00   1.960059e+04    581s\n",
      "  486189    2.2161803e-01   0.000000e+00   2.114079e+05    588s\n",
      "  488949    2.2212360e-01   0.000000e+00   9.473797e+04    591s\n",
      "  494469    2.2300002e-01   0.000000e+00   2.613689e+05    596s\n",
      "  499989    2.2378986e-01   0.000000e+00   3.356980e+05    601s\n",
      "  505509    2.2467765e-01   0.000000e+00   1.241617e+05    606s\n",
      "  511029    2.2557144e-01   0.000000e+00   1.532401e+05    611s\n",
      "  516549    2.2649695e-01   0.000000e+00   1.997071e+05    616s\n",
      "  522069    2.2740893e-01   0.000000e+00   1.463486e+05    621s\n",
      "  527589    2.2829227e-01   0.000000e+00   8.297058e+04    627s\n",
      "  533109    2.2923118e-01   0.000000e+00   2.994745e+05    631s\n",
      "  538629    2.3006480e-01   0.000000e+00   8.260839e+04    636s\n",
      "  544149    2.3096255e-01   0.000000e+00   2.120726e+05    642s\n",
      "  549669    2.3185920e-01   0.000000e+00   1.477758e+05    647s\n",
      "  555189    2.3267407e-01   0.000000e+00   1.006644e+05    651s\n",
      "  560709    2.3341307e-01   0.000000e+00   1.097030e+05    657s\n",
      "  566229    2.3412113e-01   0.000000e+00   1.076662e+05    661s\n",
      "  571749    2.3509222e-01   0.000000e+00   3.691535e+04    666s\n",
      "  577269    2.3641381e-01   0.000000e+00   6.847260e+04    672s\n",
      "  582789    2.3746648e-01   0.000000e+00   7.274113e+04    676s\n",
      "  588309    2.3830820e-01   0.000000e+00   5.712394e+05    680s\n",
      "  596589    2.3944391e-01   0.000000e+00   4.000314e+05    687s\n",
      "  602109    2.4025531e-01   0.000000e+00   2.140560e+05    691s\n",
      "  607629    2.4104925e-01   0.000000e+00   2.932354e+04    696s\n",
      "  613149    2.4180271e-01   0.000000e+00   6.275371e+04    700s\n",
      "  618669    2.4257735e-01   0.000000e+00   1.560870e+05    705s\n",
      "  626949    2.4376578e-01   0.000000e+00   3.494413e+05    711s\n",
      "  632469    2.4440889e-01   0.000000e+00   6.820933e+04    715s\n",
      "  637989    2.4520677e-01   0.000000e+00   2.260077e+05    721s\n",
      "  646269    2.4626167e-01   0.000000e+00   1.238379e+05    727s\n",
      "  651789    2.4706757e-01   0.000000e+00   5.594754e+04    731s\n",
      "  657309    2.4779408e-01   0.000000e+00   1.183310e+05    736s\n",
      "  662829    2.4853508e-01   0.000000e+00   1.124119e+05    742s\n",
      "  668349    2.4944287e-01   0.000000e+00   4.539160e+04    747s\n",
      "  673869    2.5022654e-01   0.000000e+00   8.037538e+04    752s\n",
      "  679389    2.5102780e-01   0.000000e+00   1.821972e+05    756s\n",
      "  684909    2.5173503e-01   0.000000e+00   5.055230e+04    760s\n",
      "  690429    2.5246155e-01   0.000000e+00   2.294429e+05    765s\n",
      "  698709    2.5349171e-01   0.000000e+00   1.256497e+05    772s\n",
      "  704229    2.5438580e-01   0.000000e+00   1.509752e+05    776s\n",
      "  709749    2.5509277e-01   0.000000e+00   2.114498e+04    781s\n",
      "  715269    2.5610882e-01   0.000000e+00   3.008636e+04    786s\n",
      "  720789    2.5690502e-01   0.000000e+00   8.391611e+04    790s\n",
      "  729069    2.5832103e-01   0.000000e+00   5.115980e+04    797s\n",
      "  734589    2.5935740e-01   0.000000e+00   4.530907e+04    802s\n",
      "  740109    2.6000982e-01   0.000000e+00   5.081596e+04    806s\n",
      "  745629    2.6066073e-01   0.000000e+00   1.064883e+05    811s\n",
      "  751149    2.6155891e-01   0.000000e+00   7.059310e+04    816s\n",
      "  759429    2.6294233e-01   0.000000e+00   8.410303e+04    822s\n",
      "  764949    2.6360914e-01   0.000000e+00   1.476035e+05    826s\n",
      "  770469    2.6422107e-01   0.000000e+00   1.295332e+05    831s\n",
      "  778749    2.6519340e-01   0.000000e+00   4.947102e+04    837s\n",
      "  784269    2.6584509e-01   0.000000e+00   1.253106e+05    841s\n",
      "  789789    2.6685186e-01   0.000000e+00   4.759849e+05    846s\n",
      "  795309    2.6758364e-01   0.000000e+00   2.717206e+05    851s\n",
      "  803589    2.6901211e-01   0.000000e+00   1.761558e+05    857s\n",
      "  809109    2.7007949e-01   0.000000e+00   7.657001e+03    862s\n",
      "  814629    2.7083302e-01   0.000000e+00   2.291900e+04    867s\n",
      "  820149    2.7151168e-01   0.000000e+00   3.828829e+04    871s\n",
      "  825669    2.7230890e-01   0.000000e+00   2.767421e+04    876s\n",
      "  831189    2.7319982e-01   0.000000e+00   7.376585e+04    882s\n",
      "  836709    2.7401754e-01   0.000000e+00   3.404364e+04    887s\n",
      "  842229    2.7472843e-01   0.000000e+00   3.438635e+04    892s\n",
      "  847749    2.7547866e-01   0.000000e+00   2.406194e+04    897s\n",
      "  853269    2.7645750e-01   0.000000e+00   6.390380e+03    902s\n",
      "  858789    2.7727993e-01   0.000000e+00   1.112530e+04    907s\n",
      "  861549    2.7754272e-01   0.000000e+00   4.693874e+04    910s\n",
      "  867069    2.7852297e-01   0.000000e+00   2.011675e+04    915s\n",
      "  875349    2.7985084e-01   0.000000e+00   1.532982e+04    922s\n",
      "  880869    2.8050350e-01   0.000000e+00   1.853736e+04    928s\n",
      "  883629    2.8087382e-01   0.000000e+00   2.050626e+04    930s\n",
      "  891909    2.8225919e-01   0.000000e+00   3.360446e+04    937s\n",
      "  897429    2.8306809e-01   0.000000e+00   5.069639e+03    942s\n",
      "  900189    2.8341255e-01   0.000000e+00   6.600893e+03    945s\n",
      "  908469    2.8474141e-01   0.000000e+00   3.766888e+03    952s\n",
      "  913989    2.8560583e-01   0.000000e+00   1.095438e+05    957s\n",
      "  919509    2.8635722e-01   0.000000e+00   9.188211e+05    962s\n",
      "  925029    2.8691341e-01   0.000000e+00   4.772469e+04    966s\n",
      "  930549    2.8753184e-01   0.000000e+00   7.410897e+04    970s\n",
      "  936069    2.8817992e-01   0.000000e+00   9.898877e+04    975s\n",
      "  944349    2.8916533e-01   0.000000e+00   1.997179e+04    982s\n",
      "  949869    2.8992621e-01   0.000000e+00   9.545941e+03    986s\n",
      "  955389    2.9062737e-01   0.000000e+00   8.985577e+03    992s\n",
      "  960909    2.9130781e-01   0.000000e+00   9.042907e+04    997s\n",
      "  966429    2.9222723e-01   0.000000e+00   1.130561e+05   1002s\n",
      "  971949    2.9283056e-01   0.000000e+00   7.964341e+04   1008s\n",
      "  974709    2.9327273e-01   0.000000e+00   2.688394e+03   1010s\n",
      "  982989    2.9427686e-01   0.000000e+00   3.327778e+04   1017s\n",
      "  988509    2.9504479e-01   0.000000e+00   3.599829e+03   1022s\n",
      "  994029    2.9578635e-01   0.000000e+00   7.458739e+03   1027s\n",
      "  999549    2.9642599e-01   0.000000e+00   4.204969e+03   1032s\n",
      " 1005069    2.9701962e-01   0.000000e+00   3.230209e+04   1037s\n",
      " 1010589    2.9790501e-01   0.000000e+00   7.987232e+03   1042s\n",
      " 1016109    2.9847513e-01   0.000000e+00   3.992726e+03   1047s\n",
      " 1021629    2.9916574e-01   0.000000e+00   6.546261e+03   1052s\n",
      " 1027149    2.9984566e-01   0.000000e+00   2.670648e+03   1057s\n",
      " 1032669    3.0051074e-01   0.000000e+00   3.714994e+03   1062s\n",
      " 1038189    3.0135809e-01   0.000000e+00   4.353675e+03   1066s\n",
      " 1043709    3.0209752e-01   0.000000e+00   7.164964e+03   1072s\n",
      " 1049229    3.0283386e-01   0.000000e+00   3.168631e+03   1076s\n",
      " 1054749    3.0335919e-01   0.000000e+00   4.837252e+05   1081s\n",
      " 1060269    3.0408007e-01   0.000000e+00   2.482520e+04   1086s\n",
      " 1065789    3.0482992e-01   0.000000e+00   3.176522e+03   1091s\n",
      " 1071309    3.0545810e-01   0.000000e+00   7.461338e+03   1095s\n",
      " 1079589    3.0642668e-01   0.000000e+00   5.790392e+03   1103s\n",
      " 1082349    3.0678466e-01   0.000000e+00   7.715320e+03   1105s\n",
      " 1090629    3.0784256e-01   0.000000e+00   2.307747e+04   1112s\n",
      " 1096149    3.0850297e-01   0.000000e+00   2.271931e+03   1117s\n",
      " 1101669    3.0918827e-01   0.000000e+00   1.801381e+04   1122s\n",
      " 1107189    3.0988541e-01   0.000000e+00   5.118618e+03   1126s\n",
      " 1112709    3.1034567e-01   0.000000e+00   2.349652e+04   1131s\n",
      " 1118229    3.1091065e-01   0.000000e+00   2.370352e+04   1136s\n",
      " 1123749    3.1178902e-01   0.000000e+00   2.470698e+03   1141s\n",
      " 1129269    3.1241802e-01   0.000000e+00   2.020357e+05   1145s\n",
      " 1134789    3.1308582e-01   0.000000e+00   3.110831e+03   1150s\n",
      " 1143069    3.1397970e-01   0.000000e+00   2.234931e+03   1157s\n",
      " 1148589    3.1467294e-01   0.000000e+00   2.127955e+04   1162s\n",
      " 1154109    3.1531415e-01   0.000000e+00   1.025289e+03   1167s\n",
      " 1159629    3.1602548e-01   0.000000e+00   3.227959e+04   1172s\n",
      " 1165149    3.1643170e-01   0.000000e+00   3.753403e+04   1176s\n",
      " 1170669    3.1713670e-01   0.000000e+00   1.810930e+04   1181s\n",
      " 1176189    3.1760005e-01   0.000000e+00   3.824766e+04   1186s\n",
      " 1181709    3.1832328e-01   0.000000e+00   2.752535e+04   1191s\n",
      " 1187229    3.1873351e-01   0.000000e+00   1.678905e+05   1195s\n",
      "\n",
      "Root relaxation: time limit, 1191603 iterations, 1030.24 seconds (2653.72 work units)\n",
      "\n",
      "    Nodes    |    Current Node    |     Objective Bounds      |     Work\n",
      " Expl Unexpl |  Obj  Depth IntInf | Incumbent    BestBd   Gap | It/Node Time\n"
     ]
    },
    {
     "name": "stdout",
     "output_type": "stream",
     "text": [
      "\n",
      "     0     0          -    0               -    0.00000      -     - 1200s\n",
      "\n",
      "Explored 1 nodes (1191603 simplex iterations) in 1200.20 seconds (2785.07 work units)\n",
      "Thread count was 1 (of 12 available processors)\n",
      "\n",
      "Solution count 0\n",
      "\n",
      "Time limit reached\n",
      "Best objective -, best bound 0.000000000000e+00, gap -\n"
     ]
    }
   ],
   "source": [
    "model.optimize()"
   ]
  },
  {
   "cell_type": "code",
   "execution_count": 24,
   "metadata": {},
   "outputs": [
    {
     "name": "stdout",
     "output_type": "stream",
     "text": [
      "Gurobi Optimizer version 10.0.2 build v10.0.2rc0 (win64)\n",
      "\n",
      "CPU model: 12th Gen Intel(R) Core(TM) i5-1235U, instruction set [SSE2|AVX|AVX2]\n",
      "Thread count: 10 physical cores, 12 logical processors, using up to 1 threads\n",
      "\n",
      "Optimize a model with 21322390 rows, 1956190 columns and 27435850 nonzeros\n",
      "Model fingerprint: 0xc62f1b43\n",
      "Variable types: 0 continuous, 1956190 integer (1956190 binary)\n",
      "Coefficient statistics:\n",
      "  Matrix range     [1e+00, 1e+00]\n",
      "  Objective range  [5e-05, 6e-01]\n",
      "  Bounds range     [1e+00, 1e+00]\n",
      "  RHS range        [1e+00, 1e+00]\n",
      "Presolved: 7940658 rows, 264278 columns, 24203385 nonzeros\n",
      "\n",
      "Continuing optimization...\n",
      "\n",
      "     0     0          -    0               -    0.00000      -     - 2400s\n",
      "\n",
      "Explored 1 nodes (2557456 simplex iterations) in 1200.20 seconds (3076.91 work units)\n",
      "Thread count was 1 (of 12 available processors)\n",
      "\n",
      "Solution count 0\n",
      "\n",
      "Time limit reached\n",
      "Best objective -, best bound 0.000000000000e+00, gap -\n"
     ]
    }
   ],
   "source": [
    "if model.Status == gp.GRB.TIME_LIMIT:\n",
    "\n",
    "    # Extend the time limit\n",
    "    extended_time_limit =1200 # Set the extended time limit in seconds\n",
    "    model.setParam('TimeLimit', extended_time_limit)\n",
    "\n",
    "    # Continue the optimization\n",
    "    model.optimize()"
   ]
  },
  {
   "cell_type": "code",
   "execution_count": 25,
   "metadata": {},
   "outputs": [
    {
     "name": "stdout",
     "output_type": "stream",
     "text": [
      "Gurobi Optimizer version 10.0.2 build v10.0.2rc0 (win64)\n",
      "\n",
      "CPU model: 12th Gen Intel(R) Core(TM) i5-1235U, instruction set [SSE2|AVX|AVX2]\n",
      "Thread count: 10 physical cores, 12 logical processors, using up to 1 threads\n",
      "\n",
      "Optimize a model with 21322390 rows, 1956190 columns and 27435850 nonzeros\n",
      "Model fingerprint: 0xc62f1b43\n",
      "Variable types: 0 continuous, 1956190 integer (1956190 binary)\n",
      "Coefficient statistics:\n",
      "  Matrix range     [1e+00, 1e+00]\n",
      "  Objective range  [5e-05, 6e-01]\n",
      "  Bounds range     [1e+00, 1e+00]\n",
      "  RHS range        [1e+00, 1e+00]\n",
      "Presolved: 7940658 rows, 264278 columns, 24203385 nonzeros\n",
      "\n",
      "Continuing optimization...\n",
      "\n",
      "     0     0          -    0               -    0.00000      -     - 3600s\n",
      "\n",
      "Explored 1 nodes (3933469 simplex iterations) in 1200.25 seconds (3101.34 work units)\n",
      "Thread count was 1 (of 12 available processors)\n",
      "\n",
      "Solution count 0\n",
      "\n",
      "Time limit reached\n",
      "Best objective -, best bound 0.000000000000e+00, gap -\n"
     ]
    }
   ],
   "source": [
    "if model.Status == gp.GRB.TIME_LIMIT:\n",
    "\n",
    "    # Extend the time limit\n",
    "    extended_time_limit =1200 # Set the extended time limit in seconds\n",
    "    model.setParam('TimeLimit', extended_time_limit)\n",
    "\n",
    "    # Continue the optimization\n",
    "    model.optimize()"
   ]
  },
  {
   "cell_type": "code",
   "execution_count": 26,
   "metadata": {},
   "outputs": [
    {
     "name": "stdout",
     "output_type": "stream",
     "text": [
      "Gurobi Optimizer version 10.0.2 build v10.0.2rc0 (win64)\n",
      "\n",
      "CPU model: 12th Gen Intel(R) Core(TM) i5-1235U, instruction set [SSE2|AVX|AVX2]\n",
      "Thread count: 10 physical cores, 12 logical processors, using up to 1 threads\n",
      "\n",
      "Optimize a model with 21322390 rows, 1956190 columns and 27435850 nonzeros\n",
      "Model fingerprint: 0xc62f1b43\n",
      "Variable types: 0 continuous, 1956190 integer (1956190 binary)\n",
      "Coefficient statistics:\n",
      "  Matrix range     [1e+00, 1e+00]\n",
      "  Objective range  [5e-05, 6e-01]\n",
      "  Bounds range     [1e+00, 1e+00]\n",
      "  RHS range        [1e+00, 1e+00]\n",
      "Presolved: 7940658 rows, 264278 columns, 24203385 nonzeros\n",
      "\n",
      "Continuing optimization...\n",
      "\n",
      "     0     0          -    0               -    0.00000      -     - 4800s\n",
      "\n",
      "Explored 1 nodes (5363578 simplex iterations) in 1200.29 seconds (3231.97 work units)\n",
      "Thread count was 1 (of 12 available processors)\n",
      "\n",
      "Solution count 0\n",
      "\n",
      "Time limit reached\n",
      "Best objective -, best bound 0.000000000000e+00, gap -\n"
     ]
    }
   ],
   "source": [
    "if model.Status == gp.GRB.TIME_LIMIT:\n",
    "\n",
    "    # Extend the time limit\n",
    "    extended_time_limit =1200 # Set the extended time limit in seconds\n",
    "    model.setParam('TimeLimit', extended_time_limit)\n",
    "\n",
    "    # Continue the optimization\n",
    "    model.optimize()"
   ]
  },
  {
   "cell_type": "code",
   "execution_count": 27,
   "metadata": {},
   "outputs": [
    {
     "name": "stdout",
     "output_type": "stream",
     "text": [
      "Gurobi Optimizer version 10.0.2 build v10.0.2rc0 (win64)\n",
      "\n",
      "CPU model: 12th Gen Intel(R) Core(TM) i5-1235U, instruction set [SSE2|AVX|AVX2]\n",
      "Thread count: 10 physical cores, 12 logical processors, using up to 1 threads\n",
      "\n",
      "Optimize a model with 21322390 rows, 1956190 columns and 27435850 nonzeros\n",
      "Model fingerprint: 0xc62f1b43\n",
      "Variable types: 0 continuous, 1956190 integer (1956190 binary)\n",
      "Coefficient statistics:\n",
      "  Matrix range     [1e+00, 1e+00]\n",
      "  Objective range  [5e-05, 6e-01]\n",
      "  Bounds range     [1e+00, 1e+00]\n",
      "  RHS range        [1e+00, 1e+00]\n",
      "Presolved: 7940658 rows, 264278 columns, 24203385 nonzeros\n",
      "\n",
      "Continuing optimization...\n",
      "\n",
      "     0     0          -    0               -    0.00000      -     - 6001s\n",
      "\n",
      "Explored 1 nodes (6737330 simplex iterations) in 1200.17 seconds (3095.64 work units)\n",
      "Thread count was 1 (of 12 available processors)\n",
      "\n",
      "Solution count 0\n",
      "\n",
      "Time limit reached\n",
      "Best objective -, best bound 0.000000000000e+00, gap -\n"
     ]
    }
   ],
   "source": [
    "if model.Status == gp.GRB.TIME_LIMIT:\n",
    "\n",
    "    # Extend the time limit\n",
    "    extended_time_limit =1200 # Set the extended time limit in seconds\n",
    "    model.setParam('TimeLimit', extended_time_limit)\n",
    "\n",
    "    # Continue the optimization\n",
    "    model.optimize()"
   ]
  },
  {
   "cell_type": "code",
   "execution_count": 28,
   "metadata": {},
   "outputs": [
    {
     "name": "stdout",
     "output_type": "stream",
     "text": [
      "Gurobi Optimizer version 10.0.2 build v10.0.2rc0 (win64)\n",
      "\n",
      "CPU model: 12th Gen Intel(R) Core(TM) i5-1235U, instruction set [SSE2|AVX|AVX2]\n",
      "Thread count: 10 physical cores, 12 logical processors, using up to 1 threads\n",
      "\n",
      "Optimize a model with 21322390 rows, 1956190 columns and 27435850 nonzeros\n",
      "Model fingerprint: 0xc62f1b43\n",
      "Variable types: 0 continuous, 1956190 integer (1956190 binary)\n",
      "Coefficient statistics:\n",
      "  Matrix range     [1e+00, 1e+00]\n",
      "  Objective range  [5e-05, 6e-01]\n",
      "  Bounds range     [1e+00, 1e+00]\n",
      "  RHS range        [1e+00, 1e+00]\n",
      "Presolved: 7940658 rows, 264278 columns, 24203385 nonzeros\n",
      "\n",
      "Continuing optimization...\n",
      "\n",
      "     0     0          -    0               -    0.00000      -     - 7201s\n",
      "\n",
      "Explored 1 nodes (8163299 simplex iterations) in 1200.19 seconds (3221.97 work units)\n",
      "Thread count was 1 (of 12 available processors)\n",
      "\n",
      "Solution count 0\n",
      "\n",
      "Time limit reached\n",
      "Best objective -, best bound 0.000000000000e+00, gap -\n"
     ]
    }
   ],
   "source": [
    "if model.Status == gp.GRB.TIME_LIMIT:\n",
    "\n",
    "    # Extend the time limit\n",
    "    extended_time_limit =1200 # Set the extended time limit in seconds\n",
    "    model.setParam('TimeLimit', extended_time_limit)\n",
    "\n",
    "    # Continue the optimization\n",
    "    model.optimize()"
   ]
  },
  {
   "cell_type": "code",
   "execution_count": 29,
   "metadata": {},
   "outputs": [
    {
     "name": "stdout",
     "output_type": "stream",
     "text": [
      "Objective Value: inf\n"
     ]
    }
   ],
   "source": [
    "if model.Status == GRB.OPTIMAL:\n",
    "    print(\"Optimization was successful and an optimal solution was found.\")\n",
    "elif model.Status == GRB.INFEASIBLE:\n",
    "    print(\"The model is infeasible - no feasible solution exists.\")\n",
    "elif model.Status == GRB.UNBOUNDED:\n",
    "    print(\"The model is unbounded - the objective can be improved without limit.\")\n",
    "print(\"Objective Value:\", model.objVal)"
   ]
  },
  {
   "cell_type": "code",
   "execution_count": 30,
   "metadata": {},
   "outputs": [
    {
     "name": "stdout",
     "output_type": "stream",
     "text": [
      "Objective Value: inf\n"
     ]
    }
   ],
   "source": [
    "print(\"Objective Value:\", model.objVal)"
   ]
  }
 ],
 "metadata": {
  "kernelspec": {
   "display_name": "Python 3 (ipykernel)",
   "language": "python",
   "name": "python3"
  },
  "language_info": {
   "codemirror_mode": {
    "name": "ipython",
    "version": 3
   },
   "file_extension": ".py",
   "mimetype": "text/x-python",
   "name": "python",
   "nbconvert_exporter": "python",
   "pygments_lexer": "ipython3",
   "version": "3.9.12"
  }
 },
 "nbformat": 4,
 "nbformat_minor": 4
}

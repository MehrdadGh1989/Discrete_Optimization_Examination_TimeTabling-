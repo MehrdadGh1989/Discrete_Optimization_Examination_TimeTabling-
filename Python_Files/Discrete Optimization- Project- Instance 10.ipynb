{
 "cells": [
  {
   "cell_type": "markdown",
   "metadata": {},
   "source": [
    "# Instance 10"
   ]
  },
  {
   "cell_type": "code",
   "execution_count": 1,
   "metadata": {},
   "outputs": [],
   "source": [
    "import os\n",
    "from pyomo.environ import *\n",
    "import numpy as np\n",
    "import pandas as pd\n",
    "import gurobipy as gp\n",
    "from gurobipy import GRB"
   ]
  },
  {
   "cell_type": "markdown",
   "metadata": {},
   "source": [
    "## Importing DataSet"
   ]
  },
  {
   "cell_type": "code",
   "execution_count": 2,
   "metadata": {},
   "outputs": [],
   "source": [
    "file_path = 'Instance_10.xlsx'\n",
    "# Read the Excel file into a dictionary of DataFrames, where keys are sheet names\n",
    "Instance_data = pd.read_excel(file_path, sheet_name=None)"
   ]
  },
  {
   "cell_type": "code",
   "execution_count": 3,
   "metadata": {},
   "outputs": [],
   "source": [
    "# Exam Data Set\n",
    "\n",
    "Exams = Instance_data['Sheet1']\n",
    "Exams['Exams'] = Exams['Exams'] - 1\n",
    "ExamsList = list(Exams['Exams'])"
   ]
  },
  {
   "cell_type": "markdown",
   "metadata": {},
   "source": [
    "### Dictionary of Students and their related Exams"
   ]
  },
  {
   "cell_type": "code",
   "execution_count": 4,
   "metadata": {},
   "outputs": [],
   "source": [
    "# Creating a Dictionary of Students and Their Related Exams\n",
    "Students_exams = Instance_data['Sheet3']\n",
    "Students_exams['ExamNumber'] = Students_exams['ExamNumber'] - 1\n",
    "# Initialize an empty dictionary to store the students and their exams\n",
    "students = {}\n",
    "# Iterate over the rows in the DataFrame\n",
    "for index, row in Students_exams.iterrows():\n",
    "    student = row['Student']\n",
    "    exam_number = row['ExamNumber']\n",
    "    \n",
    "    # Check if the student is already in the dictionary\n",
    "    if student in students:\n",
    "        students[student].append(exam_number)\n",
    "    # If the student is not in the dictionary, create a new key-value pair    \n",
    "    else:\n",
    "        students[student] = [exam_number]"
   ]
  },
  {
   "cell_type": "markdown",
   "metadata": {},
   "source": [
    "### TimeSlots"
   ]
  },
  {
   "cell_type": "code",
   "execution_count": 5,
   "metadata": {},
   "outputs": [],
   "source": [
    "Time_s = Instance_data['Sheet2']\n",
    "time_slots = Time_s.loc[0, 'TimeSlot']\n",
    "TimeList= list(range (time_slots))"
   ]
  },
  {
   "cell_type": "code",
   "execution_count": 6,
   "metadata": {},
   "outputs": [
    {
     "data": {
      "text/plain": [
       "[0,\n",
       " 1,\n",
       " 2,\n",
       " 3,\n",
       " 4,\n",
       " 5,\n",
       " 6,\n",
       " 7,\n",
       " 8,\n",
       " 9,\n",
       " 10,\n",
       " 11,\n",
       " 12,\n",
       " 13,\n",
       " 14,\n",
       " 15,\n",
       " 16,\n",
       " 17,\n",
       " 18,\n",
       " 19,\n",
       " 20,\n",
       " 21,\n",
       " 22,\n",
       " 23,\n",
       " 24,\n",
       " 25,\n",
       " 26,\n",
       " 27,\n",
       " 28,\n",
       " 29,\n",
       " 30,\n",
       " 31]"
      ]
     },
     "execution_count": 6,
     "metadata": {},
     "output_type": "execute_result"
    }
   ],
   "source": [
    "TimeList"
   ]
  },
  {
   "cell_type": "markdown",
   "metadata": {},
   "source": [
    "### Distance"
   ]
  },
  {
   "cell_type": "code",
   "execution_count": 7,
   "metadata": {},
   "outputs": [
    {
     "data": {
      "text/plain": [
       "[1, 2, 3, 4, 5]"
      ]
     },
     "execution_count": 7,
     "metadata": {},
     "output_type": "execute_result"
    }
   ],
   "source": [
    "#Distance\n",
    "Distance=list(range(1,6))\n",
    "Distance"
   ]
  },
  {
   "cell_type": "markdown",
   "metadata": {},
   "source": [
    "###  Finding Conflicted Exams (Weighted-Unweighted)"
   ]
  },
  {
   "cell_type": "code",
   "execution_count": 8,
   "metadata": {},
   "outputs": [],
   "source": [
    "# Unweighted\n",
    "# Step 1: Initialize the dictionary to store conflicting exams\n",
    "conflicting_exams = {exam: set() for exams_list in students.values() for exam in exams_list}\n",
    "\n",
    "# Step 2: Populate the dictionary with conflicting exams\n",
    "for student_exams in students.values():\n",
    "    for i, exam1 in enumerate(student_exams):\n",
    "        for exam2 in student_exams[i + 1:]:\n",
    "            conflicting_exams[exam1].add(exam2)\n",
    "            conflicting_exams[exam2].add(exam1)\n",
    "\n",
    "# Step 3: Create the unweighted conflicting matrix\n",
    "Unweighted_Conflict_Matrix = [\n",
    "    [1 if exam2 in conflicting_exams[exam1] else 0 for exam2 in ExamsList] for exam1 in ExamsList\n",
    "]\n"
   ]
  },
  {
   "cell_type": "code",
   "execution_count": 9,
   "metadata": {},
   "outputs": [],
   "source": [
    "# Weighted\n",
    "\n",
    "# The weighted Conflicting MATRIX\n",
    "# Step 1: Initialize the dictionary to store conflicting exams\n",
    "conflicting_exams = {exam: set() for exams_list in students.values() for exam in exams_list}\n",
    "\n",
    "# Step 2: Populate the dictionary with conflicting exams\n",
    "for student_exams in students.values():\n",
    "    for i, exam1 in enumerate(student_exams):\n",
    "        for exam2 in student_exams[i + 1:]:\n",
    "            conflicting_exams[exam1].add(exam2)\n",
    "            conflicting_exams[exam2].add(exam1)\n",
    "\n",
    "# Step 3: Create the weighted conflicting matrix\n",
    "weighted_conflicting_matrix = [[0 for _ in ExamsList] for _ in ExamsList]\n",
    "\n",
    "# Step 4: Calculate the number of students in each conflicting exam pair and fill the matrix\n",
    "for i, exam1 in enumerate(ExamsList):\n",
    "    for j, exam2 in enumerate(ExamsList):\n",
    "        if exam2 in conflicting_exams[exam1]:\n",
    "            count = sum(1 for student_exams in students.values() if exam1 in student_exams and exam2 in student_exams)\n",
    "            weighted_conflicting_matrix[i][j] = count\n",
    "\n"
   ]
  },
  {
   "cell_type": "markdown",
   "metadata": {},
   "source": [
    "### Converting the Llist of UC and WC to Matrix of Coefficients"
   ]
  },
  {
   "cell_type": "code",
   "execution_count": 10,
   "metadata": {},
   "outputs": [],
   "source": [
    "#Conflicting Exams (Weighted and Unweighted)\n",
    "UC_Matrix=np.array(Unweighted_Conflict_Matrix )\n",
    "WC_Matrix=np.array(weighted_conflicting_matrix)"
   ]
  },
  {
   "cell_type": "code",
   "execution_count": 11,
   "metadata": {},
   "outputs": [
    {
     "data": {
      "text/plain": [
       "array([[0, 1, 1, ..., 0, 0, 0],\n",
       "       [1, 0, 1, ..., 0, 0, 0],\n",
       "       [1, 1, 0, ..., 0, 0, 0],\n",
       "       ...,\n",
       "       [0, 0, 0, ..., 0, 1, 0],\n",
       "       [0, 0, 0, ..., 1, 0, 0],\n",
       "       [0, 0, 0, ..., 0, 0, 0]])"
      ]
     },
     "execution_count": 11,
     "metadata": {},
     "output_type": "execute_result"
    }
   ],
   "source": [
    "UC_Matrix"
   ]
  },
  {
   "cell_type": "code",
   "execution_count": 12,
   "metadata": {},
   "outputs": [
    {
     "data": {
      "text/plain": [
       "array([[ 0, 36,  7, ...,  0,  0,  0],\n",
       "       [36,  0,  3, ...,  0,  0,  0],\n",
       "       [ 7,  3,  0, ...,  0,  0,  0],\n",
       "       ...,\n",
       "       [ 0,  0,  0, ...,  0,  3,  0],\n",
       "       [ 0,  0,  0, ...,  3,  0,  0],\n",
       "       [ 0,  0,  0, ...,  0,  0,  0]])"
      ]
     },
     "execution_count": 12,
     "metadata": {},
     "output_type": "execute_result"
    }
   ],
   "source": [
    "WC_Matrix"
   ]
  },
  {
   "cell_type": "code",
   "execution_count": 13,
   "metadata": {},
   "outputs": [
    {
     "name": "stdout",
     "output_type": "stream",
     "text": [
      "Set parameter Username\n",
      "Set parameter LogFile to value \"C:\\Users\\ghadi\\Downloads\\Discrete Optimization Project - Gurobi- Instance 10\\Discrete Optimization Project - Instance 10-Log File.log\"\n",
      "Academic license - for non-commercial use only - expires 2024-07-07\n",
      "Set parameter Threads to value 1\n",
      "Set parameter Presolve to value 1\n",
      "Set parameter Method to value 0\n",
      "Set parameter TimeLimit to value 1200\n",
      "Set parameter PreSparsify to value 1\n"
     ]
    }
   ],
   "source": [
    "# Setting up the environment\n",
    "\n",
    "\n",
    "env = gp.Env(\n",
    "    r\"C:\\Users\\ghadi\\Downloads\\Discrete Optimization Project - Gurobi- Instance 10\\Discrete Optimization Project - Instance 10-Log File.log\")\n",
    "env.start()\n",
    "\n",
    "# Environment parameters\n",
    "env.setParam(\"Threads\", 1)  # Controls the number of threads to apply to parallel algorithms\n",
    "env.setParam(\"Presolve\", 1)  # Controls the presolve level. conservative (1).\n",
    "env.setParam(\"MIPGap\", 1e-4)\n",
    "env.setParam('Method', 0)  # Algorithm used to solve the initial root relaxation of a MIP model. 0=primal simplex.\n",
    "env.setParam(\"TimeLimit\", 1200)  # 20 minutes time limit\n",
    "env.setParam(\"PreSparsify\", 1) # to reduce the memory used\n"
   ]
  },
  {
   "cell_type": "markdown",
   "metadata": {},
   "source": [
    "### Defining Gurobi Model"
   ]
  },
  {
   "cell_type": "code",
   "execution_count": 14,
   "metadata": {},
   "outputs": [],
   "source": [
    "model = gp.Model(\"Exam_Scheduling\", env=env)"
   ]
  },
  {
   "cell_type": "markdown",
   "metadata": {},
   "source": [
    "### Defining Decision Variable and Auxiliary Variable"
   ]
  },
  {
   "cell_type": "code",
   "execution_count": 15,
   "metadata": {},
   "outputs": [],
   "source": [
    "#Decision Variable\n",
    "X = model.addVars(ExamsList, TimeList , vtype=GRB.BINARY, name=\"X\")"
   ]
  },
  {
   "cell_type": "code",
   "execution_count": 16,
   "metadata": {},
   "outputs": [],
   "source": [
    "# Binary auxiliary variable for controlling conflict\n",
    "Y = model.addVars(ExamsList, ExamsList, Distance, vtype=GRB.BINARY, name=\"Y\")"
   ]
  },
  {
   "cell_type": "markdown",
   "metadata": {},
   "source": [
    "###  Defining Constraints "
   ]
  },
  {
   "cell_type": "code",
   "execution_count": 17,
   "metadata": {},
   "outputs": [],
   "source": [
    "#Constraint 1\n",
    "model.addConstrs(UC_Matrix[i, j] * (X[i, k] + X[j, k]) <= 1 for i in ExamsList for j in ExamsList for k in TimeList)\n",
    "model.update()"
   ]
  },
  {
   "cell_type": "code",
   "execution_count": 18,
   "metadata": {},
   "outputs": [],
   "source": [
    "#Constraint 2\n",
    "model.addConstrs(sum(X[i, k] for k in TimeList) == 1 for i in ExamsList for k in TimeList)\n",
    "model.update()"
   ]
  },
  {
   "cell_type": "code",
   "execution_count": 19,
   "metadata": {},
   "outputs": [],
   "source": [
    "#Constraint C3\n",
    "model.addConstrs((X[i, k] + X[j, k + d]) <= Y[i, j, d] + 1 for i in ExamsList for j in ExamsList for k in TimeList for d in Distance if (k + d) in TimeList and UC_Matrix[i, j] != 0)\n",
    "model.update()"
   ]
  },
  {
   "cell_type": "markdown",
   "metadata": {},
   "source": [
    "### Defining Objective Function"
   ]
  },
  {
   "cell_type": "code",
   "execution_count": 20,
   "metadata": {},
   "outputs": [],
   "source": [
    "# Create the objective expression using a loop\n",
    "objective_expr = 0\n",
    "for i in ExamsList:\n",
    "    for j in ExamsList:\n",
    "        for d in Distance:\n",
    "            objective_expr += Y[i, j, d] * WC_Matrix[i, j] * ((2 ** (5 - d))/18419)\n",
    "\n",
    "# Set up the objective function for minimization\n",
    "model.setObjective(objective_expr, GRB.MINIMIZE)"
   ]
  },
  {
   "cell_type": "code",
   "execution_count": 21,
   "metadata": {},
   "outputs": [],
   "source": [
    "# Time limit for the model\n",
    "model.Params.TimeLimit = 1200"
   ]
  },
  {
   "cell_type": "code",
   "execution_count": 22,
   "metadata": {},
   "outputs": [],
   "source": [
    "model.update()"
   ]
  },
  {
   "cell_type": "code",
   "execution_count": 23,
   "metadata": {},
   "outputs": [
    {
     "name": "stdout",
     "output_type": "stream",
     "text": [
      "Gurobi Optimizer version 10.0.2 build v10.0.2rc0 (win64)\n",
      "\n",
      "CPU model: 12th Gen Intel(R) Core(TM) i5-1235U, instruction set [SSE2|AVX|AVX2]\n",
      "Thread count: 10 physical cores, 12 logical processors, using up to 1 threads\n",
      "\n",
      "Optimize a model with 15340994 rows, 1491621 columns and 20820422 nonzeros\n",
      "Model fingerprint: 0x12ed60c1\n",
      "Variable types: 0 continuous, 1491621 integer (1491621 binary)\n",
      "Coefficient statistics:\n",
      "  Matrix range     [1e+00, 1e+00]\n",
      "  Objective range  [5e-05, 3e-01]\n",
      "  Bounds range     [1e+00, 1e+00]\n",
      "  RHS range        [1e+00, 1e+00]\n",
      "Presolve removed 8802210 rows and 1271226 columns (presolve time = 6s) ...\n",
      "Presolve removed 8802210 rows and 1271227 columns (presolve time = 10s) ...\n",
      "Presolve removed 9334078 rows and 1271227 columns (presolve time = 15s) ...\n",
      "Presolve removed 9334531 rows and 1271227 columns (presolve time = 20s) ...\n",
      "Presolve removed 9335368 rows and 1271227 columns (presolve time = 25s) ...\n",
      "Presolve removed 9336469 rows and 1271227 columns (presolve time = 30s) ...\n",
      "Presolve removed 9336943 rows and 1271227 columns (presolve time = 35s) ...\n",
      "Presolve removed 9337518 rows and 1271227 columns (presolve time = 40s) ...\n",
      "Presolve removed 9339088 rows and 1271227 columns (presolve time = 45s) ...\n",
      "Presolve removed 9339275 rows and 1271227 columns (presolve time = 50s) ...\n",
      "Presolve removed 9339275 rows and 1271227 columns (presolve time = 55s) ...\n",
      "Presolve removed 9339413 rows and 1271227 columns (presolve time = 60s) ...\n",
      "Presolve removed 9339413 rows and 1271227 columns (presolve time = 66s) ...\n",
      "Presolve removed 9339413 rows and 1271227 columns (presolve time = 70s) ...\n",
      "Presolve removed 9339413 rows and 1271227 columns (presolve time = 75s) ...\n",
      "Presolve removed 9339413 rows and 1271227 columns (presolve time = 80s) ...\n",
      "Presolve removed 9339413 rows and 1271227 columns (presolve time = 85s) ...\n",
      "Presolve removed 9339413 rows and 1271227 columns (presolve time = 90s) ...\n",
      "Presolve removed 9339737 rows and 1271301 columns (presolve time = 95s) ...\n",
      "Sparsify removed 37 nonzeros (0%)\n",
      "Presolve removed 9339737 rows and 1271297 columns\n",
      "Presolve time: 96.88s\n",
      "Presolved: 6001257 rows, 220324 columns, 18292990 nonzeros\n",
      "Variable types: 0 continuous, 220324 integer (220324 binary)\n",
      "Root relaxation presolved: 220324 rows, 6221581 columns, 18513314 nonzeros\n",
      "\n",
      "\n",
      "Root simplex log...\n",
      "\n",
      "Iteration    Objective       Primal Inf.    Dual Inf.      Time\n",
      "       0   -0.0000000e+00   0.000000e+00   5.440000e+02    122s\n",
      "    7194   -0.0000000e+00   0.000000e+00   1.418877e+06    127s\n",
      "   11766    3.0877368e-02   0.000000e+00   1.846945e+06    132s\n",
      "   14052    4.3134191e-02   0.000000e+00   2.742562e+06    135s\n",
      "   18624    5.8195478e-02   0.000000e+00   1.153357e+06    140s\n",
      "   25482    7.5202259e-02   0.000000e+00   1.128180e+06    147s\n",
      "   30054    8.3447897e-02   0.000000e+00   7.018403e+06    151s\n",
      "   36912    9.2935669e-02   0.000000e+00   8.420875e+05    156s\n",
      "   41484    9.9537033e-02   0.000000e+00   1.617577e+06    160s\n",
      "   46056    1.0667704e-01   0.000000e+00   1.465384e+06    165s\n",
      "   52914    1.1566000e-01   0.000000e+00   4.210397e+05    171s\n",
      "   57486    1.2096656e-01   0.000000e+00   2.408241e+06    176s\n",
      "   62058    1.2516670e-01   0.000000e+00   6.786247e+05    181s\n",
      "   68916    1.3194617e-01   0.000000e+00   6.326547e+05    187s\n",
      "   73488    1.3585977e-01   0.000000e+00   3.624347e+05    191s\n",
      "   78060    1.4039434e-01   0.000000e+00   5.356652e+05    196s\n",
      "   84918    1.4677782e-01   0.000000e+00   4.600436e+05    201s\n",
      "   89490    1.5091630e-01   0.000000e+00   3.768337e+05    205s\n",
      "   96348    1.5693788e-01   0.000000e+00   1.777500e+05    212s\n",
      "  100920    1.5982103e-01   0.000000e+00   3.062408e+05    215s\n",
      "  107778    1.6425115e-01   0.000000e+00   2.544911e+05    221s\n",
      "  112350    1.6666495e-01   0.000000e+00   4.217607e+05    226s\n",
      "  119208    1.7124017e-01   0.000000e+00   4.362809e+05    232s\n",
      "  123780    1.7465493e-01   0.000000e+00   6.826870e+05    236s\n",
      "  128352    1.7785655e-01   0.000000e+00   4.705878e+05    240s\n",
      "  132924    1.8099802e-01   0.000000e+00   2.572739e+05    245s\n",
      "  139782    1.8526853e-01   0.000000e+00   1.046235e+06    251s\n",
      "  144354    1.8731127e-01   0.000000e+00   6.259981e+05    255s\n",
      "  151212    1.9135358e-01   0.000000e+00   6.313818e+05    262s\n",
      "  155784    1.9375843e-01   0.000000e+00   4.264809e+05    266s\n",
      "  160356    1.9602758e-01   0.000000e+00   2.345309e+05    270s\n",
      "  164928    1.9826523e-01   0.000000e+00   1.818302e+05    275s\n",
      "  171786    2.0133562e-01   0.000000e+00   5.608224e+06    281s\n",
      "  176358    2.0331412e-01   0.000000e+00   2.629600e+05    285s\n",
      "  183216    2.0659769e-01   0.000000e+00   4.252218e+05    292s\n",
      "  187788    2.0874751e-01   0.000000e+00   2.597984e+05    296s\n",
      "  192360    2.1062019e-01   0.000000e+00   1.877060e+05    300s\n",
      "  199218    2.1344743e-01   0.000000e+00   2.117086e+05    307s\n",
      "  203790    2.1513715e-01   0.000000e+00   2.249543e+05    311s\n",
      "  208362    2.1693861e-01   0.000000e+00   3.596363e+05    316s\n",
      "  215220    2.1932767e-01   0.000000e+00   4.507775e+05    322s\n",
      "  219792    2.2111069e-01   0.000000e+00   1.089825e+05    326s\n",
      "  224364    2.2269609e-01   0.000000e+00   3.332624e+05    330s\n",
      "  231222    2.2550413e-01   0.000000e+00   1.752464e+05    336s\n",
      "  235794    2.2736186e-01   0.000000e+00   1.219157e+06    341s\n",
      "  242652    2.2993320e-01   0.000000e+00   4.085152e+05    346s\n",
      "  247224    2.3159354e-01   0.000000e+00   2.740103e+05    350s\n",
      "  254082    2.3371121e-01   0.000000e+00   2.775387e+05    357s\n",
      "  258654    2.3505568e-01   0.000000e+00   1.455613e+05    360s\n",
      "  265512    2.3723058e-01   0.000000e+00   1.895232e+05    366s\n",
      "  270084    2.3847009e-01   0.000000e+00   6.045506e+04    371s\n",
      "  274656    2.3969675e-01   0.000000e+00   1.514873e+05    375s\n",
      "  281514    2.4174620e-01   0.000000e+00   2.588412e+05    381s\n",
      "  286086    2.4322540e-01   0.000000e+00   1.615345e+05    386s\n",
      "  292944    2.4486359e-01   0.000000e+00   1.812660e+05    392s\n",
      "  297516    2.4602252e-01   0.000000e+00   7.557652e+04    396s\n",
      "  304374    2.4787904e-01   0.000000e+00   1.886360e+05    402s\n",
      "  308946    2.4888076e-01   0.000000e+00   1.369581e+05    406s\n",
      "  315804    2.5034777e-01   0.000000e+00   1.249305e+05    411s\n",
      "  320376    2.5135033e-01   0.000000e+00   2.071142e+05    415s\n",
      "  327234    2.5319470e-01   0.000000e+00   1.529176e+05    422s\n",
      "  331806    2.5424535e-01   0.000000e+00   1.561928e+06    425s\n",
      "  338664    2.5595922e-01   0.000000e+00   2.007642e+05    431s\n",
      "  343236    2.5722356e-01   0.000000e+00   1.355420e+05    436s\n",
      "  347808    2.5822706e-01   0.000000e+00   4.062987e+05    441s\n",
      "  352380    2.5921393e-01   0.000000e+00   2.577641e+05    445s\n",
      "  356952    2.6015173e-01   0.000000e+00   6.704486e+05    451s\n",
      "  361524    2.6122592e-01   0.000000e+00   1.176681e+05    455s\n",
      "  368382    2.6283085e-01   0.000000e+00   1.595459e+05    462s\n",
      "  372954    2.6366727e-01   0.000000e+00   6.975592e+04    467s\n",
      "  377526    2.6452914e-01   0.000000e+00   1.704071e+05    472s\n",
      "  382098    2.6543846e-01   0.000000e+00   7.647412e+04    476s\n",
      "  386670    2.6628947e-01   0.000000e+00   2.228743e+05    481s\n",
      "  391242    2.6713029e-01   0.000000e+00   1.371066e+05    486s\n",
      "  395814    2.6789179e-01   0.000000e+00   1.952147e+05    490s\n",
      "  402672    2.6910582e-01   0.000000e+00   1.271761e+05    497s\n",
      "  407244    2.6988505e-01   0.000000e+00   9.913693e+04    502s\n",
      "  411816    2.7071065e-01   0.000000e+00   5.973195e+04    506s\n",
      "  418674    2.7182220e-01   0.000000e+00   3.975644e+05    512s\n",
      "  423246    2.7251922e-01   0.000000e+00   7.972102e+04    517s\n",
      "  427818    2.7330686e-01   0.000000e+00   3.178607e+04    521s\n",
      "  434676    2.7446850e-01   0.000000e+00   1.024142e+05    527s\n",
      "  439248    2.7534160e-01   0.000000e+00   6.525751e+04    531s\n",
      "  443820    2.7598662e-01   0.000000e+00   1.470795e+05    535s\n",
      "  450678    2.7712068e-01   0.000000e+00   1.047100e+05    541s\n",
      "  455250    2.7781340e-01   0.000000e+00   1.394518e+05    545s\n",
      "  462108    2.7895800e-01   0.000000e+00   2.879505e+04    551s\n",
      "  466680    2.7972166e-01   0.000000e+00   1.174605e+04    555s\n",
      "  473538    2.8076513e-01   0.000000e+00   1.254620e+05    562s\n",
      "  478110    2.8161331e-01   0.000000e+00   1.136175e+05    566s\n",
      "  484968    2.8279325e-01   0.000000e+00   1.452447e+05    571s\n"
     ]
    },
    {
     "name": "stdout",
     "output_type": "stream",
     "text": [
      "  489540    2.8350638e-01   0.000000e+00   6.171576e+04    575s\n",
      "  496398    2.8458362e-01   0.000000e+00   8.291558e+04    581s\n",
      "  500970    2.8531808e-01   0.000000e+00   6.722599e+04    585s\n",
      "  507828    2.8632846e-01   0.000000e+00   4.849616e+04    591s\n",
      "  512400    2.8698224e-01   0.000000e+00   1.412471e+05    595s\n",
      "  519258    2.8799521e-01   0.000000e+00   6.533040e+04    601s\n",
      "  526116    2.8902217e-01   0.000000e+00   5.518668e+05    606s\n",
      "  530688    2.8967927e-01   0.000000e+00   2.174212e+04    611s\n",
      "  537546    2.9069074e-01   0.000000e+00   4.471579e+04    616s\n",
      "  542118    2.9131973e-01   0.000000e+00   9.688774e+04    620s\n",
      "  548976    2.9219012e-01   0.000000e+00   3.011963e+04    627s\n",
      "  553548    2.9281989e-01   0.000000e+00   8.247660e+04    630s\n",
      "  560406    2.9380599e-01   0.000000e+00   3.126890e+04    636s\n",
      "  567264    2.9473434e-01   0.000000e+00   1.442337e+05    642s\n",
      "  571836    2.9545411e-01   0.000000e+00   4.402343e+04    646s\n",
      "  576408    2.9605087e-01   0.000000e+00   6.983291e+04    650s\n",
      "  583266    2.9701685e-01   0.000000e+00   5.359028e+04    657s\n",
      "  587838    2.9765804e-01   0.000000e+00   1.274718e+05    661s\n",
      "  594696    2.9857746e-01   0.000000e+00   1.409007e+05    667s\n",
      "  599268    2.9923088e-01   0.000000e+00   2.836871e+04    670s\n",
      "  606126    3.0009960e-01   0.000000e+00   8.675959e+04    676s\n",
      "  612984    3.0099399e-01   0.000000e+00   5.487788e+04    682s\n",
      "  617556    3.0164975e-01   0.000000e+00   1.136515e+05    685s\n",
      "  624414    3.0262314e-01   0.000000e+00   9.717393e+04    692s\n",
      "  628986    3.0317654e-01   0.000000e+00   9.548598e+04    696s\n",
      "  635844    3.0406521e-01   0.000000e+00   1.122117e+05    702s\n",
      "  640416    3.0470300e-01   0.000000e+00   6.127005e+04    706s\n",
      "  644988    3.0530571e-01   0.000000e+00   1.619480e+04    710s\n",
      "  651846    3.0621864e-01   0.000000e+00   3.719944e+04    717s\n",
      "  656418    3.0680325e-01   0.000000e+00   7.288875e+04    721s\n",
      "  660990    3.0744146e-01   0.000000e+00   1.954982e+05    725s\n",
      "  667848    3.0826975e-01   0.000000e+00   3.534707e+04    732s\n",
      "  672420    3.0883358e-01   0.000000e+00   8.621560e+04    736s\n",
      "  676992    3.0940761e-01   0.000000e+00   6.337319e+04    741s\n",
      "  681564    3.0996222e-01   0.000000e+00   8.998749e+04    745s\n",
      "  688422    3.1080852e-01   0.000000e+00   3.909730e+04    751s\n",
      "  692994    3.1133898e-01   0.000000e+00   1.499415e+05    756s\n",
      "  699852    3.1215944e-01   0.000000e+00   3.854393e+04    762s\n",
      "  704424    3.1271121e-01   0.000000e+00   2.306389e+04    766s\n",
      "  708996    3.1333940e-01   0.000000e+00   5.244323e+04    770s\n",
      "  715854    3.1411147e-01   0.000000e+00   2.985715e+04    776s\n",
      "  720426    3.1459821e-01   0.000000e+00   5.306401e+04    781s\n",
      "  727284    3.1539864e-01   0.000000e+00   2.151632e+04    787s\n",
      "  731856    3.1594634e-01   0.000000e+00   4.688551e+04    791s\n",
      "  736428    3.1643241e-01   0.000000e+00   1.203848e+05    795s\n",
      "  743286    3.1720402e-01   0.000000e+00   1.048117e+04    802s\n",
      "  747858    3.1772902e-01   0.000000e+00   1.406226e+05    806s\n",
      "  752430    3.1825798e-01   0.000000e+00   6.781060e+05    810s\n",
      "  759288    3.1901954e-01   0.000000e+00   1.800287e+05    816s\n",
      "  763860    3.1955568e-01   0.000000e+00   5.988368e+04    821s\n",
      "  770718    3.2039375e-01   0.000000e+00   8.787740e+04    826s\n",
      "  775290    3.2094544e-01   0.000000e+00   6.647329e+04    830s\n",
      "  782148    3.2170066e-01   0.000000e+00   1.392078e+05    836s\n",
      "  786720    3.2222439e-01   0.000000e+00   1.077845e+05    840s\n",
      "  793578    3.2301138e-01   0.000000e+00   6.875362e+04    846s\n",
      "  798150    3.2347683e-01   0.000000e+00   1.250013e+05    850s\n",
      "  805008    3.2437067e-01   0.000000e+00   4.570097e+04    856s\n",
      "  811866    3.2518541e-01   0.000000e+00   2.993751e+04    862s\n",
      "  816438    3.2571452e-01   0.000000e+00   1.056555e+05    866s\n",
      "  821010    3.2620111e-01   0.000000e+00   1.404124e+04    870s\n",
      "  827868    3.2693311e-01   0.000000e+00   2.632384e+04    876s\n",
      "  832440    3.2737296e-01   0.000000e+00   2.006146e+05    881s\n",
      "  839298    3.2813495e-01   0.000000e+00   1.253185e+05    887s\n",
      "  843870    3.2860993e-01   0.000000e+00   4.934383e+04    891s\n",
      "  850728    3.2940929e-01   0.000000e+00   3.572109e+04    897s\n",
      "  855300    3.2992918e-01   0.000000e+00   5.872754e+04    902s\n",
      "  859872    3.3037828e-01   0.000000e+00   4.636802e+04    906s\n",
      "  866730    3.3110342e-01   0.000000e+00   3.540151e+04    912s\n",
      "  869016    3.3136556e-01   0.000000e+00   5.585605e+04    915s\n",
      "  875874    3.3206457e-01   0.000000e+00   1.672377e+04    921s\n",
      "  880446    3.3255773e-01   0.000000e+00   3.270576e+04    926s\n",
      "  885018    3.3304381e-01   0.000000e+00   7.400548e+04    931s\n",
      "  891876    3.3379883e-01   0.000000e+00   8.838156e+04    937s\n",
      "  896448    3.3429787e-01   0.000000e+00   1.453020e+05    941s\n",
      "  901020    3.3478401e-01   0.000000e+00   2.728058e+04    945s\n",
      "  905592    3.3529142e-01   0.000000e+00   7.462817e+04    950s\n",
      "  912450    3.3599906e-01   0.000000e+00   5.651599e+04    957s\n",
      "  917022    3.3650507e-01   0.000000e+00   2.378969e+04    962s\n",
      "  921594    3.3700457e-01   0.000000e+00   2.246568e+04    966s\n",
      "  926166    3.3751390e-01   0.000000e+00   1.485588e+05    971s\n",
      "  933024    3.3826080e-01   0.000000e+00   5.013186e+04    978s\n",
      "  937596    3.3873878e-01   0.000000e+00   8.936592e+04    982s\n",
      "  942168    3.3920229e-01   0.000000e+00   2.873844e+04    986s\n",
      "  946740    3.3966670e-01   0.000000e+00   2.795774e+04    990s\n",
      "  953598    3.4035710e-01   0.000000e+00   2.630584e+04    997s\n",
      "  958170    3.4085488e-01   0.000000e+00   2.435334e+04   1001s\n",
      "  965028    3.4152160e-01   0.000000e+00   2.679182e+04   1007s\n",
      "  969600    3.4202563e-01   0.000000e+00   1.163741e+05   1011s\n",
      "  974172    3.4248135e-01   0.000000e+00   2.585604e+04   1016s\n",
      "  981030    3.4317491e-01   0.000000e+00   6.891525e+04   1022s\n",
      "  985602    3.4365031e-01   0.000000e+00   2.369473e+04   1027s\n",
      "  990174    3.4412083e-01   0.000000e+00   2.052842e+04   1031s\n",
      "  994746    3.4461890e-01   0.000000e+00   4.792369e+04   1035s\n",
      " 1001604    3.4528872e-01   0.000000e+00   4.704077e+04   1042s\n",
      " 1006176    3.4574024e-01   0.000000e+00   9.067081e+04   1047s\n",
      " 1010748    3.4620626e-01   0.000000e+00   2.521385e+04   1051s\n",
      " 1015320    3.4661969e-01   0.000000e+00   5.756942e+04   1056s\n",
      " 1019892    3.4709965e-01   0.000000e+00   3.992640e+04   1060s\n",
      " 1026750    3.4781951e-01   0.000000e+00   6.589802e+04   1067s\n",
      " 1031322    3.4829285e-01   0.000000e+00   4.277443e+04   1071s\n",
      " 1035894    3.4871615e-01   0.000000e+00   1.416163e+04   1076s\n",
      " 1042752    3.4944345e-01   0.000000e+00   2.664323e+04   1082s\n",
      " 1047324    3.4990250e-01   0.000000e+00   7.520985e+04   1086s\n",
      " 1051896    3.5034476e-01   0.000000e+00   4.409025e+04   1091s\n",
      " 1058754    3.5104370e-01   0.000000e+00   5.342532e+05   1097s\n",
      " 1063326    3.5147266e-01   0.000000e+00   2.505401e+04   1101s\n",
      " 1067898    3.5194946e-01   0.000000e+00   7.454321e+04   1105s\n",
      " 1074756    3.5263787e-01   0.000000e+00   2.137090e+04   1112s\n",
      " 1079328    3.5308531e-01   0.000000e+00   6.567075e+04   1116s\n",
      " 1083900    3.5349740e-01   0.000000e+00   1.288607e+04   1121s\n",
      " 1088472    3.5391955e-01   0.000000e+00   3.134518e+04   1125s\n",
      " 1095330    3.5460320e-01   0.000000e+00   1.673633e+04   1131s\n",
      " 1099902    3.5506170e-01   0.000000e+00   4.517500e+04   1136s\n",
      " 1104474    3.5549955e-01   0.000000e+00   3.366842e+04   1140s\n",
      " 1111332    3.5616521e-01   0.000000e+00   1.623218e+05   1147s\n",
      " 1115904    3.5660949e-01   0.000000e+00   8.548887e+04   1151s\n",
      " 1120476    3.5703958e-01   0.000000e+00   1.555335e+04   1155s\n",
      " 1127334    3.5775697e-01   0.000000e+00   5.227670e+04   1161s\n",
      " 1131906    3.5817681e-01   0.000000e+00   9.914457e+03   1165s\n",
      " 1138764    3.5879758e-01   0.000000e+00   6.177037e+04   1172s\n",
      " 1143336    3.5925805e-01   0.000000e+00   6.060944e+04   1176s\n",
      " 1150194    3.5992997e-01   0.000000e+00   5.196510e+04   1182s\n",
      " 1154766    3.6033504e-01   0.000000e+00   3.602547e+04   1187s\n",
      " 1159338    3.6074211e-01   0.000000e+00   1.783698e+04   1191s\n",
      " 1163910    3.6123477e-01   0.000000e+00   4.262145e+04   1195s\n",
      "\n",
      "Root relaxation: time limit, 1168737 iterations, 1089.47 seconds (4190.28 work units)\n",
      "\n",
      "    Nodes    |    Current Node    |     Objective Bounds      |     Work\n",
      " Expl Unexpl |  Obj  Depth IntInf | Incumbent    BestBd   Gap | It/Node Time\n"
     ]
    },
    {
     "name": "stdout",
     "output_type": "stream",
     "text": [
      "\n",
      "     0     0          -    0               -    0.00000      -     - 1200s\n",
      "\n",
      "Explored 1 nodes (1168737 simplex iterations) in 1200.11 seconds (4282.16 work units)\n",
      "Thread count was 1 (of 12 available processors)\n",
      "\n",
      "Solution count 0\n",
      "\n",
      "Time limit reached\n",
      "Best objective -, best bound 0.000000000000e+00, gap -\n"
     ]
    }
   ],
   "source": [
    "model.optimize()"
   ]
  },
  {
   "cell_type": "code",
   "execution_count": 24,
   "metadata": {},
   "outputs": [
    {
     "name": "stdout",
     "output_type": "stream",
     "text": [
      "Gurobi Optimizer version 10.0.2 build v10.0.2rc0 (win64)\n",
      "\n",
      "CPU model: 12th Gen Intel(R) Core(TM) i5-1235U, instruction set [SSE2|AVX|AVX2]\n",
      "Thread count: 10 physical cores, 12 logical processors, using up to 1 threads\n",
      "\n",
      "Optimize a model with 15340994 rows, 1491621 columns and 20820422 nonzeros\n",
      "Model fingerprint: 0x12ed60c1\n",
      "Variable types: 0 continuous, 1491621 integer (1491621 binary)\n",
      "Coefficient statistics:\n",
      "  Matrix range     [1e+00, 1e+00]\n",
      "  Objective range  [5e-05, 3e-01]\n",
      "  Bounds range     [1e+00, 1e+00]\n",
      "  RHS range        [1e+00, 1e+00]\n",
      "Presolved: 6001257 rows, 220324 columns, 18292990 nonzeros\n",
      "\n",
      "Continuing optimization...\n",
      "\n",
      "     0     0          -    0               -    0.00000      -     - 2400s\n",
      "\n",
      "Explored 1 nodes (2401227 simplex iterations) in 1200.11 seconds (4491.06 work units)\n",
      "Thread count was 1 (of 12 available processors)\n",
      "\n",
      "Solution count 0\n",
      "\n",
      "Time limit reached\n",
      "Best objective -, best bound 0.000000000000e+00, gap -\n"
     ]
    }
   ],
   "source": [
    "if model.Status == gp.GRB.TIME_LIMIT:\n",
    "\n",
    "    # Extend the time limit\n",
    "    extended_time_limit =1200 # Set the extended time limit in seconds\n",
    "    model.setParam('TimeLimit', extended_time_limit)\n",
    "\n",
    "    # Continue the optimization\n",
    "    model.optimize()"
   ]
  },
  {
   "cell_type": "code",
   "execution_count": 25,
   "metadata": {},
   "outputs": [
    {
     "name": "stdout",
     "output_type": "stream",
     "text": [
      "Gurobi Optimizer version 10.0.2 build v10.0.2rc0 (win64)\n",
      "\n",
      "CPU model: 12th Gen Intel(R) Core(TM) i5-1235U, instruction set [SSE2|AVX|AVX2]\n",
      "Thread count: 10 physical cores, 12 logical processors, using up to 1 threads\n",
      "\n",
      "Optimize a model with 15340994 rows, 1491621 columns and 20820422 nonzeros\n",
      "Model fingerprint: 0x12ed60c1\n",
      "Variable types: 0 continuous, 1491621 integer (1491621 binary)\n",
      "Coefficient statistics:\n",
      "  Matrix range     [1e+00, 1e+00]\n",
      "  Objective range  [5e-05, 3e-01]\n",
      "  Bounds range     [1e+00, 1e+00]\n",
      "  RHS range        [1e+00, 1e+00]\n",
      "Presolved: 6001257 rows, 220324 columns, 18292990 nonzeros\n",
      "\n",
      "Continuing optimization...\n",
      "\n",
      "     0     0          -    0               -    0.00000      -     - 3600s\n",
      "\n",
      "Explored 1 nodes (3685279 simplex iterations) in 1200.12 seconds (4727.51 work units)\n",
      "Thread count was 1 (of 12 available processors)\n",
      "\n",
      "Solution count 0\n",
      "\n",
      "Time limit reached\n",
      "Best objective -, best bound 0.000000000000e+00, gap -\n"
     ]
    }
   ],
   "source": [
    "if model.Status == gp.GRB.TIME_LIMIT:\n",
    "\n",
    "    # Extend the time limit\n",
    "    extended_time_limit =1200 # Set the extended time limit in seconds\n",
    "    model.setParam('TimeLimit', extended_time_limit)\n",
    "\n",
    "    # Continue the optimization\n",
    "    model.optimize()"
   ]
  },
  {
   "cell_type": "code",
   "execution_count": 26,
   "metadata": {},
   "outputs": [
    {
     "name": "stdout",
     "output_type": "stream",
     "text": [
      "Gurobi Optimizer version 10.0.2 build v10.0.2rc0 (win64)\n",
      "\n",
      "CPU model: 12th Gen Intel(R) Core(TM) i5-1235U, instruction set [SSE2|AVX|AVX2]\n",
      "Thread count: 10 physical cores, 12 logical processors, using up to 1 threads\n",
      "\n",
      "Optimize a model with 15340994 rows, 1491621 columns and 20820422 nonzeros\n",
      "Model fingerprint: 0x12ed60c1\n",
      "Variable types: 0 continuous, 1491621 integer (1491621 binary)\n",
      "Coefficient statistics:\n",
      "  Matrix range     [1e+00, 1e+00]\n",
      "  Objective range  [5e-05, 3e-01]\n",
      "  Bounds range     [1e+00, 1e+00]\n",
      "  RHS range        [1e+00, 1e+00]\n",
      "Presolved: 6001257 rows, 220324 columns, 18292990 nonzeros\n",
      "\n",
      "Continuing optimization...\n",
      "\n",
      "     0     0          -    0               -    0.00000      -     - 4800s\n",
      "\n",
      "Explored 1 nodes (5014797 simplex iterations) in 1200.10 seconds (4926.48 work units)\n",
      "Thread count was 1 (of 12 available processors)\n",
      "\n",
      "Solution count 0\n",
      "\n",
      "Time limit reached\n",
      "Best objective -, best bound 0.000000000000e+00, gap -\n"
     ]
    }
   ],
   "source": [
    "if model.Status == gp.GRB.TIME_LIMIT:\n",
    "\n",
    "    # Extend the time limit\n",
    "    extended_time_limit =1200 # Set the extended time limit in seconds\n",
    "    model.setParam('TimeLimit', extended_time_limit)\n",
    "\n",
    "    # Continue the optimization\n",
    "    model.optimize()"
   ]
  },
  {
   "cell_type": "code",
   "execution_count": 27,
   "metadata": {
    "scrolled": true
   },
   "outputs": [
    {
     "name": "stdout",
     "output_type": "stream",
     "text": [
      "Set parameter TimeLimit to value 3600\n",
      "Gurobi Optimizer version 10.0.2 build v10.0.2rc0 (win64)\n",
      "\n",
      "CPU model: 12th Gen Intel(R) Core(TM) i5-1235U, instruction set [SSE2|AVX|AVX2]\n",
      "Thread count: 10 physical cores, 12 logical processors, using up to 1 threads\n",
      "\n",
      "Optimize a model with 15340994 rows, 1491621 columns and 20820422 nonzeros\n",
      "Model fingerprint: 0x12ed60c1\n",
      "Variable types: 0 continuous, 1491621 integer (1491621 binary)\n",
      "Coefficient statistics:\n",
      "  Matrix range     [1e+00, 1e+00]\n",
      "  Objective range  [5e-05, 3e-01]\n",
      "  Bounds range     [1e+00, 1e+00]\n",
      "  RHS range        [1e+00, 1e+00]\n",
      "Presolved: 6001257 rows, 220324 columns, 18292990 nonzeros\n",
      "\n",
      "Continuing optimization...\n",
      "\n",
      "     0     0          -    0               -    0.00000      -     - 8400s\n",
      "\n",
      "Explored 1 nodes (8533541 simplex iterations) in 3600.22 seconds (15393.54 work units)\n",
      "Thread count was 1 (of 12 available processors)\n",
      "\n",
      "Solution count 0\n",
      "\n",
      "Time limit reached\n",
      "Best objective -, best bound 0.000000000000e+00, gap -\n"
     ]
    }
   ],
   "source": [
    "if model.Status == gp.GRB.TIME_LIMIT:\n",
    "\n",
    "    # Extend the time limit\n",
    "    extended_time_limit =3600 # Set the extended time limit in seconds\n",
    "    model.setParam('TimeLimit', extended_time_limit)\n",
    "\n",
    "    # Continue the optimization\n",
    "    model.optimize()"
   ]
  },
  {
   "cell_type": "code",
   "execution_count": 28,
   "metadata": {},
   "outputs": [
    {
     "name": "stdout",
     "output_type": "stream",
     "text": [
      "Objective Value: inf\n"
     ]
    }
   ],
   "source": [
    "if model.Status == GRB.OPTIMAL:\n",
    "    print(\"Optimization was successful and an optimal solution was found.\")\n",
    "elif model.Status == GRB.INFEASIBLE:\n",
    "    print(\"The model is infeasible - no feasible solution exists.\")\n",
    "elif model.Status == GRB.UNBOUNDED:\n",
    "    print(\"The model is unbounded - the objective can be improved without limit.\")\n",
    "print(\"Objective Value:\", model.objVal)"
   ]
  }
 ],
 "metadata": {
  "kernelspec": {
   "display_name": "Python 3 (ipykernel)",
   "language": "python",
   "name": "python3"
  },
  "language_info": {
   "codemirror_mode": {
    "name": "ipython",
    "version": 3
   },
   "file_extension": ".py",
   "mimetype": "text/x-python",
   "name": "python",
   "nbconvert_exporter": "python",
   "pygments_lexer": "ipython3",
   "version": "3.9.12"
  }
 },
 "nbformat": 4,
 "nbformat_minor": 4
}

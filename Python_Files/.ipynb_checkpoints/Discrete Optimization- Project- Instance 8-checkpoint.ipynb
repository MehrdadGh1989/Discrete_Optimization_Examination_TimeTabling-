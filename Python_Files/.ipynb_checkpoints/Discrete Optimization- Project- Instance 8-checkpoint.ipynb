{
 "cells": [
  {
   "cell_type": "markdown",
   "metadata": {},
   "source": [
    "# Instance 8"
   ]
  },
  {
   "cell_type": "code",
   "execution_count": 1,
   "metadata": {},
   "outputs": [],
   "source": [
    "import os\n",
    "from pyomo.environ import *\n",
    "import numpy as np\n",
    "import pandas as pd\n",
    "import gurobipy as gp\n",
    "from gurobipy import GRB"
   ]
  },
  {
   "cell_type": "markdown",
   "metadata": {},
   "source": [
    "## Importing DataSet"
   ]
  },
  {
   "cell_type": "code",
   "execution_count": 3,
   "metadata": {},
   "outputs": [],
   "source": [
    "file_path = 'Instance_8.xlsx'\n",
    "# Read the Excel file into a dictionary of DataFrames, where keys are sheet names\n",
    "Instance_data = pd.read_excel(file_path, sheet_name=None)"
   ]
  },
  {
   "cell_type": "code",
   "execution_count": 4,
   "metadata": {},
   "outputs": [],
   "source": [
    "# Exam Data Set\n",
    "\n",
    "Exams = Instance_data['Sheet1']\n",
    "Exams['Exams'] = Exams['Exams'] - 1\n",
    "ExamsList = list(Exams['Exams'])"
   ]
  },
  {
   "cell_type": "markdown",
   "metadata": {},
   "source": [
    "### Dictionary of Students and their related Exams"
   ]
  },
  {
   "cell_type": "code",
   "execution_count": 5,
   "metadata": {},
   "outputs": [],
   "source": [
    "# Creating a Dictionary of Students and Their Related Exams\n",
    "Students_exams = Instance_data['Sheet3']\n",
    "Students_exams['ExamNumber'] = Students_exams['ExamNumber'] - 1\n",
    "# Initialize an empty dictionary to store the students and their exams\n",
    "students = {}\n",
    "# Iterate over the rows in the DataFrame\n",
    "for index, row in Students_exams.iterrows():\n",
    "    student = row['Student']\n",
    "    exam_number = row['ExamNumber']\n",
    "    \n",
    "    # Check if the student is already in the dictionary\n",
    "    if student in students:\n",
    "        students[student].append(exam_number)\n",
    "    # If the student is not in the dictionary, create a new key-value pair    \n",
    "    else:\n",
    "        students[student] = [exam_number]"
   ]
  },
  {
   "cell_type": "markdown",
   "metadata": {},
   "source": [
    "### TimeSlots"
   ]
  },
  {
   "cell_type": "code",
   "execution_count": 6,
   "metadata": {},
   "outputs": [],
   "source": [
    "Time_s = Instance_data['Sheet2']\n",
    "time_slots = Time_s.loc[0, 'TimeSlot']\n",
    "TimeList= list(range (time_slots))"
   ]
  },
  {
   "cell_type": "code",
   "execution_count": 7,
   "metadata": {},
   "outputs": [
    {
     "data": {
      "text/plain": [
       "[0, 1, 2, 3, 4, 5, 6, 7, 8, 9]"
      ]
     },
     "execution_count": 7,
     "metadata": {},
     "output_type": "execute_result"
    }
   ],
   "source": [
    "TimeList"
   ]
  },
  {
   "cell_type": "markdown",
   "metadata": {},
   "source": [
    "### Distance"
   ]
  },
  {
   "cell_type": "code",
   "execution_count": 8,
   "metadata": {},
   "outputs": [
    {
     "data": {
      "text/plain": [
       "[1, 2, 3, 4, 5]"
      ]
     },
     "execution_count": 8,
     "metadata": {},
     "output_type": "execute_result"
    }
   ],
   "source": [
    "#Distance\n",
    "Distance=list(range(1,6))\n",
    "Distance"
   ]
  },
  {
   "cell_type": "markdown",
   "metadata": {},
   "source": [
    "###  Finding Conflicted Exams (Weighted-Unweighted)"
   ]
  },
  {
   "cell_type": "code",
   "execution_count": 9,
   "metadata": {},
   "outputs": [],
   "source": [
    "# Unweighted\n",
    "# Step 1: Initialize the dictionary to store conflicting exams\n",
    "conflicting_exams = {exam: set() for exams_list in students.values() for exam in exams_list}\n",
    "\n",
    "# Step 2: Populate the dictionary with conflicting exams\n",
    "for student_exams in students.values():\n",
    "    for i, exam1 in enumerate(student_exams):\n",
    "        for exam2 in student_exams[i + 1:]:\n",
    "            conflicting_exams[exam1].add(exam2)\n",
    "            conflicting_exams[exam2].add(exam1)\n",
    "\n",
    "# Step 3: Create the unweighted conflicting matrix\n",
    "Unweighted_Conflict_Matrix = [\n",
    "    [1 if exam2 in conflicting_exams[exam1] else 0 for exam2 in ExamsList] for exam1 in ExamsList\n",
    "]\n"
   ]
  },
  {
   "cell_type": "code",
   "execution_count": 10,
   "metadata": {},
   "outputs": [],
   "source": [
    "# Weighted\n",
    "\n",
    "# The weighted Conflicting MATRIX\n",
    "# Step 1: Initialize the dictionary to store conflicting exams\n",
    "conflicting_exams = {exam: set() for exams_list in students.values() for exam in exams_list}\n",
    "\n",
    "# Step 2: Populate the dictionary with conflicting exams\n",
    "for student_exams in students.values():\n",
    "    for i, exam1 in enumerate(student_exams):\n",
    "        for exam2 in student_exams[i + 1:]:\n",
    "            conflicting_exams[exam1].add(exam2)\n",
    "            conflicting_exams[exam2].add(exam1)\n",
    "\n",
    "# Step 3: Create the weighted conflicting matrix\n",
    "weighted_conflicting_matrix = [[0 for _ in ExamsList] for _ in ExamsList]\n",
    "\n",
    "# Step 4: Calculate the number of students in each conflicting exam pair and fill the matrix\n",
    "for i, exam1 in enumerate(ExamsList):\n",
    "    for j, exam2 in enumerate(ExamsList):\n",
    "        if exam2 in conflicting_exams[exam1]:\n",
    "            count = sum(1 for student_exams in students.values() if exam1 in student_exams and exam2 in student_exams)\n",
    "            weighted_conflicting_matrix[i][j] = count\n",
    "\n"
   ]
  },
  {
   "cell_type": "markdown",
   "metadata": {},
   "source": [
    "### Converting the Llist of UC and WC to Matrix of Coefficients"
   ]
  },
  {
   "cell_type": "code",
   "execution_count": 11,
   "metadata": {},
   "outputs": [],
   "source": [
    "#Conflicting Exams (Weighted and Unweighted)\n",
    "\n",
    "UC_Matrix=np.array(Unweighted_Conflict_Matrix )\n",
    "WC_Matrix=np.array(weighted_conflicting_matrix)"
   ]
  },
  {
   "cell_type": "code",
   "execution_count": 12,
   "metadata": {},
   "outputs": [
    {
     "data": {
      "text/plain": [
       "array([[0, 1, 1, ..., 0, 0, 0],\n",
       "       [1, 0, 1, ..., 0, 0, 0],\n",
       "       [1, 1, 0, ..., 0, 0, 0],\n",
       "       ...,\n",
       "       [0, 0, 0, ..., 0, 0, 0],\n",
       "       [0, 0, 0, ..., 0, 0, 0],\n",
       "       [0, 0, 0, ..., 0, 0, 0]])"
      ]
     },
     "execution_count": 12,
     "metadata": {},
     "output_type": "execute_result"
    }
   ],
   "source": [
    "UC_Matrix"
   ]
  },
  {
   "cell_type": "code",
   "execution_count": 13,
   "metadata": {},
   "outputs": [
    {
     "data": {
      "text/plain": [
       "array([[ 0, 20, 20, ...,  0,  0,  0],\n",
       "       [20,  0, 20, ...,  0,  0,  0],\n",
       "       [20, 20,  0, ...,  0,  0,  0],\n",
       "       ...,\n",
       "       [ 0,  0,  0, ...,  0,  0,  0],\n",
       "       [ 0,  0,  0, ...,  0,  0,  0],\n",
       "       [ 0,  0,  0, ...,  0,  0,  0]])"
      ]
     },
     "execution_count": 13,
     "metadata": {},
     "output_type": "execute_result"
    }
   ],
   "source": [
    "WC_Matrix"
   ]
  },
  {
   "cell_type": "code",
   "execution_count": 14,
   "metadata": {},
   "outputs": [
    {
     "name": "stdout",
     "output_type": "stream",
     "text": [
      "Set parameter Username\n",
      "Set parameter LogFile to value \"C:\\Users\\ghadi\\Downloads\\Discrete Optimization Project - Gurobi- Instance 8\\Discrete Optimization Project - Instance 8-Log File.log\"\n",
      "Academic license - for non-commercial use only - expires 2024-07-07\n",
      "Set parameter Threads to value 1\n",
      "Set parameter Presolve to value 1\n",
      "Set parameter Method to value 0\n",
      "Set parameter TimeLimit to value 1200\n",
      "Set parameter PreSparsify to value 1\n"
     ]
    }
   ],
   "source": [
    "# Setting up the environment\n",
    "\n",
    "\n",
    "env = gp.Env(\n",
    "    r\"C:\\Users\\ghadi\\Downloads\\Discrete Optimization Project - Gurobi- Instance 8\\Discrete Optimization Project - Instance 8-Log File.log\")\n",
    "env.start()\n",
    "\n",
    "# Environment parameters\n",
    "env.setParam(\"Threads\", 1)  # Controls the number of threads to apply to parallel algorithms\n",
    "env.setParam(\"Presolve\", 1)  # Controls the presolve level. conservative (1).\n",
    "env.setParam(\"MIPGap\", 1e-4)\n",
    "env.setParam('Method', 0)  # Algorithm used to solve the initial root relaxation of a MIP model. 0=primal simplex.\n",
    "env.setParam(\"TimeLimit\", 1200)  # 20 minutes time limit\n",
    "env.setParam(\"PreSparsify\", 1) # to reduce the memory used\n"
   ]
  },
  {
   "cell_type": "markdown",
   "metadata": {},
   "source": [
    "### Defining Gurobi Model"
   ]
  },
  {
   "cell_type": "code",
   "execution_count": 15,
   "metadata": {},
   "outputs": [],
   "source": [
    "model = gp.Model(\"Exam_Scheduling\", env=env)"
   ]
  },
  {
   "cell_type": "markdown",
   "metadata": {},
   "source": [
    "### Defining Decision Variable and Auxiliary Variable"
   ]
  },
  {
   "cell_type": "code",
   "execution_count": 16,
   "metadata": {},
   "outputs": [],
   "source": [
    "#Decision Variable\n",
    "X = model.addVars(ExamsList, TimeList , vtype=GRB.BINARY, name=\"X\")"
   ]
  },
  {
   "cell_type": "code",
   "execution_count": 17,
   "metadata": {},
   "outputs": [],
   "source": [
    "# Binary auxiliary variable for controlling conflict\n",
    "Y = model.addVars(ExamsList, ExamsList, Distance, vtype=GRB.BINARY, name=\"Y\")"
   ]
  },
  {
   "cell_type": "markdown",
   "metadata": {},
   "source": [
    "###  Defining Constraints "
   ]
  },
  {
   "cell_type": "code",
   "execution_count": 18,
   "metadata": {},
   "outputs": [],
   "source": [
    "#Constraint 1\n",
    "model.addConstrs(UC_Matrix[i, j] * (X[i, k] + X[j, k]) <= 1 for i in ExamsList for j in ExamsList for k in TimeList)\n",
    "model.update()"
   ]
  },
  {
   "cell_type": "code",
   "execution_count": 19,
   "metadata": {},
   "outputs": [],
   "source": [
    "#Constraint 2\n",
    "model.addConstrs(sum(X[i, k] for k in TimeList) == 1 for i in ExamsList for k in TimeList)\n",
    "model.update()"
   ]
  },
  {
   "cell_type": "code",
   "execution_count": 20,
   "metadata": {},
   "outputs": [],
   "source": [
    "#Constraint C3\n",
    "model.addConstrs((X[i, k] + X[j, k + d]) <= Y[i, j, d] + 1 for i in ExamsList for j in ExamsList for k in TimeList for d in Distance if (k + d) in TimeList and UC_Matrix[i, j] != 0)\n",
    "model.update()"
   ]
  },
  {
   "cell_type": "markdown",
   "metadata": {},
   "source": [
    "### Defining Objective Function"
   ]
  },
  {
   "cell_type": "code",
   "execution_count": 21,
   "metadata": {},
   "outputs": [],
   "source": [
    "# Create the objective expression using a loop\n",
    "objective_expr = 0\n",
    "for i in ExamsList:\n",
    "    for j in ExamsList:\n",
    "        for d in Distance:\n",
    "            objective_expr += Y[i, j, d] * WC_Matrix[i, j] * ((2 ** (5 - d))/2750)\n",
    "\n",
    "# Set up the objective function for minimization\n",
    "model.setObjective(objective_expr, GRB.MINIMIZE)"
   ]
  },
  {
   "cell_type": "code",
   "execution_count": 22,
   "metadata": {},
   "outputs": [],
   "source": [
    "# Time limit for the model\n",
    "model.Params.TimeLimit = 1200"
   ]
  },
  {
   "cell_type": "code",
   "execution_count": 23,
   "metadata": {},
   "outputs": [],
   "source": [
    "model.update()"
   ]
  },
  {
   "cell_type": "code",
   "execution_count": 24,
   "metadata": {},
   "outputs": [
    {
     "name": "stdout",
     "output_type": "stream",
     "text": [
      "Gurobi Optimizer version 10.0.2 build v10.0.2rc0 (win64)\n",
      "\n",
      "CPU model: 12th Gen Intel(R) Core(TM) i5-1235U, instruction set [SSE2|AVX|AVX2]\n",
      "Thread count: 10 physical cores, 12 logical processors, using up to 1 threads\n",
      "\n",
      "Optimize a model with 440500 rows, 171120 columns and 375900 nonzeros\n",
      "Model fingerprint: 0xa6ec54e0\n",
      "Variable types: 0 continuous, 171120 integer (171120 binary)\n",
      "Coefficient statistics:\n",
      "  Matrix range     [1e+00, 1e+00]\n",
      "  Objective range  [4e-04, 2e+00]\n",
      "  Bounds range     [1e+00, 1e+00]\n",
      "  RHS range        [1e+00, 1e+00]\n",
      "Presolve removed 337139 rows and 154980 columns\n",
      "Presolve time: 1.78s\n",
      "Presolved: 103361 rows, 16140 columns, 318830 nonzeros\n",
      "Variable types: 0 continuous, 16140 integer (16140 binary)\n",
      "Root relaxation presolved: 16140 rows, 119501 columns, 334970 nonzeros\n",
      "\n",
      "\n",
      "Root relaxation: objective 0.000000e+00, 6346 iterations, 0.52 seconds (0.90 work units)\n",
      "Total elapsed time = 5.94s\n",
      "\n",
      "    Nodes    |    Current Node    |     Objective Bounds      |     Work\n",
      " Expl Unexpl |  Obj  Depth IntInf | Incumbent    BestBd   Gap | It/Node Time\n",
      "\n",
      "     0     0    0.00000    0  490          -    0.00000      -     -    6s\n",
      "     0     0    0.00000    0  629          -    0.00000      -     -   15s\n",
      "H    0     0                      38.3192727    0.00000   100%     -   15s\n",
      "H    0     0                      38.3145455    0.00000   100%     -   15s\n",
      "     0     0    0.00000    0  635   38.31455    0.00000   100%     -   20s\n",
      "     0     0    0.00000    0  708   38.31455    0.00000   100%     -   38s\n",
      "     0     0    0.00000    0  736   38.31455    0.00000   100%     -   48s\n",
      "     0     0    0.00000    0  739   38.31455    0.00000   100%     -   66s\n",
      "     0     0    0.00055    0  720   38.31455    0.00055   100%     -   76s\n",
      "     0     0    0.00614    0  809   38.31455    0.00614   100%     -   94s\n",
      "     0     0    0.01347    0  897   38.31455    0.01347   100%     -  107s\n",
      "     0     0    0.02493    0  743   38.31455    0.02493   100%     -  120s\n",
      "     0     0    0.03875    0  910   38.31455    0.03875   100%     -  132s\n",
      "     0     0    0.05326    0 1035   38.31455    0.05326   100%     -  150s\n",
      "     0     0    0.06593    0 1074   38.31455    0.06593   100%     -  165s\n",
      "     0     0    0.07406    0 1075   38.31455    0.07406   100%     -  182s\n",
      "     0     0    0.08280    0 1132   38.31455    0.08280   100%     -  196s\n",
      "     0     0    0.08719    0 1161   38.31455    0.08719   100%     -  211s\n",
      "     0     0    0.09256    0 1186   38.31455    0.09256   100%     -  225s\n",
      "     0     0    0.09703    0 1147   38.31455    0.09703   100%     -  240s\n",
      "     0     0    0.09999    0 1235   38.31455    0.09999   100%     -  253s\n",
      "     0     0    0.10222    0 1287   38.31455    0.10222   100%     -  269s\n",
      "     0     0    0.10490    0 1341   38.31455    0.10490   100%     -  284s\n",
      "     0     0    0.10655    0 1289   38.31455    0.10655   100%     -  298s\n",
      "     0     0    0.10869    0 1318   38.31455    0.10869   100%     -  313s\n",
      "     0     0    0.11088    0 1310   38.31455    0.11088   100%     -  328s\n",
      "     0     0    0.11298    0 1375   38.31455    0.11298   100%     -  341s\n",
      "     0     0    0.11598    0 1370   38.31455    0.11598   100%     -  355s\n",
      "H    0     0                      37.5007273    0.11598   100%     -  355s\n",
      "     0     0    0.12879    0 1325   37.50073    0.12879   100%     -  377s\n",
      "     0     0    0.13960    0 1206   37.50073    0.13960   100%     -  394s\n",
      "     0     0    0.15325    0 1339   37.50073    0.15325   100%     -  417s\n",
      "     0     0    0.16199    0 1337   37.50073    0.16199   100%     -  432s\n",
      "     0     0    0.17415    0 1429   37.50073    0.17415   100%     -  458s\n",
      "     0     0    0.18090    0 1382   37.50073    0.18090   100%     -  471s\n",
      "     0     0    0.18712    0 1450   37.50073    0.18712   100%     -  485s\n",
      "     0     0    0.19432    0 1453   37.50073    0.19432  99.5%     -  502s\n",
      "     0     0    0.20175    0 1509   37.50073    0.20175  99.5%     -  518s\n",
      "     0     0    0.20684    0 1550   37.50073    0.20684  99.4%     -  536s\n",
      "     0     0    0.21017    0 1634   37.50073    0.21017  99.4%     -  552s\n",
      "     0     0    0.21601    0 1646   37.50073    0.21601  99.4%     -  573s\n",
      "     0     0    0.21889    0 1693   37.50073    0.21889  99.4%     -  583s\n",
      "     0     0    0.22059    0 1758   37.50073    0.22059  99.4%     -  599s\n",
      "     0     0    0.22198    0 1797   37.50073    0.22198  99.4%     -  612s\n",
      "     0     0    0.22631    0 1783   37.50073    0.22631  99.4%     -  627s\n",
      "     0     0    0.22940    0 1847   37.50073    0.22940  99.4%     -  639s\n",
      "     0     0    0.23352    0 1910   37.50073    0.23352  99.4%     -  653s\n",
      "     0     0    0.23646    0 2005   37.50073    0.23646  99.4%     -  665s\n",
      "     0     0    0.24641    0 1975   37.50073    0.24641  99.3%     -  684s\n",
      "     0     0    0.25513    0 2034   37.50073    0.25513  99.3%     -  698s\n",
      "     0     0    0.26494    0 2006   37.50073    0.26494  99.3%     -  716s\n",
      "     0     0    0.27359    0 2070   37.50073    0.27359  99.3%     -  731s\n",
      "     0     0    0.28404    0 2016   37.50073    0.28404  99.2%     -  748s\n",
      "     0     0    0.29550    0 2116   37.50073    0.29550  99.2%     -  766s\n",
      "     0     0    0.30258    0 2143   37.50073    0.30258  99.2%     -  782s\n",
      "     0     0    0.31240    0 2119   37.50073    0.31240  99.2%     -  798s\n",
      "     0     0    0.32252    0 2315   37.50073    0.32252  99.1%     -  823s\n",
      "     0     0    0.33937    0 2179   37.50073    0.33937  99.1%     -  850s\n",
      "     0     0    0.35116    0 2234   37.50073    0.35116  99.1%     -  871s\n",
      "     0     0    0.35813    0 2321   37.50073    0.35813  99.0%     -  888s\n",
      "     0     0    0.36704    0 2415   37.50073    0.36704  99.0%     -  906s\n",
      "     0     0    0.37553    0 2477   37.50073    0.37553  99.0%     -  924s\n",
      "     0     0    0.38948    0 2455   37.50073    0.38948  99.0%     -  948s\n",
      "     0     0    0.39870    0 2620   37.50073    0.39870  98.9%     -  971s\n",
      "     0     0    0.41706    0 2428   37.50073    0.41706  98.9%     - 1000s\n",
      "     0     0    0.42669    0 2588   37.50073    0.42669  98.9%     - 1021s\n",
      "     0     0    0.43955    0 2589   37.50073    0.43955  98.8%     - 1044s\n",
      "     0     0    0.44659    0 2731   37.50073    0.44659  98.8%     - 1063s\n",
      "     0     0    0.46149    0 2683   37.50073    0.46149  98.8%     - 1091s\n",
      "     0     0    0.46987    0 2761   37.50073    0.46987  98.7%     - 1112s\n",
      "     0     0    0.48343    0 2787   37.50073    0.48343  98.7%     - 1140s\n",
      "     0     0    0.49149    0 2900   37.50073    0.49149  98.7%     - 1161s\n",
      "     0     0    0.50454    0 2875   37.50073    0.50454  98.7%     - 1190s\n",
      "     0     0          -    0        37.50073    0.50454  98.7%     - 1200s\n",
      "\n",
      "Cutting planes:\n",
      "  Clique: 5\n",
      "  MIR: 173\n",
      "  Zero half: 1\n",
      "  RLT: 3652\n",
      "  BQP: 852\n",
      "\n",
      "Explored 1 nodes (786393 simplex iterations) in 1200.04 seconds (5633.61 work units)\n",
      "Thread count was 1 (of 12 available processors)\n",
      "\n",
      "Solution count 3: 37.5007 38.3145 38.3193 \n",
      "\n",
      "Time limit reached\n",
      "Best objective 3.750072727273e+01, best bound 5.047272727273e-01, gap 98.6541%\n"
     ]
    }
   ],
   "source": [
    "model.optimize()"
   ]
  },
  {
   "cell_type": "code",
   "execution_count": 25,
   "metadata": {},
   "outputs": [
    {
     "name": "stdout",
     "output_type": "stream",
     "text": [
      "Objective Value: 37.50072727272726\n"
     ]
    }
   ],
   "source": [
    "if model.Status == GRB.OPTIMAL:\n",
    "    print(\"Optimization was successful and an optimal solution was found.\")\n",
    "elif model.Status == GRB.INFEASIBLE:\n",
    "    print(\"The model is infeasible - no feasible solution exists.\")\n",
    "elif model.Status == GRB.UNBOUNDED:\n",
    "    print(\"The model is unbounded - the objective can be improved without limit.\")\n",
    "print(\"Objective Value:\", model.objVal)"
   ]
  },
  {
   "cell_type": "code",
   "execution_count": 26,
   "metadata": {},
   "outputs": [
    {
     "name": "stdout",
     "output_type": "stream",
     "text": [
      "Objective Value: 37.50072727272726\n"
     ]
    }
   ],
   "source": [
    "print(\"Objective Value:\", model.objVal)"
   ]
  },
  {
   "cell_type": "markdown",
   "metadata": {},
   "source": [
    "### Time Slots and Exams in Each Time Slot"
   ]
  },
  {
   "cell_type": "code",
   "execution_count": 27,
   "metadata": {},
   "outputs": [],
   "source": [
    "# Scheduled-Exams in LIST\n",
    "scheduled_exams = []\n",
    "# Print the values of decision variable X\n",
    "for exam in ExamsList:\n",
    "    for time in TimeList:\n",
    "        if X[exam, time].x > 0.5:\n",
    "            scheduled_exams.append((exam, time))"
   ]
  },
  {
   "cell_type": "code",
   "execution_count": 28,
   "metadata": {},
   "outputs": [
    {
     "name": "stdout",
     "output_type": "stream",
     "text": [
      "Time Slot 0: Exams [1, 5, 19, 22, 26, 29, 41, 51, 59, 73, 75, 76, 84, 86, 122, 126, 127, 133, 135, 138, 149, 150, 161, 176]\n",
      "Time Slot 1: Exams [2, 4, 9, 11, 12, 13, 14, 15, 25, 38, 43, 56, 57, 72, 82, 88, 97, 99, 100, 101, 102, 103, 107, 108, 116, 125, 132, 157, 164, 173, 174, 179, 182]\n",
      "Time Slot 2: Exams [3, 7, 8, 20, 36, 42, 46, 61, 62, 71, 79, 98, 105, 118, 121, 141, 147, 153, 168, 180]\n",
      "Time Slot 3: Exams [18, 30, 34, 39, 48, 52, 64, 80, 90, 92, 115, 134, 136, 159, 160, 169, 178]\n",
      "Time Slot 4: Exams [35, 69, 87, 104, 110, 124, 131, 139, 146, 158, 162]\n",
      "Time Slot 5: Exams [10, 55, 93, 163, 170, 181]\n",
      "Time Slot 6: Exams [0, 27, 47, 50, 60, 94, 106, 113, 117, 120, 130, 137, 151, 175, 177]\n",
      "Time Slot 7: Exams [21, 31, 37, 58, 65, 66, 68, 91, 112, 114, 142, 143, 144, 148, 156, 166, 167]\n",
      "Time Slot 8: Exams [6, 16, 23, 24, 28, 45, 49, 54, 70, 77, 83, 95, 96, 109, 111, 119, 128, 129, 145, 155, 172]\n",
      "Time Slot 9: Exams [17, 32, 33, 40, 44, 53, 63, 67, 74, 78, 81, 85, 89, 123, 140, 152, 154, 165, 171, 183]\n"
     ]
    }
   ],
   "source": [
    "# Create a dictionary to store exams for each time slot\n",
    "Exams_in_TimeSlots = {}\n",
    "\n",
    "for exam, time in scheduled_exams:\n",
    "    if time not in Exams_in_TimeSlots:\n",
    "        Exams_in_TimeSlots[time] = []\n",
    "    Exams_in_TimeSlots[time].append(exam)\n",
    "\n",
    "# Print the organized structure\n",
    "for time_slot, exams in sorted(Exams_in_TimeSlots.items()):\n",
    "    print(f\"Time Slot {time_slot}: Exams {exams}\")"
   ]
  },
  {
   "cell_type": "code",
   "execution_count": 29,
   "metadata": {},
   "outputs": [],
   "source": [
    "# Sorting the Dic According to Time Slot It Will be Sorted By Keys \n",
    "Exams_in_TimeSlots= dict(sorted(Exams_in_TimeSlots.items()))"
   ]
  },
  {
   "cell_type": "markdown",
   "metadata": {},
   "source": [
    "### Chcking whether there is Conflict Between the Exams In Each Time Slots"
   ]
  },
  {
   "cell_type": "code",
   "execution_count": 30,
   "metadata": {
    "scrolled": true
   },
   "outputs": [],
   "source": [
    "#All pairs of Time Tables exams related to Each time slot-More General\n",
    "All_pairs_in_TimeSlots_Exams = []\n",
    "\n",
    "for time_slot, exams in Exams_in_TimeSlots.items():\n",
    "    exam_pairs = [(exams[i], exams[j]) for i in range(len(exams)) for j in range(i + 1, len(exams))]\n",
    "    All_pairs_in_TimeSlots_Exams.extend(exam_pairs)"
   ]
  },
  {
   "cell_type": "code",
   "execution_count": 31,
   "metadata": {},
   "outputs": [],
   "source": [
    "#Conflicting Exams - The code is Correct\n",
    "List_ConflictExams=[]\n",
    "for i in ExamsList:\n",
    "    for j in ExamsList:\n",
    "        if UC_Matrix[i,j] > 0:\n",
    "            List_ConflictExams.append((i,j))"
   ]
  },
  {
   "cell_type": "code",
   "execution_count": 33,
   "metadata": {},
   "outputs": [
    {
     "name": "stdout",
     "output_type": "stream",
     "text": [
      "The Solution is Feasible Meaning that There is No Conflicting Exam in a All Time Slots\n"
     ]
    }
   ],
   "source": [
    "# To find Whether There is Intersection Between This Lists or Not\n",
    "\n",
    "Set_All_pairs_in_TimeSlots_Exams=set(All_pairs_in_TimeSlots_Exams)\n",
    "Set_List_ConflictExams=set(List_ConflictExams)\n",
    "Common_elements = Set_All_pairs_in_TimeSlots_Exams.intersection(List_ConflictExams)\n",
    "# Find common elements\n",
    "if len (Common_elements) == 0:\n",
    "    print('The Solution is Feasible Meaning that There is No Conflicting Exam in a All Time Slots')\n",
    "else:\n",
    "    print('The Solution is Not Feasible Meaning that There is Conflicting Exam in Time Slots')\n",
    "    \n",
    "\n",
    "\n",
    "# Print the common elements\n",
    "#print(\"Common Elements:\", Common_elements)"
   ]
  },
  {
   "cell_type": "markdown",
   "metadata": {},
   "source": [
    "### Necessary OutPuts "
   ]
  },
  {
   "cell_type": "code",
   "execution_count": 34,
   "metadata": {},
   "outputs": [],
   "source": [
    "output_folder = r\"C:\\Users\\ghadi\\Downloads\\Discrete Optimization Project - Gurobi- Instance 8\"\n",
    "\n",
    "\n",
    "output_file_path = os.path.join(output_folder, \"Discrete Optimization Project- Instance 8 .sol\")\n",
    "\n",
    "# Specify the file name only for model.write()\n",
    "model.write(\"Discrete Optimization Project 2023.sol\")\n",
    "\n",
    "with open(output_file_path, 'w') as f:\n",
    "    # your code here\n",
    "    \n",
    "    # Convert Exams_in_TimeSlots to a string before writing\n",
    "    exams_string = \", \".join(map(str, TimeList))\n",
    "    f.write(f\"Exams Time Slots are: {exams_string}\\n\")\n",
    "    \n",
    "    f.write('\\n\\n')\n",
    "    \n",
    "    if len (Common_elements) == 0:\n",
    "        f.write('The Solution is Feasible Meaning that There is No Conflicting Exam in  All Time Slots')\n",
    "    else:\n",
    "        f.write('The Solution is Not Feasible Meaning that There is Conflicting Exam in Time Slots')\n",
    "        \n",
    "    \n",
    "    f.write('\\n\\n')    \n",
    "        \n",
    "    \n",
    "    for time_slot, exams in sorted(Exams_in_TimeSlots.items()):\n",
    "        f.write(f\"Time Slot {time_slot}: Exams {exams}\\n\")\n",
    "        \n",
    "    f.write('\\n\\n') \n",
    "    \n",
    "    f.write(f\"The Objected Value - Penalty: {model.objVal}\\n\")\n",
    "    f.write(f\"The Benchmark is = 24.769 \\n\")\n",
    "    "
   ]
  }
 ],
 "metadata": {
  "kernelspec": {
   "display_name": "Python 3 (ipykernel)",
   "language": "python",
   "name": "python3"
  },
  "language_info": {
   "codemirror_mode": {
    "name": "ipython",
    "version": 3
   },
   "file_extension": ".py",
   "mimetype": "text/x-python",
   "name": "python",
   "nbconvert_exporter": "python",
   "pygments_lexer": "ipython3",
   "version": "3.9.12"
  }
 },
 "nbformat": 4,
 "nbformat_minor": 4
}

{
 "cells": [
  {
   "cell_type": "markdown",
   "metadata": {},
   "source": [
    "# Instance 11"
   ]
  },
  {
   "cell_type": "code",
   "execution_count": 1,
   "metadata": {},
   "outputs": [],
   "source": [
    "import os\n",
    "from pyomo.environ import *\n",
    "import numpy as np\n",
    "import pandas as pd\n",
    "import gurobipy as gp\n",
    "from gurobipy import GRB"
   ]
  },
  {
   "cell_type": "markdown",
   "metadata": {},
   "source": [
    "## Importing DataSet"
   ]
  },
  {
   "cell_type": "code",
   "execution_count": 2,
   "metadata": {},
   "outputs": [],
   "source": [
    "file_path = 'Instance_11.xlsx'\n",
    "# Read the Excel file into a dictionary of DataFrames, where keys are sheet names\n",
    "Instance_data = pd.read_excel(file_path, sheet_name=None)"
   ]
  },
  {
   "cell_type": "code",
   "execution_count": 3,
   "metadata": {},
   "outputs": [],
   "source": [
    "# Exam Data Set\n",
    "\n",
    "Exams = Instance_data['Sheet1']\n",
    "Exams['Exams'] = Exams['Exams'] - 1\n",
    "ExamsList = list(Exams['Exams'])"
   ]
  },
  {
   "cell_type": "markdown",
   "metadata": {},
   "source": [
    "### Dictionary of Students and their related Exams"
   ]
  },
  {
   "cell_type": "code",
   "execution_count": 4,
   "metadata": {},
   "outputs": [],
   "source": [
    "# Creating a Dictionary of Students and Their Related Exams\n",
    "Students_exams = Instance_data['Sheet3']\n",
    "Students_exams['ExamNumber'] = Students_exams['ExamNumber'] - 1\n",
    "# Initialize an empty dictionary to store the students and their exams\n",
    "students = {}\n",
    "# Iterate over the rows in the DataFrame\n",
    "for index, row in Students_exams.iterrows():\n",
    "    student = row['Student']\n",
    "    exam_number = row['ExamNumber']\n",
    "    \n",
    "    # Check if the student is already in the dictionary\n",
    "    if student in students:\n",
    "        students[student].append(exam_number)\n",
    "    # If the student is not in the dictionary, create a new key-value pair    \n",
    "    else:\n",
    "        students[student] = [exam_number]"
   ]
  },
  {
   "cell_type": "markdown",
   "metadata": {},
   "source": [
    "### TimeSlots"
   ]
  },
  {
   "cell_type": "code",
   "execution_count": 5,
   "metadata": {},
   "outputs": [],
   "source": [
    "Time_s = Instance_data['Sheet2']\n",
    "time_slots = Time_s.loc[0, 'TimeSlot']\n",
    "TimeList= list(range (time_slots))"
   ]
  },
  {
   "cell_type": "code",
   "execution_count": 6,
   "metadata": {},
   "outputs": [
    {
     "data": {
      "text/plain": [
       "[0,\n",
       " 1,\n",
       " 2,\n",
       " 3,\n",
       " 4,\n",
       " 5,\n",
       " 6,\n",
       " 7,\n",
       " 8,\n",
       " 9,\n",
       " 10,\n",
       " 11,\n",
       " 12,\n",
       " 13,\n",
       " 14,\n",
       " 15,\n",
       " 16,\n",
       " 17,\n",
       " 18,\n",
       " 19,\n",
       " 20,\n",
       " 21,\n",
       " 22,\n",
       " 23,\n",
       " 24,\n",
       " 25,\n",
       " 26,\n",
       " 27,\n",
       " 28,\n",
       " 29,\n",
       " 30,\n",
       " 31,\n",
       " 32,\n",
       " 33,\n",
       " 34]"
      ]
     },
     "execution_count": 6,
     "metadata": {},
     "output_type": "execute_result"
    }
   ],
   "source": [
    "TimeList"
   ]
  },
  {
   "cell_type": "markdown",
   "metadata": {},
   "source": [
    "### Distance"
   ]
  },
  {
   "cell_type": "code",
   "execution_count": 7,
   "metadata": {},
   "outputs": [
    {
     "data": {
      "text/plain": [
       "[1, 2, 3, 4, 5]"
      ]
     },
     "execution_count": 7,
     "metadata": {},
     "output_type": "execute_result"
    }
   ],
   "source": [
    "#Distance\n",
    "Distance=list(range(1,6))\n",
    "Distance"
   ]
  },
  {
   "cell_type": "markdown",
   "metadata": {},
   "source": [
    "###  Finding Conflicted Exams (Weighted-Unweighted)"
   ]
  },
  {
   "cell_type": "code",
   "execution_count": 8,
   "metadata": {},
   "outputs": [],
   "source": [
    "# Unweighted\n",
    "# Step 1: Initialize the dictionary to store conflicting exams\n",
    "conflicting_exams = {exam: set() for exams_list in students.values() for exam in exams_list}\n",
    "\n",
    "# Step 2: Populate the dictionary with conflicting exams\n",
    "for student_exams in students.values():\n",
    "    for i, exam1 in enumerate(student_exams):\n",
    "        for exam2 in student_exams[i + 1:]:\n",
    "            conflicting_exams[exam1].add(exam2)\n",
    "            conflicting_exams[exam2].add(exam1)\n",
    "\n",
    "# Step 3: Create the unweighted conflicting matrix\n",
    "Unweighted_Conflict_Matrix = [\n",
    "    [1 if exam2 in conflicting_exams[exam1] else 0 for exam2 in ExamsList] for exam1 in ExamsList\n",
    "]\n"
   ]
  },
  {
   "cell_type": "code",
   "execution_count": 9,
   "metadata": {},
   "outputs": [],
   "source": [
    "# Weighted\n",
    "\n",
    "# The weighted Conflicting MATRIX\n",
    "# Step 1: Initialize the dictionary to store conflicting exams\n",
    "conflicting_exams = {exam: set() for exams_list in students.values() for exam in exams_list}\n",
    "\n",
    "# Step 2: Populate the dictionary with conflicting exams\n",
    "for student_exams in students.values():\n",
    "    for i, exam1 in enumerate(student_exams):\n",
    "        for exam2 in student_exams[i + 1:]:\n",
    "            conflicting_exams[exam1].add(exam2)\n",
    "            conflicting_exams[exam2].add(exam1)\n",
    "\n",
    "# Step 3: Create the weighted conflicting matrix\n",
    "weighted_conflicting_matrix = [[0 for _ in ExamsList] for _ in ExamsList]\n",
    "\n",
    "# Step 4: Calculate the number of students in each conflicting exam pair and fill the matrix\n",
    "for i, exam1 in enumerate(ExamsList):\n",
    "    for j, exam2 in enumerate(ExamsList):\n",
    "        if exam2 in conflicting_exams[exam1]:\n",
    "            count = sum(1 for student_exams in students.values() if exam1 in student_exams and exam2 in student_exams)\n",
    "            weighted_conflicting_matrix[i][j] = count\n",
    "\n"
   ]
  },
  {
   "cell_type": "markdown",
   "metadata": {},
   "source": [
    "### Converting the Llist of UC and WC to Matrix of Coefficients"
   ]
  },
  {
   "cell_type": "code",
   "execution_count": 10,
   "metadata": {},
   "outputs": [],
   "source": [
    "#Conflicting Exams (Weighted and Unweighted)\n",
    "\n",
    "UC_Matrix=np.array(Unweighted_Conflict_Matrix )\n",
    "WC_Matrix=np.array(weighted_conflicting_matrix)"
   ]
  },
  {
   "cell_type": "code",
   "execution_count": 11,
   "metadata": {},
   "outputs": [
    {
     "data": {
      "text/plain": [
       "array([[0, 0, 1, ..., 0, 0, 0],\n",
       "       [0, 0, 1, ..., 0, 0, 0],\n",
       "       [1, 1, 0, ..., 0, 0, 0],\n",
       "       ...,\n",
       "       [0, 0, 0, ..., 0, 1, 1],\n",
       "       [0, 0, 0, ..., 1, 0, 1],\n",
       "       [0, 0, 0, ..., 1, 1, 0]])"
      ]
     },
     "execution_count": 11,
     "metadata": {},
     "output_type": "execute_result"
    }
   ],
   "source": [
    "UC_Matrix"
   ]
  },
  {
   "cell_type": "code",
   "execution_count": 12,
   "metadata": {},
   "outputs": [
    {
     "data": {
      "text/plain": [
       "array([[ 0,  0, 12, ...,  0,  0,  0],\n",
       "       [ 0,  0,  8, ...,  0,  0,  0],\n",
       "       [12,  8,  0, ...,  0,  0,  0],\n",
       "       ...,\n",
       "       [ 0,  0,  0, ...,  0,  4,  2],\n",
       "       [ 0,  0,  0, ...,  4,  0,  4],\n",
       "       [ 0,  0,  0, ...,  2,  4,  0]])"
      ]
     },
     "execution_count": 12,
     "metadata": {},
     "output_type": "execute_result"
    }
   ],
   "source": [
    "WC_Matrix"
   ]
  },
  {
   "cell_type": "code",
   "execution_count": 13,
   "metadata": {},
   "outputs": [
    {
     "name": "stdout",
     "output_type": "stream",
     "text": [
      "Set parameter Username\n",
      "Set parameter LogFile to value \"C:\\Users\\ghadi\\Downloads\\Discrete Optimization Project - Gurobi- Instance 11\\Discrete Optimization Project - Instance 11-Log File.log\"\n",
      "Academic license - for non-commercial use only - expires 2024-07-07\n",
      "Set parameter Threads to value 1\n",
      "Set parameter Presolve to value 1\n",
      "Set parameter Method to value 0\n",
      "Set parameter TimeLimit to value 1200\n",
      "Set parameter PreSparsify to value 1\n"
     ]
    }
   ],
   "source": [
    "# Setting up the environment\n",
    "\n",
    "\n",
    "env = gp.Env(\n",
    "    r\"C:\\Users\\ghadi\\Downloads\\Discrete Optimization Project - Gurobi- Instance 11\\Discrete Optimization Project - Instance 11-Log File.log\")\n",
    "env.start()\n",
    "\n",
    "# Environment parameters\n",
    "env.setParam(\"Threads\", 1)  # Controls the number of threads to apply to parallel algorithms\n",
    "env.setParam(\"Presolve\", 1)  # Controls the presolve level. conservative (1).\n",
    "env.setParam(\"MIPGap\", 1e-4)\n",
    "env.setParam('Method', 0)  # Algorithm used to solve the initial root relaxation of a MIP model. 0=primal simplex.\n",
    "env.setParam(\"TimeLimit\", 1200)  # 20 minutes time limit\n",
    "env.setParam(\"PreSparsify\", 1) # to reduce the memory used\n"
   ]
  },
  {
   "cell_type": "markdown",
   "metadata": {},
   "source": [
    "### Defining Gurobi Model"
   ]
  },
  {
   "cell_type": "code",
   "execution_count": 14,
   "metadata": {},
   "outputs": [],
   "source": [
    "model = gp.Model(\"Exam_Scheduling\", env=env)"
   ]
  },
  {
   "cell_type": "markdown",
   "metadata": {},
   "source": [
    "### Defining Decision Variable and Auxiliary Variable"
   ]
  },
  {
   "cell_type": "code",
   "execution_count": 15,
   "metadata": {},
   "outputs": [],
   "source": [
    "#Decision Variable\n",
    "X = model.addVars(ExamsList, TimeList , vtype=GRB.BINARY, name=\"X\")"
   ]
  },
  {
   "cell_type": "code",
   "execution_count": 16,
   "metadata": {},
   "outputs": [],
   "source": [
    "# Binary auxiliary variable for controlling conflict\n",
    "Y = model.addVars(ExamsList, ExamsList, Distance, vtype=GRB.BINARY, name=\"Y\")"
   ]
  },
  {
   "cell_type": "markdown",
   "metadata": {},
   "source": [
    "###  Defining Constraints "
   ]
  },
  {
   "cell_type": "code",
   "execution_count": 17,
   "metadata": {},
   "outputs": [],
   "source": [
    "#Constraint 1\n",
    "model.addConstrs(UC_Matrix[i, j] * (X[i, k] + X[j, k]) <= 1 for i in ExamsList for j in ExamsList for k in TimeList)\n",
    "model.update()"
   ]
  },
  {
   "cell_type": "code",
   "execution_count": 18,
   "metadata": {},
   "outputs": [],
   "source": [
    "#Constraint 2\n",
    "model.addConstrs(sum(X[i, k] for k in TimeList) == 1 for i in ExamsList for k in TimeList)\n",
    "model.update()"
   ]
  },
  {
   "cell_type": "code",
   "execution_count": 19,
   "metadata": {},
   "outputs": [],
   "source": [
    "#Constraint C3\n",
    "model.addConstrs((X[i, k] + X[j, k + d]) <= Y[i, j, d] + 1 for i in ExamsList for j in ExamsList for k in TimeList for d in Distance if (k + d) in TimeList and UC_Matrix[i, j] != 0)\n",
    "model.update()"
   ]
  },
  {
   "cell_type": "markdown",
   "metadata": {},
   "source": [
    "### Defining Objective Function"
   ]
  },
  {
   "cell_type": "code",
   "execution_count": 20,
   "metadata": {},
   "outputs": [],
   "source": [
    "# Create the objective expression using a loop\n",
    "objective_expr = 0\n",
    "for i in ExamsList:\n",
    "    for j in ExamsList:\n",
    "        for d in Distance:\n",
    "            objective_expr += Y[i, j, d] * WC_Matrix[i, j] * ((2 ** (5 - d))/16925)\n",
    "\n",
    "# Set up the objective function for minimization\n",
    "model.setObjective(objective_expr, GRB.MINIMIZE)"
   ]
  },
  {
   "cell_type": "code",
   "execution_count": 21,
   "metadata": {},
   "outputs": [],
   "source": [
    "# Time limit for the model\n",
    "model.Params.TimeLimit = 1200"
   ]
  },
  {
   "cell_type": "code",
   "execution_count": 22,
   "metadata": {},
   "outputs": [],
   "source": [
    "model.update()"
   ]
  },
  {
   "cell_type": "code",
   "execution_count": 23,
   "metadata": {},
   "outputs": [
    {
     "name": "stdout",
     "output_type": "stream",
     "text": [
      "Gurobi Optimizer version 10.0.2 build v10.0.2rc0 (win64)\n",
      "\n",
      "CPU model: 12th Gen Intel(R) Core(TM) i5-1235U, instruction set [SSE2|AVX|AVX2]\n",
      "Thread count: 10 physical cores, 12 logical processors, using up to 1 threads\n",
      "\n",
      "Optimize a model with 25843690 rows, 2349490 columns and 33630850 nonzeros\n",
      "Model fingerprint: 0x687e3a9f\n",
      "Variable types: 0 continuous, 2349490 integer (2349490 binary)\n",
      "Coefficient statistics:\n",
      "  Matrix range     [1e+00, 1e+00]\n",
      "  Objective range  [6e-05, 3e-01]\n",
      "  Bounds range     [1e+00, 1e+00]\n",
      "  RHS range        [1e+00, 1e+00]\n",
      "Presolve removed 14192360 rows and 2027480 columns (presolve time = 5s) ...\n",
      "Presolve removed 14192360 rows and 2027616 columns (presolve time = 11s) ...\n",
      "Presolve removed 15258902 rows and 2027616 columns (presolve time = 15s) ...\n",
      "Presolve removed 15258902 rows and 2027620 columns (presolve time = 20s) ...\n",
      "Presolve removed 15258902 rows and 2027620 columns (presolve time = 25s) ...\n",
      "Presolve removed 15258902 rows and 2027620 columns (presolve time = 30s) ...\n",
      "Presolve removed 15258902 rows and 2027620 columns (presolve time = 35s) ...\n",
      "Presolve removed 15258902 rows and 2027620 columns (presolve time = 40s) ...\n",
      "Presolve removed 16111923 rows and 2027620 columns (presolve time = 45s) ...\n",
      "Presolve removed 16112364 rows and 2027620 columns (presolve time = 50s) ...\n",
      "Presolve removed 16112963 rows and 2027620 columns (presolve time = 55s) ...\n",
      "Presolve removed 16113659 rows and 2027620 columns (presolve time = 60s) ...\n",
      "Presolve removed 16114182 rows and 2027620 columns (presolve time = 65s) ...\n",
      "Presolve removed 16114728 rows and 2027620 columns (presolve time = 70s) ...\n",
      "Presolve removed 16115583 rows and 2027620 columns (presolve time = 75s) ...\n",
      "Presolve removed 16116090 rows and 2027620 columns (presolve time = 80s) ...\n",
      "Presolve removed 16116523 rows and 2027620 columns (presolve time = 85s) ...\n",
      "Presolve removed 16116978 rows and 2027620 columns (presolve time = 90s) ...\n",
      "Presolve removed 16117215 rows and 2027620 columns (presolve time = 95s) ...\n",
      "Presolve removed 16117470 rows and 2027620 columns (presolve time = 100s) ...\n",
      "Presolve removed 16117763 rows and 2027620 columns (presolve time = 105s) ...\n",
      "Presolve removed 16118066 rows and 2027620 columns (presolve time = 110s) ...\n",
      "Presolve removed 16118760 rows and 2027620 columns (presolve time = 115s) ...\n",
      "Presolve removed 16119664 rows and 2027620 columns (presolve time = 120s) ...\n",
      "Presolve removed 16120524 rows and 2027620 columns (presolve time = 126s) ...\n",
      "Presolve removed 16120524 rows and 2027620 columns (presolve time = 131s) ...\n",
      "Presolve removed 16120524 rows and 2027620 columns (presolve time = 136s) ...\n",
      "Presolve removed 16120524 rows and 2027620 columns (presolve time = 141s) ...\n",
      "Presolve removed 16120524 rows and 2027620 columns (presolve time = 145s) ...\n",
      "Presolve removed 16120524 rows and 2027620 columns (presolve time = 150s) ...\n",
      "Presolve removed 16120554 rows and 2027620 columns (presolve time = 155s) ...\n",
      "Presolve removed 16120685 rows and 2027620 columns (presolve time = 160s) ...\n",
      "Presolve removed 16120855 rows and 2027620 columns (presolve time = 165s) ...\n",
      "Presolve removed 16120855 rows and 2027620 columns (presolve time = 172s) ...\n",
      "Presolve removed 16120855 rows and 2027620 columns (presolve time = 177s) ...\n",
      "Presolve removed 16120855 rows and 2027620 columns (presolve time = 180s) ...\n",
      "Presolve removed 16120855 rows and 2027620 columns (presolve time = 185s) ...\n",
      "Presolve removed 16120855 rows and 2027620 columns (presolve time = 191s) ...\n",
      "Presolve removed 16120855 rows and 2027620 columns (presolve time = 195s) ...\n",
      "Presolve removed 16120855 rows and 2027620 columns (presolve time = 200s) ...\n",
      "Presolve removed 16120855 rows and 2027620 columns (presolve time = 205s) ...\n",
      "Presolve removed 16120855 rows and 2027620 columns (presolve time = 210s) ...\n",
      "Presolve removed 16121568 rows and 2027745 columns (presolve time = 215s) ...\n",
      "Presolve removed 16121568 rows and 2027745 columns (presolve time = 220s) ...\n",
      "Presolve removed 16121568 rows and 2027745 columns (presolve time = 225s) ...\n",
      "Sparsify removed 46 nonzeros (0%)\n",
      "Presolve removed 16121568 rows and 2027740 columns\n",
      "Presolve time: 229.47s\n",
      "Presolved: 9722122 rows, 321750 columns, 29616296 nonzeros\n",
      "Variable types: 0 continuous, 321750 integer (321750 binary)\n",
      "Root relaxation presolved: 321750 rows, 10043872 columns, 29938046 nonzeros\n",
      "\n",
      "\n",
      "Root simplex log...\n",
      "\n",
      "Iteration    Objective       Primal Inf.    Dual Inf.      Time\n",
      "       0   -0.0000000e+00   0.000000e+00   6.800000e+02    296s\n",
      "    6438    1.1102230e-16   0.000000e+00   6.939912e+05    303s\n",
      "    9448    3.3452798e-02   0.000000e+00   1.788876e+06    308s\n",
      "   12458    4.2201338e-02   0.000000e+00   3.433373e+06    313s\n",
      "   15468    4.9425596e-02   0.000000e+00   6.058226e+05    318s\n",
      "   18478    5.5383732e-02   0.000000e+00   1.813106e+06    325s\n",
      "   21488    6.2280218e-02   0.000000e+00   3.788516e+06    331s\n",
      "   24498    6.8781644e-02   0.000000e+00   1.838948e+06    337s\n",
      "   27508    7.3706343e-02   0.000000e+00   7.636135e+05    345s\n",
      "   30518    7.9490701e-02   0.000000e+00   1.238412e+06    351s\n",
      "   33528    8.2874245e-02   0.000000e+00   1.547405e+06    357s\n",
      "   36538    8.6862354e-02   0.000000e+00   2.303269e+06    363s\n",
      "   39548    9.0308714e-02   0.000000e+00   1.749634e+06    369s\n",
      "   42558    9.3081370e-02   0.000000e+00   1.016592e+06    375s\n",
      "   45568    9.6244891e-02   0.000000e+00   1.343477e+06    382s\n",
      "   48578    9.9607049e-02   0.000000e+00   1.241369e+06    389s\n",
      "   51588    1.0179433e-01   0.000000e+00   2.066062e+06    396s\n",
      "   54598    1.0462289e-01   0.000000e+00   9.527212e+05    404s\n",
      "   57608    1.0716496e-01   0.000000e+00   2.077044e+06    410s\n",
      "   60618    1.0994677e-01   0.000000e+00   1.305291e+06    419s\n",
      "   63628    1.1257875e-01   0.000000e+00   1.627346e+06    426s\n",
      "   66638    1.1471784e-01   0.000000e+00   1.068529e+06    433s\n",
      "   69648    1.1667445e-01   0.000000e+00   9.246889e+05    440s\n",
      "   72658    1.1936415e-01   0.000000e+00   5.757512e+05    448s\n",
      "   75668    1.2141137e-01   0.000000e+00   1.917103e+06    457s\n",
      "   78678    1.2351500e-01   0.000000e+00   5.469892e+05    463s\n",
      "   81688    1.2553382e-01   0.000000e+00   5.781683e+05    472s\n",
      "   84698    1.2759679e-01   0.000000e+00   4.578564e+05    479s\n",
      "   87708    1.2942551e-01   0.000000e+00   4.357819e+05    488s\n",
      "   90718    1.3152875e-01   0.000000e+00   4.330171e+06    497s\n",
      "   93728    1.3354528e-01   0.000000e+00   1.964682e+06    503s\n",
      "   96738    1.3553094e-01   0.000000e+00   1.939910e+06    509s\n",
      "   99748    1.3695384e-01   0.000000e+00   3.823120e+05    516s\n",
      "  102758    1.3805415e-01   0.000000e+00   1.543478e+06    522s\n",
      "  105768    1.3973678e-01   0.000000e+00   5.589508e+05    529s\n",
      "  108778    1.4140299e-01   0.000000e+00   3.631067e+05    536s\n",
      "  111788    1.4297515e-01   0.000000e+00   3.837193e+06    544s\n",
      "  114798    1.4443868e-01   0.000000e+00   1.781421e+06    551s\n",
      "  117808    1.4633169e-01   0.000000e+00   1.586760e+06    557s\n",
      "  120818    1.4794716e-01   0.000000e+00   4.746305e+05    565s\n",
      "  123828    1.4940336e-01   0.000000e+00   4.433911e+05    571s\n",
      "  126838    1.5084880e-01   0.000000e+00   3.730183e+05    578s\n",
      "  129848    1.5203322e-01   0.000000e+00   5.290108e+05    584s\n",
      "  132858    1.5321350e-01   0.000000e+00   3.140836e+06    589s\n",
      "  135868    1.5468881e-01   0.000000e+00   1.347771e+06    596s\n",
      "  138878    1.5588740e-01   0.000000e+00   4.751370e+05    601s\n",
      "  141888    1.5730832e-01   0.000000e+00   1.484692e+06    607s\n",
      "  144898    1.5844034e-01   0.000000e+00   6.949073e+05    613s\n",
      "  147908    1.5990176e-01   0.000000e+00   6.383890e+05    619s\n",
      "  150918    1.6116152e-01   0.000000e+00   3.183988e+05    624s\n",
      "  153928    1.6246046e-01   0.000000e+00   1.126310e+06    630s\n",
      "  156938    1.6354754e-01   0.000000e+00   4.808191e+05    636s\n",
      "  159948    1.6477197e-01   0.000000e+00   2.832937e+05    642s\n",
      "  162958    1.6592145e-01   0.000000e+00   2.511354e+05    648s\n",
      "  165968    1.6705491e-01   0.000000e+00   2.944545e+05    654s\n",
      "  168978    1.6899783e-01   0.000000e+00   6.251489e+05    659s\n",
      "  171988    1.7027454e-01   0.000000e+00   7.085136e+05    666s\n",
      "  174998    1.7143237e-01   0.000000e+00   9.393073e+05    672s\n",
      "  178008    1.7244284e-01   0.000000e+00   3.834338e+05    679s\n"
     ]
    },
    {
     "name": "stdout",
     "output_type": "stream",
     "text": [
      "  181018    1.7379369e-01   0.000000e+00   5.926127e+05    685s\n",
      "  184028    1.7500420e-01   0.000000e+00   7.002251e+05    691s\n",
      "  187038    1.7601186e-01   0.000000e+00   4.319788e+05    696s\n",
      "  190048    1.7746507e-01   0.000000e+00   4.420588e+05    702s\n",
      "  193058    1.7883616e-01   0.000000e+00   9.832310e+05    711s\n",
      "  196068    1.8031890e-01   0.000000e+00   3.418420e+06    717s\n",
      "  199078    1.8152882e-01   0.000000e+00   7.947236e+05    723s\n",
      "  202088    1.8286917e-01   0.000000e+00   7.724422e+06    730s\n",
      "  205098    1.8393360e-01   0.000000e+00   2.734306e+06    737s\n",
      "  208108    1.8505295e-01   0.000000e+00   7.359548e+05    743s\n",
      "  211118    1.8615521e-01   0.000000e+00   3.788523e+05    749s\n",
      "  214128    1.8710013e-01   0.000000e+00   5.120127e+05    756s\n",
      "  217138    1.8783841e-01   0.000000e+00   2.560399e+05    762s\n",
      "  220148    1.8903569e-01   0.000000e+00   3.483542e+05    768s\n",
      "  223158    1.8976911e-01   0.000000e+00   3.111801e+05    774s\n",
      "  226168    1.9060146e-01   0.000000e+00   3.580435e+05    779s\n",
      "  229178    1.9156113e-01   0.000000e+00   4.268087e+05    785s\n",
      "  232188    1.9256440e-01   0.000000e+00   2.085359e+05    792s\n",
      "  235198    1.9329779e-01   0.000000e+00   4.346818e+05    798s\n",
      "  238208    1.9426334e-01   0.000000e+00   3.294662e+05    803s\n",
      "  241218    1.9507758e-01   0.000000e+00   3.088761e+05    809s\n",
      "  244228    1.9605405e-01   0.000000e+00   2.542505e+05    815s\n",
      "  247238    1.9697767e-01   0.000000e+00   4.155450e+05    823s\n",
      "  250248    1.9781785e-01   0.000000e+00   3.874165e+05    828s\n",
      "  253258    1.9861384e-01   0.000000e+00   6.911896e+05    835s\n",
      "  256268    1.9940301e-01   0.000000e+00   5.012644e+05    840s\n",
      "  259278    2.0027123e-01   0.000000e+00   4.981477e+05    847s\n",
      "  262288    2.0154286e-01   0.000000e+00   8.681907e+05    853s\n",
      "  265298    2.0262216e-01   0.000000e+00   4.068349e+05    858s\n",
      "  268308    2.0357804e-01   0.000000e+00   7.572223e+05    864s\n",
      "  271318    2.0441983e-01   0.000000e+00   5.338786e+05    871s\n",
      "  274328    2.0527462e-01   0.000000e+00   2.064228e+06    878s\n",
      "  277338    2.0618443e-01   0.000000e+00   1.065095e+06    883s\n",
      "  280348    2.0698916e-01   0.000000e+00   5.213518e+05    888s\n",
      "  283358    2.0773825e-01   0.000000e+00   1.828247e+05    894s\n",
      "  286368    2.0865048e-01   0.000000e+00   6.245221e+05    900s\n",
      "  289378    2.0949163e-01   0.000000e+00   3.102092e+05    906s\n",
      "  292388    2.1033022e-01   0.000000e+00   5.093444e+05    911s\n",
      "  295398    2.1117033e-01   0.000000e+00   1.116505e+06    918s\n",
      "  298408    2.1202286e-01   0.000000e+00   6.442205e+05    924s\n",
      "  301418    2.1294073e-01   0.000000e+00   5.704943e+05    930s\n",
      "  304428    2.1410728e-01   0.000000e+00   6.370981e+05    936s\n",
      "  307438    2.1481896e-01   0.000000e+00   6.611300e+05    942s\n",
      "  310448    2.1580501e-01   0.000000e+00   5.851027e+05    948s\n",
      "  313458    2.1655693e-01   0.000000e+00   3.381890e+05    954s\n",
      "  316468    2.1736433e-01   0.000000e+00   3.012573e+05    961s\n",
      "  319478    2.1831277e-01   0.000000e+00   7.901273e+05    967s\n",
      "  322488    2.1909964e-01   0.000000e+00   8.527606e+05    973s\n",
      "  325498    2.1986149e-01   0.000000e+00   5.528912e+05    980s\n",
      "  328508    2.2067603e-01   0.000000e+00   3.432223e+05    986s\n",
      "  331518    2.2168494e-01   0.000000e+00   3.244300e+05    992s\n",
      "  334528    2.2250440e-01   0.000000e+00   2.656310e+05    999s\n",
      "  337538    2.2312964e-01   0.000000e+00   3.821440e+05   1004s\n",
      "  340548    2.2394876e-01   0.000000e+00   2.727684e+05   1010s\n",
      "  343558    2.2469311e-01   0.000000e+00   2.693319e+05   1016s\n",
      "  346568    2.2532003e-01   0.000000e+00   1.655137e+05   1022s\n",
      "  349578    2.2608645e-01   0.000000e+00   9.358947e+05   1028s\n",
      "  352588    2.2680809e-01   0.000000e+00   5.179083e+05   1034s\n",
      "  355598    2.2763152e-01   0.000000e+00   1.380529e+05   1040s\n",
      "  358608    2.2837493e-01   0.000000e+00   2.716829e+05   1046s\n",
      "  361618    2.2903884e-01   0.000000e+00   3.428204e+05   1052s\n",
      "  364628    2.2989784e-01   0.000000e+00   4.188074e+05   1058s\n",
      "  367638    2.3069710e-01   0.000000e+00   5.192283e+05   1065s\n",
      "  370648    2.3153315e-01   0.000000e+00   4.197104e+05   1071s\n",
      "  373658    2.3205987e-01   0.000000e+00   1.786130e+05   1078s\n",
      "  376668    2.3262492e-01   0.000000e+00   2.103522e+05   1083s\n",
      "  379678    2.3326164e-01   0.000000e+00   2.352382e+05   1089s\n",
      "  382688    2.3386839e-01   0.000000e+00   4.044676e+05   1095s\n",
      "  385698    2.3448768e-01   0.000000e+00   3.976861e+05   1101s\n",
      "  388708    2.3504436e-01   0.000000e+00   3.723364e+05   1107s\n",
      "  391718    2.3570990e-01   0.000000e+00   1.897443e+05   1113s\n",
      "  394728    2.3632454e-01   0.000000e+00   2.633629e+05   1119s\n",
      "  397738    2.3700730e-01   0.000000e+00   3.992729e+05   1125s\n",
      "  400748    2.3767933e-01   0.000000e+00   2.484724e+05   1131s\n",
      "  403758    2.3823145e-01   0.000000e+00   1.600150e+05   1137s\n",
      "  406768    2.3893301e-01   0.000000e+00   3.306997e+05   1143s\n",
      "  409778    2.3960807e-01   0.000000e+00   5.440335e+05   1148s\n",
      "  412788    2.4011038e-01   0.000000e+00   3.570808e+05   1154s\n",
      "  415798    2.4069377e-01   0.000000e+00   2.797864e+05   1160s\n",
      "  418808    2.4135018e-01   0.000000e+00   1.516217e+05   1165s\n",
      "  421818    2.4197785e-01   0.000000e+00   2.631443e+05   1170s\n",
      "  424828    2.4263408e-01   0.000000e+00   2.295602e+05   1176s\n",
      "  427838    2.4316646e-01   0.000000e+00   9.471930e+04   1181s\n",
      "  430848    2.4374567e-01   0.000000e+00   2.996741e+05   1187s\n",
      "  433858    2.4439100e-01   0.000000e+00   4.728511e+05   1193s\n",
      "  436868    2.4487432e-01   0.000000e+00   2.215037e+05   1199s\n",
      "\n",
      "Root relaxation: time limit, 437470 iterations, 932.15 seconds (1419.10 work units)\n",
      "\n",
      "    Nodes    |    Current Node    |     Objective Bounds      |     Work\n",
      " Expl Unexpl |  Obj  Depth IntInf | Incumbent    BestBd   Gap | It/Node Time\n",
      "\n",
      "     0     0          -    0               -    0.00000      -     - 1200s\n",
      "\n",
      "Explored 1 nodes (437470 simplex iterations) in 1200.28 seconds (1554.65 work units)\n",
      "Thread count was 1 (of 12 available processors)\n",
      "\n",
      "Solution count 0\n",
      "\n",
      "Time limit reached\n",
      "Best objective -, best bound 0.000000000000e+00, gap -\n"
     ]
    }
   ],
   "source": [
    "model.optimize()"
   ]
  },
  {
   "cell_type": "code",
   "execution_count": 24,
   "metadata": {},
   "outputs": [
    {
     "name": "stdout",
     "output_type": "stream",
     "text": [
      "Set parameter TimeLimit to value 2400\n",
      "Gurobi Optimizer version 10.0.2 build v10.0.2rc0 (win64)\n",
      "\n",
      "CPU model: 12th Gen Intel(R) Core(TM) i5-1235U, instruction set [SSE2|AVX|AVX2]\n",
      "Thread count: 10 physical cores, 12 logical processors, using up to 1 threads\n",
      "\n",
      "Optimize a model with 25843690 rows, 2349490 columns and 33630850 nonzeros\n",
      "Model fingerprint: 0x687e3a9f\n",
      "Variable types: 0 continuous, 2349490 integer (2349490 binary)\n",
      "Coefficient statistics:\n",
      "  Matrix range     [1e+00, 1e+00]\n",
      "  Objective range  [6e-05, 3e-01]\n",
      "  Bounds range     [1e+00, 1e+00]\n",
      "  RHS range        [1e+00, 1e+00]\n",
      "Presolved: 9722122 rows, 321750 columns, 29616296 nonzeros\n",
      "\n",
      "Continuing optimization...\n",
      "\n",
      "     0     0          -    0               -    0.00000      -     - 3600s\n",
      "\n",
      "Explored 1 nodes (1524560 simplex iterations) in 2400.30 seconds (4560.08 work units)\n",
      "Thread count was 1 (of 12 available processors)\n",
      "\n",
      "Solution count 0\n",
      "\n",
      "Time limit reached\n",
      "Best objective -, best bound 0.000000000000e+00, gap -\n"
     ]
    }
   ],
   "source": [
    "if model.Status == gp.GRB.TIME_LIMIT:\n",
    "\n",
    "    # Extend the time limit\n",
    "    extended_time_limit =2400 # Set the extended time limit in seconds\n",
    "    model.setParam('TimeLimit', extended_time_limit)\n",
    "\n",
    "    # Continue the optimization\n",
    "    model.optimize()"
   ]
  },
  {
   "cell_type": "code",
   "execution_count": 25,
   "metadata": {},
   "outputs": [
    {
     "name": "stdout",
     "output_type": "stream",
     "text": [
      "Gurobi Optimizer version 10.0.2 build v10.0.2rc0 (win64)\n",
      "\n",
      "CPU model: 12th Gen Intel(R) Core(TM) i5-1235U, instruction set [SSE2|AVX|AVX2]\n",
      "Thread count: 10 physical cores, 12 logical processors, using up to 1 threads\n",
      "\n",
      "Optimize a model with 25843690 rows, 2349490 columns and 33630850 nonzeros\n",
      "Model fingerprint: 0x687e3a9f\n",
      "Variable types: 0 continuous, 2349490 integer (2349490 binary)\n",
      "Coefficient statistics:\n",
      "  Matrix range     [1e+00, 1e+00]\n",
      "  Objective range  [6e-05, 3e-01]\n",
      "  Bounds range     [1e+00, 1e+00]\n",
      "  RHS range        [1e+00, 1e+00]\n",
      "Presolved: 9722122 rows, 321750 columns, 29616296 nonzeros\n",
      "\n",
      "Continuing optimization...\n",
      "\n",
      "     0     0          -    0               -    0.00000      -     - 6000s\n",
      "\n",
      "Explored 1 nodes (2622722 simplex iterations) in 2400.36 seconds (4619.24 work units)\n",
      "Thread count was 1 (of 12 available processors)\n",
      "\n",
      "Solution count 0\n",
      "\n",
      "Time limit reached\n",
      "Best objective -, best bound 0.000000000000e+00, gap -\n"
     ]
    }
   ],
   "source": [
    "if model.Status == gp.GRB.TIME_LIMIT:\n",
    "\n",
    "    # Extend the time limit\n",
    "    extended_time_limit =2400 # Set the extended time limit in seconds\n",
    "    model.setParam('TimeLimit', extended_time_limit)\n",
    "\n",
    "    # Continue the optimization\n",
    "    model.optimize()"
   ]
  },
  {
   "cell_type": "code",
   "execution_count": 26,
   "metadata": {},
   "outputs": [
    {
     "name": "stdout",
     "output_type": "stream",
     "text": [
      "Set parameter TimeLimit to value 3600\n",
      "Gurobi Optimizer version 10.0.2 build v10.0.2rc0 (win64)\n",
      "\n",
      "CPU model: 12th Gen Intel(R) Core(TM) i5-1235U, instruction set [SSE2|AVX|AVX2]\n",
      "Thread count: 10 physical cores, 12 logical processors, using up to 1 threads\n",
      "\n",
      "Optimize a model with 25843690 rows, 2349490 columns and 33630850 nonzeros\n",
      "Model fingerprint: 0x687e3a9f\n",
      "Variable types: 0 continuous, 2349490 integer (2349490 binary)\n",
      "Coefficient statistics:\n",
      "  Matrix range     [1e+00, 1e+00]\n",
      "  Objective range  [6e-05, 3e-01]\n",
      "  Bounds range     [1e+00, 1e+00]\n",
      "  RHS range        [1e+00, 1e+00]\n",
      "Presolved: 9722122 rows, 321750 columns, 29616296 nonzeros\n",
      "\n",
      "Continuing optimization...\n",
      "\n",
      "     0     0          -    0               -    0.00000      -     - 9601s\n",
      "\n",
      "Explored 1 nodes (4623887 simplex iterations) in 3600.47 seconds (9702.19 work units)\n",
      "Thread count was 1 (of 12 available processors)\n",
      "\n",
      "Solution count 0\n",
      "\n",
      "Time limit reached\n",
      "Best objective -, best bound 0.000000000000e+00, gap -\n"
     ]
    }
   ],
   "source": [
    "if model.Status == gp.GRB.TIME_LIMIT:\n",
    "\n",
    "    # Extend the time limit\n",
    "    extended_time_limit =3600 # Set the extended time limit in seconds\n",
    "    model.setParam('TimeLimit', extended_time_limit)\n",
    "\n",
    "    # Continue the optimization\n",
    "    model.optimize()"
   ]
  },
  {
   "cell_type": "code",
   "execution_count": 27,
   "metadata": {},
   "outputs": [
    {
     "name": "stdout",
     "output_type": "stream",
     "text": [
      "Objective Value: inf\n"
     ]
    }
   ],
   "source": [
    "if model.Status == GRB.OPTIMAL:\n",
    "    print(\"Optimization was successful and an optimal solution was found.\")\n",
    "elif model.Status == GRB.INFEASIBLE:\n",
    "    print(\"The model is infeasible - no feasible solution exists.\")\n",
    "elif model.Status == GRB.UNBOUNDED:\n",
    "    print(\"The model is unbounded - the objective can be improved without limit.\")\n",
    "print(\"Objective Value:\", model.objVal)"
   ]
  },
  {
   "cell_type": "code",
   "execution_count": 28,
   "metadata": {},
   "outputs": [
    {
     "name": "stdout",
     "output_type": "stream",
     "text": [
      "Objective Value: inf\n"
     ]
    }
   ],
   "source": [
    "print(\"Objective Value:\", model.objVal)"
   ]
  }
 ],
 "metadata": {
  "kernelspec": {
   "display_name": "Python 3 (ipykernel)",
   "language": "python",
   "name": "python3"
  },
  "language_info": {
   "codemirror_mode": {
    "name": "ipython",
    "version": 3
   },
   "file_extension": ".py",
   "mimetype": "text/x-python",
   "name": "python",
   "nbconvert_exporter": "python",
   "pygments_lexer": "ipython3",
   "version": "3.9.12"
  }
 },
 "nbformat": 4,
 "nbformat_minor": 4
}

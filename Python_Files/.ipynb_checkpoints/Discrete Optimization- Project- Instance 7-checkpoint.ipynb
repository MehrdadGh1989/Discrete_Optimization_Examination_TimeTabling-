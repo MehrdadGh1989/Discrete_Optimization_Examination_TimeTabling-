{
 "cells": [
  {
   "cell_type": "markdown",
   "metadata": {},
   "source": [
    "# Instance 7"
   ]
  },
  {
   "cell_type": "code",
   "execution_count": 1,
   "metadata": {},
   "outputs": [],
   "source": [
    "import os\n",
    "from pyomo.environ import *\n",
    "import numpy as np\n",
    "import pandas as pd\n",
    "import gurobipy as gp\n",
    "from gurobipy import GRB"
   ]
  },
  {
   "cell_type": "markdown",
   "metadata": {},
   "source": [
    "## Importing DataSet"
   ]
  },
  {
   "cell_type": "code",
   "execution_count": 2,
   "metadata": {},
   "outputs": [],
   "source": [
    "file_path = 'Instance_7.xlsx'\n",
    "# Read the Excel file into a dictionary of DataFrames, where keys are sheet names\n",
    "Instance_data = pd.read_excel(file_path, sheet_name=None)"
   ]
  },
  {
   "cell_type": "code",
   "execution_count": 3,
   "metadata": {},
   "outputs": [],
   "source": [
    "# Exam Data Set\n",
    "Exams = Instance_data['Sheet1']\n",
    "Exams['Exams'] = Exams['Exams'] - 1\n",
    "ExamsList = list(Exams['Exams'])"
   ]
  },
  {
   "cell_type": "markdown",
   "metadata": {},
   "source": [
    "### Dictionary of Students and their related Exams"
   ]
  },
  {
   "cell_type": "code",
   "execution_count": 4,
   "metadata": {},
   "outputs": [],
   "source": [
    "# Creating a Dictionary of Students and Their Related Exams\n",
    "Students_exams = Instance_data['Sheet3']\n",
    "Students_exams['ExamNumber'] = Students_exams['ExamNumber'] - 1\n",
    "# Initialize an empty dictionary to store the students and their exams\n",
    "students = {}\n",
    "# Iterate over the rows in the DataFrame\n",
    "for index, row in Students_exams.iterrows():\n",
    "    student = row['Student']\n",
    "    exam_number = row['ExamNumber']\n",
    "    \n",
    "    # Check if the student is already in the dictionary\n",
    "    if student in students:\n",
    "        students[student].append(exam_number)\n",
    "    # If the student is not in the dictionary, create a new key-value pair    \n",
    "    else:\n",
    "        students[student] = [exam_number]"
   ]
  },
  {
   "cell_type": "markdown",
   "metadata": {},
   "source": [
    "### TimeSlots"
   ]
  },
  {
   "cell_type": "code",
   "execution_count": 5,
   "metadata": {},
   "outputs": [],
   "source": [
    "Time_s = Instance_data['Sheet2']\n",
    "time_slots = Time_s.loc[0, 'TimeSlot']\n",
    "TimeList= list(range (time_slots))"
   ]
  },
  {
   "cell_type": "code",
   "execution_count": 6,
   "metadata": {},
   "outputs": [
    {
     "data": {
      "text/plain": [
       "[0, 1, 2, 3, 4, 5, 6, 7, 8, 9, 10, 11, 12, 13, 14, 15, 16, 17]"
      ]
     },
     "execution_count": 6,
     "metadata": {},
     "output_type": "execute_result"
    }
   ],
   "source": [
    "TimeList"
   ]
  },
  {
   "cell_type": "markdown",
   "metadata": {},
   "source": [
    "### Distance"
   ]
  },
  {
   "cell_type": "code",
   "execution_count": 7,
   "metadata": {},
   "outputs": [
    {
     "data": {
      "text/plain": [
       "[1, 2, 3, 4, 5]"
      ]
     },
     "execution_count": 7,
     "metadata": {},
     "output_type": "execute_result"
    }
   ],
   "source": [
    "#Distance\n",
    "Distance=list(range(1,6))\n",
    "Distance"
   ]
  },
  {
   "cell_type": "markdown",
   "metadata": {},
   "source": [
    "###  Finding Conflicted Exams (Weighted-Unweighted)"
   ]
  },
  {
   "cell_type": "code",
   "execution_count": 8,
   "metadata": {},
   "outputs": [],
   "source": [
    "# Unweighted\n",
    "# Step 1: Initialize the dictionary to store conflicting exams\n",
    "conflicting_exams = {exam: set() for exams_list in students.values() for exam in exams_list}\n",
    "\n",
    "# Step 2: Populate the dictionary with conflicting exams\n",
    "for student_exams in students.values():\n",
    "    for i, exam1 in enumerate(student_exams):\n",
    "        for exam2 in student_exams[i + 1:]:\n",
    "            conflicting_exams[exam1].add(exam2)\n",
    "            conflicting_exams[exam2].add(exam1)\n",
    "\n",
    "# Step 3: Create the unweighted conflicting matrix\n",
    "Unweighted_Conflict_Matrix = [\n",
    "    [1 if exam2 in conflicting_exams[exam1] else 0 for exam2 in ExamsList] for exam1 in ExamsList\n",
    "]\n"
   ]
  },
  {
   "cell_type": "code",
   "execution_count": 9,
   "metadata": {},
   "outputs": [],
   "source": [
    "# Weighted\n",
    "\n",
    "# The weighted Conflicting MATRIX\n",
    "# Step 1: Initialize the dictionary to store conflicting exams\n",
    "conflicting_exams = {exam: set() for exams_list in students.values() for exam in exams_list}\n",
    "\n",
    "# Step 2: Populate the dictionary with conflicting exams\n",
    "for student_exams in students.values():\n",
    "    for i, exam1 in enumerate(student_exams):\n",
    "        for exam2 in student_exams[i + 1:]:\n",
    "            conflicting_exams[exam1].add(exam2)\n",
    "            conflicting_exams[exam2].add(exam1)\n",
    "\n",
    "# Step 3: Create the weighted conflicting matrix\n",
    "weighted_conflicting_matrix = [[0 for _ in ExamsList] for _ in ExamsList]\n",
    "\n",
    "# Step 4: Calculate the number of students in each conflicting exam pair and fill the matrix\n",
    "for i, exam1 in enumerate(ExamsList):\n",
    "    for j, exam2 in enumerate(ExamsList):\n",
    "        if exam2 in conflicting_exams[exam1]:\n",
    "            count = sum(1 for student_exams in students.values() if exam1 in student_exams and exam2 in student_exams)\n",
    "            weighted_conflicting_matrix[i][j] = count\n",
    "\n"
   ]
  },
  {
   "cell_type": "markdown",
   "metadata": {},
   "source": [
    "### Converting the Llist of UC and WC to Matrix of Coefficients"
   ]
  },
  {
   "cell_type": "code",
   "execution_count": 10,
   "metadata": {},
   "outputs": [],
   "source": [
    "#Conflicting Exams (Weighted and Unweighted)\n",
    "UC_Matrix=np.array(Unweighted_Conflict_Matrix )\n",
    "WC_Matrix=np.array(weighted_conflicting_matrix)"
   ]
  },
  {
   "cell_type": "code",
   "execution_count": 11,
   "metadata": {},
   "outputs": [
    {
     "data": {
      "text/plain": [
       "array([[0, 1, 1, ..., 0, 0, 0],\n",
       "       [1, 0, 1, ..., 1, 0, 0],\n",
       "       [1, 1, 0, ..., 0, 0, 0],\n",
       "       ...,\n",
       "       [0, 1, 0, ..., 0, 1, 1],\n",
       "       [0, 0, 0, ..., 1, 0, 1],\n",
       "       [0, 0, 0, ..., 1, 1, 0]])"
      ]
     },
     "execution_count": 11,
     "metadata": {},
     "output_type": "execute_result"
    }
   ],
   "source": [
    "UC_Matrix"
   ]
  },
  {
   "cell_type": "code",
   "execution_count": 12,
   "metadata": {},
   "outputs": [
    {
     "data": {
      "text/plain": [
       "array([[  0,  19,  23, ...,   0,   0,   0],\n",
       "       [ 19,   0, 174, ...,   1,   0,   0],\n",
       "       [ 23, 174,   0, ...,   0,   0,   0],\n",
       "       ...,\n",
       "       [  0,   1,   0, ...,   0,  16,   7],\n",
       "       [  0,   0,   0, ...,  16,   0,  23],\n",
       "       [  0,   0,   0, ...,   7,  23,   0]])"
      ]
     },
     "execution_count": 12,
     "metadata": {},
     "output_type": "execute_result"
    }
   ],
   "source": [
    "WC_Matrix"
   ]
  },
  {
   "cell_type": "code",
   "execution_count": 14,
   "metadata": {},
   "outputs": [
    {
     "name": "stdout",
     "output_type": "stream",
     "text": [
      "Set parameter Username\n",
      "Set parameter LogFile to value \"C:\\Users\\ghadi\\Downloads\\Discrete Optimization Project - Gurobi- Instance 7\\Discrete Optimization Project - Instance 7-Log File.log\"\n",
      "Academic license - for non-commercial use only - expires 2024-07-07\n",
      "Set parameter Threads to value 1\n",
      "Set parameter Presolve to value 1\n",
      "Set parameter Method to value 0\n",
      "Set parameter TimeLimit to value 1200\n",
      "Set parameter PreSparsify to value 1\n"
     ]
    }
   ],
   "source": [
    "# Setting up the environment\n",
    "\n",
    "\n",
    "env = gp.Env(\n",
    "    r\"C:\\Users\\ghadi\\Downloads\\Discrete Optimization Project - Gurobi- Instance 7\\Discrete Optimization Project - Instance 7-Log File.log\")\n",
    "env.start()\n",
    "\n",
    "# Environment parameters\n",
    "env.setParam(\"Threads\", 1)  # Controls the number of threads to apply to parallel algorithms\n",
    "env.setParam(\"Presolve\", 1)  # Controls the presolve level. conservative (1).\n",
    "env.setParam(\"MIPGap\", 1e-4)\n",
    "env.setParam('Method', 0)  # Algorithm used to solve the initial root relaxation of a MIP model. 0=primal simplex.\n",
    "env.setParam(\"TimeLimit\", 1200)  # 20 minutes time limit\n",
    "env.setParam(\"PreSparsify\", 1) # to reduce the memory used\n"
   ]
  },
  {
   "cell_type": "markdown",
   "metadata": {},
   "source": [
    "### Defining Gurobi Model"
   ]
  },
  {
   "cell_type": "code",
   "execution_count": 15,
   "metadata": {},
   "outputs": [],
   "source": [
    "model = gp.Model(\"Exam_Scheduling\", env=env)"
   ]
  },
  {
   "cell_type": "markdown",
   "metadata": {},
   "source": [
    "### Defining Decision Variable and Auxiliary Variable"
   ]
  },
  {
   "cell_type": "code",
   "execution_count": 16,
   "metadata": {},
   "outputs": [],
   "source": [
    "#Decision Variable\n",
    "X = model.addVars(ExamsList, TimeList , vtype=GRB.BINARY, name=\"X\")"
   ]
  },
  {
   "cell_type": "code",
   "execution_count": 17,
   "metadata": {},
   "outputs": [],
   "source": [
    "# Binary auxiliary variable for controlling conflict\n",
    "Y = model.addVars(ExamsList, ExamsList, Distance, vtype=GRB.BINARY, name=\"Y\")"
   ]
  },
  {
   "cell_type": "markdown",
   "metadata": {},
   "source": [
    "###  Defining Constraints "
   ]
  },
  {
   "cell_type": "code",
   "execution_count": 18,
   "metadata": {},
   "outputs": [],
   "source": [
    "#Constraint 1\n",
    "model.addConstrs(UC_Matrix[i, j] * (X[i, k] + X[j, k]) <= 1 for i in ExamsList for j in ExamsList for k in TimeList)\n",
    "model.update()"
   ]
  },
  {
   "cell_type": "code",
   "execution_count": 19,
   "metadata": {},
   "outputs": [],
   "source": [
    "#Constraint 2\n",
    "model.addConstrs(sum(X[i, k] for k in TimeList) == 1 for i in ExamsList for k in TimeList)\n",
    "model.update()"
   ]
  },
  {
   "cell_type": "code",
   "execution_count": 20,
   "metadata": {},
   "outputs": [],
   "source": [
    "#Constraint C3\n",
    "model.addConstrs((X[i, k] + X[j, k + d]) <= Y[i, j, d] + 1 for i in ExamsList for j in ExamsList for k in TimeList for d in Distance if (k + d) in TimeList and UC_Matrix[i, j] != 0)\n",
    "model.update()"
   ]
  },
  {
   "cell_type": "markdown",
   "metadata": {},
   "source": [
    "### Defining Objective Function"
   ]
  },
  {
   "cell_type": "code",
   "execution_count": 21,
   "metadata": {},
   "outputs": [],
   "source": [
    "# Create the objective expression using a loop\n",
    "objective_expr = 0\n",
    "for i in ExamsList:\n",
    "    for j in ExamsList:\n",
    "        for d in Distance:\n",
    "            objective_expr += Y[i, j, d] * WC_Matrix[i, j] * ((2 ** (5 - d))/2823)\n",
    "\n",
    "# Set up the objective function for minimization\n",
    "model.setObjective(objective_expr, GRB.MINIMIZE)"
   ]
  },
  {
   "cell_type": "code",
   "execution_count": 22,
   "metadata": {},
   "outputs": [],
   "source": [
    "# Time limit for the model\n",
    "#model.Params.TimeLimit = 1200"
   ]
  },
  {
   "cell_type": "code",
   "execution_count": 23,
   "metadata": {},
   "outputs": [],
   "source": [
    "model.update()"
   ]
  },
  {
   "cell_type": "code",
   "execution_count": 24,
   "metadata": {},
   "outputs": [
    {
     "name": "stdout",
     "output_type": "stream",
     "text": [
      "Gurobi Optimizer version 10.0.2 build v10.0.2rc0 (win64)\n",
      "\n",
      "CPU model: 12th Gen Intel(R) Core(TM) i5-1235U, instruction set [SSE2|AVX|AVX2]\n",
      "Thread count: 10 physical cores, 12 logical processors, using up to 1 threads\n",
      "\n",
      "Optimize a model with 324006 rows, 34263 columns and 737730 nonzeros\n",
      "Model fingerprint: 0x31b13891\n",
      "Variable types: 0 continuous, 34263 integer (34263 binary)\n",
      "Coefficient statistics:\n",
      "  Matrix range     [1e+00, 1e+00]\n",
      "  Objective range  [4e-04, 3e+00]\n",
      "  Bounds range     [1e+00, 1e+00]\n",
      "  RHS range        [1e+00, 1e+00]\n",
      "Sparsify removed 1277 nonzeros (0%)\n",
      "Presolve removed 116414 rows and 19044 columns\n",
      "Presolve time: 2.64s\n",
      "Presolved: 207592 rows, 15219 columns, 645965 nonzeros\n",
      "Variable types: 0 continuous, 15219 integer (15202 binary)\n",
      "Root relaxation presolved: 15219 rows, 222811 columns, 661184 nonzeros\n",
      "\n",
      "\n",
      "Root relaxation: objective 0.000000e+00, 3814 iterations, 1.08 seconds (1.33 work units)\n",
      "\n",
      "    Nodes    |    Current Node    |     Objective Bounds      |     Work\n",
      " Expl Unexpl |  Obj  Depth IntInf | Incumbent    BestBd   Gap | It/Node Time\n",
      "\n",
      "     0     0    0.00000    0  201          -    0.00000      -     -    9s\n",
      "     0     0    0.00000    0  484          -    0.00000      -     -   19s\n",
      "     0     0    0.00000    0  518          -    0.00000      -     -   25s\n",
      "     0     0    0.00000    0  556          -    0.00000      -     -   44s\n",
      "     0     0    0.00000    0  595          -    0.00000      -     -   55s\n",
      "     0     0    0.00000    0  615          -    0.00000      -     -   76s\n",
      "     0     0    0.00000    0  624          -    0.00000      -     -   86s\n",
      "     0     0    0.00000    0  625          -    0.00000      -     -  105s\n",
      "     0     0    0.00000    0  624          -    0.00000      -     -  116s\n",
      "     0     0    0.00000    0  634          -    0.00000      -     -  135s\n",
      "     0     0    0.00000    0  653          -    0.00000      -     -  149s\n",
      "     0     0    0.00000    0  624          -    0.00000      -     -  168s\n",
      "     0     0    0.00000    0  624          -    0.00000      -     -  176s\n",
      "H    0     0                      19.4838824    0.00000   100%     -  194s\n",
      "     0     2    0.00000    0  624   19.48388    0.00000   100%     -  211s\n",
      "     3     5    0.00000    3  486   19.48388    0.00000   100%   907  216s\n",
      "     5     7    0.00000    5  427   19.48388    0.00000   100%   752  221s\n",
      "H    7     7                      18.8990436    0.00000   100%   693  275s\n",
      "     8    10    0.15523    7  532   18.89904    0.00000   100%  5457  305s\n",
      "     9    11    0.00000    7  430   18.89904    0.00000   100%  5286  313s\n",
      "    10    12    0.00000    8  383   18.89904    0.00000   100%  4796  315s\n",
      "    11    13    0.09293    8  528   18.89904    0.00000   100%  4816  331s\n",
      "    12    14    0.00000    9  437   18.89904    0.00000   100%  4765  337s\n",
      "    14    16    0.00000   11  394   18.89904    0.00000   100%  4158  341s\n",
      "    15    17    0.00000   12  444   18.89904    0.00000   100%  4078  346s\n",
      "    17    19    0.00000   14  388   18.89904    0.00000   100%  3647  350s\n",
      "    18    20    0.00000   15  387   18.89904    0.00000   100%  3478  355s\n",
      "    20    22    0.00000   17  400   18.89904    0.00000   100%  3202  362s\n",
      "    21    23    0.00000   18  398   18.89904    0.00000   100%  3131  365s\n",
      "    22    24    0.16295   18  541   18.89904    0.00000   100%  3937  401s\n",
      "    24    26    0.02771   19  557   18.89904    0.00000   100%  4459  443s\n",
      "    25    27    0.17504   20  598   18.89904    0.00000   100%  5254  484s\n",
      "    26    28    0.00000   20  380   18.89904    0.00000   100%  5067  485s\n",
      "    28    30    0.00000   22  382   18.89904    0.00000   100%  4740  491s\n",
      "    30    32    0.03511   23  561   18.89904    0.00000   100%  5278  528s\n",
      "    31    33    0.03085   24  576   18.89904    0.00000   100%  5722  551s\n",
      "    32    34    0.00000   24  421   18.89904    0.00000   100%  5662  556s\n",
      "    34    36    0.00000   26  398   18.89904    0.00000   100%  5359  560s\n",
      "    35    37    0.08713   26  592   18.89904    0.00000   100%  5689  588s\n",
      "    36    38    0.07415   27  677   18.89904    0.00000   100%  6323  647s\n",
      "    37    39    0.00000   27  391   18.89904    0.00000   100%  6244  652s\n",
      "    39    41    0.10648   28  611   18.89904    0.00000   100%  6475  679s\n",
      "    40    42    0.04351   29  655   18.89904    0.00000   100%  6924  721s\n",
      "    41    43    0.00000   29  427   18.89904    0.00000   100%  6847  725s\n",
      "    43    45    0.00589   31  481   18.89904    0.00000   100%  6705  753s\n",
      "    45    47    0.00000   32  372   18.89904    0.00000   100%  6426  756s\n",
      "    46    48    0.00062   33  516   18.89904    0.00000   100%  6485  771s\n",
      "    48    50    0.21221   34  630   18.89904    0.00000   100%  6576  801s\n",
      "    49    51    0.00097   34  538   18.89904    0.00000   100%  6564  810s\n",
      "    51    53    0.29147   36  660   18.89904    0.00000   100%  6640  833s\n",
      "    52    54    0.00097   36  486   18.89904    0.00000   100%  6615  841s\n",
      "    54    56    0.33145   38  597   18.89904    0.00000   100%  6628  862s\n",
      "    55    57    0.00097   38  490   18.89904    0.00000   100%  6583  868s\n",
      "    56    58    0.00097   39  477   18.89904    0.00000   100%  6525  873s\n",
      "    57    59    0.19489   40  495   18.89904    0.00000   100%  6610  901s\n",
      "    58    60    0.17226   40  490   18.89904    0.00000   100%  6681  917s\n",
      "    59    61    0.31691   41  602   18.89904    0.00000   100%  6627  932s\n",
      "    60    62    0.20639   41  534   18.89904    0.00000   100%  6590  938s\n",
      "    61    63    0.34684   42  547   18.89904    0.00000   100%  6595  947s\n",
      "    62    64    0.39376   42  544   18.89904    0.00000   100%  6711  969s\n",
      "    63    65    0.35276   43  589   18.89904    0.00000   100%  6648  977s\n",
      "    64    66    0.37265   43  544   18.89904    0.00000   100%  6599  982s\n",
      "    65    67    0.35952   44  642   18.89904    0.00000   100%  6563  988s\n",
      "    66    68    0.40015   44  611   18.89904    0.00000   100%  6573  997s\n",
      "    67    69    0.36012   45  557   18.89904    0.00000   100%  6496 1000s\n",
      "    69    71    0.36394   46  552   18.89904    0.00000   100%  6366 1007s\n",
      "    70    72    0.36172   47  548   18.89904    0.00000   100%  6303 1010s\n",
      "    71    73    1.30034   47  751   18.89904    0.00000   100%  6385 1023s\n",
      "    72    74    0.36692   48  561   18.89904    0.00000   100%  6328 1029s\n",
      "    73    75    0.36230   48  544   18.89904    0.00000   100%  6254 1031s\n",
      "    75    77    0.36738   49  533   18.89904    0.00000   100%  6142 1039s\n",
      "    76    78    0.36722   50  540   18.89904    0.00000   100%  6096 1043s\n",
      "    77    79    1.34776   50  815   18.89904    0.00000   100%  6191 1059s\n",
      "    78    80    0.37224   51  551   18.89904    0.00000   100%  6146 1062s\n",
      "    79    81    0.36850   51  539   18.89904    0.00000   100%  6092 1065s\n",
      "    80    82    0.37293   52  550   18.89904    0.00000   100%  6057 1070s\n",
      "    81    83    0.36996   52  544   18.89904    0.00000   100%  6008 1075s\n",
      "    82    84    1.32850   53  775   18.89904    0.00000   100%  6080 1111s\n",
      "    83    85    1.39337   53  726   18.89904    0.00000   100%  6150 1123s\n",
      "    84    86    1.34913   54  934   18.89904    0.00000   100%  6104 1127s\n",
      "    85    87    1.99262   54  954   18.89904    0.00000   100%  6151 1141s\n",
      "    86    88    1.35269   55  966   18.89904    0.00000   100%  6091 1145s\n",
      "    87    89    2.11573   55  797   18.89904    0.00000   100%  6120 1156s\n",
      "    88    90    1.40196   56  889   18.89904    0.00000   100%  6080 1163s\n",
      "    89    91    2.14747   56  912   18.89904    0.00000   100%  6114 1175s\n",
      "    91    93    1.80580   57 1014   18.89904    0.00000   100%  6063 1192s\n",
      "    92    94    1.43665   58  952   18.89904    0.00000   100%  6016 1196s\n",
      "\n",
      "Cutting planes:\n",
      "  Clique: 13\n",
      "  MIR: 6\n",
      "  RLT: 350\n",
      "  BQP: 1\n",
      "\n",
      "Explored 93 nodes (620435 simplex iterations) in 1200.03 seconds (3957.31 work units)\n",
      "Thread count was 1 (of 12 available processors)\n",
      "\n",
      "Solution count 2: 18.899 19.4839 \n",
      "\n",
      "Time limit reached\n",
      "Best objective 1.889904357067e+01, best bound 0.000000000000e+00, gap 100.0000%\n"
     ]
    }
   ],
   "source": [
    "model.optimize()"
   ]
  },
  {
   "cell_type": "code",
   "execution_count": 25,
   "metadata": {},
   "outputs": [
    {
     "name": "stdout",
     "output_type": "stream",
     "text": [
      "Objective Value: 18.899043570669505\n"
     ]
    }
   ],
   "source": [
    "if model.Status == GRB.OPTIMAL:\n",
    "    print(\"Optimization was successful and an optimal solution was found.\")\n",
    "elif model.Status == GRB.INFEASIBLE:\n",
    "    print(\"The model is infeasible - no feasible solution exists.\")\n",
    "elif model.Status == GRB.UNBOUNDED:\n",
    "    print(\"The model is unbounded - the objective can be improved without limit.\")\n",
    "print(\"Objective Value:\", model.objVal)"
   ]
  },
  {
   "cell_type": "code",
   "execution_count": 26,
   "metadata": {},
   "outputs": [
    {
     "name": "stdout",
     "output_type": "stream",
     "text": [
      "Objective Value: 18.899043570669505\n"
     ]
    }
   ],
   "source": [
    "print(\"Objective Value:\", model.objVal)"
   ]
  },
  {
   "cell_type": "markdown",
   "metadata": {},
   "source": [
    "### Time Slots and Exams in Each Time Slot"
   ]
  },
  {
   "cell_type": "code",
   "execution_count": 27,
   "metadata": {},
   "outputs": [],
   "source": [
    "# Scheduled-Exams in LIST\n",
    "scheduled_exams = []\n",
    "# Print the values of decision variable X\n",
    "for exam in ExamsList:\n",
    "    for time in TimeList:\n",
    "        if X[exam, time].x > 0.5:\n",
    "            scheduled_exams.append((exam, time))"
   ]
  },
  {
   "cell_type": "code",
   "execution_count": 28,
   "metadata": {},
   "outputs": [
    {
     "name": "stdout",
     "output_type": "stream",
     "text": [
      "Time Slot 0: Exams [9, 26, 35, 38, 63]\n",
      "Time Slot 1: Exams [1, 21, 28, 34, 76]\n",
      "Time Slot 2: Exams [10, 31, 33, 41, 70]\n",
      "Time Slot 3: Exams [11, 29, 37, 46, 74]\n",
      "Time Slot 4: Exams [5, 24, 25, 49, 61, 79]\n",
      "Time Slot 5: Exams [23, 36, 51, 60, 65, 66]\n",
      "Time Slot 6: Exams [20, 43, 72]\n",
      "Time Slot 7: Exams [4, 6, 18, 50, 77]\n",
      "Time Slot 8: Exams [8, 16, 17, 55, 78]\n",
      "Time Slot 9: Exams [3, 27, 45, 57, 75]\n",
      "Time Slot 10: Exams [19, 69]\n",
      "Time Slot 11: Exams [0, 13, 15, 42, 67]\n",
      "Time Slot 12: Exams [30, 54, 62, 71]\n",
      "Time Slot 13: Exams [7, 52, 64, 68]\n",
      "Time Slot 14: Exams [2, 22, 47, 58, 73, 80]\n",
      "Time Slot 15: Exams [32, 39, 48]\n",
      "Time Slot 16: Exams [44, 53, 59]\n",
      "Time Slot 17: Exams [12, 14, 40, 56]\n"
     ]
    }
   ],
   "source": [
    "# Create a dictionary to store exams for each time slot\n",
    "Exams_in_TimeSlots = {}\n",
    "\n",
    "for exam, time in scheduled_exams:\n",
    "    if time not in Exams_in_TimeSlots:\n",
    "        Exams_in_TimeSlots[time] = []\n",
    "    Exams_in_TimeSlots[time].append(exam)\n",
    "\n",
    "# Print the organized structure\n",
    "for time_slot, exams in sorted(Exams_in_TimeSlots.items()):\n",
    "    print(f\"Time Slot {time_slot}: Exams {exams}\")"
   ]
  },
  {
   "cell_type": "code",
   "execution_count": 29,
   "metadata": {},
   "outputs": [],
   "source": [
    "# Sorting the Dic According to Time Slot It Will be Sorted By Keys \n",
    "Exams_in_TimeSlots= dict(sorted(Exams_in_TimeSlots.items()))"
   ]
  },
  {
   "cell_type": "markdown",
   "metadata": {},
   "source": [
    "### Chcking whether there is Conflict Between the Exams In Each Time Slots"
   ]
  },
  {
   "cell_type": "code",
   "execution_count": 30,
   "metadata": {
    "scrolled": true
   },
   "outputs": [],
   "source": [
    "#All pairs of Time Tables exams related to Each time slot-More General\n",
    "All_pairs_in_TimeSlots_Exams = []\n",
    "\n",
    "for time_slot, exams in Exams_in_TimeSlots.items():\n",
    "    exam_pairs = [(exams[i], exams[j]) for i in range(len(exams)) for j in range(i + 1, len(exams))]\n",
    "    All_pairs_in_TimeSlots_Exams.extend(exam_pairs)"
   ]
  },
  {
   "cell_type": "code",
   "execution_count": 31,
   "metadata": {},
   "outputs": [],
   "source": [
    "#Conflicting Exams - The code is Correct\n",
    "List_ConflictExams=[]\n",
    "for i in ExamsList:\n",
    "    for j in ExamsList:\n",
    "        if UC_Matrix[i,j] > 0:\n",
    "            List_ConflictExams.append((i,j))"
   ]
  },
  {
   "cell_type": "code",
   "execution_count": 32,
   "metadata": {},
   "outputs": [
    {
     "name": "stdout",
     "output_type": "stream",
     "text": [
      "The Solution is Feasible Meaning that There is No Conflicting Exam in a All Time Slots\n"
     ]
    }
   ],
   "source": [
    "# To find Whether There is Intersection Between This Lists or Not\n",
    "\n",
    "Set_All_pairs_in_TimeSlots_Exams=set(All_pairs_in_TimeSlots_Exams)\n",
    "Set_List_ConflictExams=set(List_ConflictExams)\n",
    "Common_elements = Set_All_pairs_in_TimeSlots_Exams.intersection(List_ConflictExams)\n",
    "# Find common elements\n",
    "if len (Common_elements) == 0:\n",
    "    print('The Solution is Feasible Meaning that There is No Conflicting Exam in a All Time Slots')\n",
    "else:\n",
    "    print('The Solution is Not Feasible Meaning that There is Conflicting Exam in Time Slots')\n",
    "    \n",
    "\n",
    "\n",
    "# Print the common elements\n",
    "#print(\"Common Elements:\", Common_elements)"
   ]
  },
  {
   "cell_type": "markdown",
   "metadata": {},
   "source": [
    "### Necessary OutPuts "
   ]
  },
  {
   "cell_type": "code",
   "execution_count": 34,
   "metadata": {},
   "outputs": [],
   "source": [
    "output_folder = r\"C:\\Users\\ghadi\\Downloads\\Discrete Optimization Project - Gurobi- Instance 7\"\n",
    "\n",
    "\n",
    "output_file_path = os.path.join(output_folder, \"Discrete Optimization Project- Instance 7 .sol\")\n",
    "\n",
    "# Specify the file name only for model.write()\n",
    "model.write(\"Discrete Optimization Project 2023.sol\")\n",
    "\n",
    "with open(output_file_path, 'w') as f:\n",
    "    # your code here\n",
    "    \n",
    "    # Convert Exams_in_TimeSlots to a string before writing\n",
    "    exams_string = \", \".join(map(str, TimeList))\n",
    "    f.write(f\"Exams Time Slots are: {exams_string}\\n\")\n",
    "    \n",
    "    f.write('\\n\\n')\n",
    "    \n",
    "    if len (Common_elements) == 0:\n",
    "        f.write('The Solution is Feasible Meaning that There is No Conflicting Exam in  All Time Slots')\n",
    "    else:\n",
    "        f.write('The Solution is Not Feasible Meaning that There is Conflicting Exam in Time Slots')\n",
    "        \n",
    "    \n",
    "    f.write('\\n\\n')    \n",
    "        \n",
    "    \n",
    "    for time_slot, exams in sorted(Exams_in_TimeSlots.items()):\n",
    "        f.write(f\"Time Slot {time_slot}: Exams {exams}\\n\")\n",
    "        \n",
    "    f.write('\\n\\n') \n",
    "    \n",
    "    f.write(f\"The Objected Value - Penalty: {model.objVal}\\n\")\n",
    "    f.write(f\"The Benchmark is = 10.050 \\n\")\n",
    "    "
   ]
  }
 ],
 "metadata": {
  "kernelspec": {
   "display_name": "Python 3 (ipykernel)",
   "language": "python",
   "name": "python3"
  },
  "language_info": {
   "codemirror_mode": {
    "name": "ipython",
    "version": 3
   },
   "file_extension": ".py",
   "mimetype": "text/x-python",
   "name": "python",
   "nbconvert_exporter": "python",
   "pygments_lexer": "ipython3",
   "version": "3.9.12"
  }
 },
 "nbformat": 4,
 "nbformat_minor": 4
}

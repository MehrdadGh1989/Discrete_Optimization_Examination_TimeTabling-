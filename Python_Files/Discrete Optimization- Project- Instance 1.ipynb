{
 "cells": [
  {
   "cell_type": "markdown",
   "metadata": {},
   "source": [
    "# Instance 1"
   ]
  },
  {
   "cell_type": "code",
   "execution_count": 1,
   "metadata": {},
   "outputs": [],
   "source": [
    "import os\n",
    "from pyomo.environ import *\n",
    "import numpy as np\n",
    "import pandas as pd\n",
    "import gurobipy as gp\n",
    "from gurobipy import GRB"
   ]
  },
  {
   "cell_type": "markdown",
   "metadata": {},
   "source": [
    "## Importing DataSet"
   ]
  },
  {
   "cell_type": "code",
   "execution_count": 2,
   "metadata": {},
   "outputs": [],
   "source": [
    "file_path = 'Instance_1.xlsx'\n",
    "# Read the Excel file into a dictionary of DataFrames, where keys are sheet names\n",
    "Instance_data = pd.read_excel(file_path, sheet_name=None)"
   ]
  },
  {
   "cell_type": "code",
   "execution_count": 3,
   "metadata": {},
   "outputs": [],
   "source": [
    "# Exam Data\n",
    "\n",
    "Exams = Instance_data['Sheet1']\n",
    "Exams['Exams'] = Exams['Exams'] - 1\n",
    "ExamsList = list(Exams['Exams'])"
   ]
  },
  {
   "cell_type": "markdown",
   "metadata": {},
   "source": [
    "### Dictionary of Students and their related Exams"
   ]
  },
  {
   "cell_type": "code",
   "execution_count": 4,
   "metadata": {},
   "outputs": [],
   "source": [
    "# Creating a Dictionary of Students and Their Related Exams\n",
    "Students_exams = Instance_data['Sheet3']\n",
    "Students_exams['ExamNumber'] = Students_exams['ExamNumber'] - 1\n",
    "# Initialize an empty dictionary to store the students and their exams\n",
    "students = {}\n",
    "# Iterate over the rows in the DataFrame\n",
    "for index, row in Students_exams.iterrows():\n",
    "    student = row['Student']\n",
    "    exam_number = row['ExamNumber']\n",
    "    \n",
    "    # Check if the student is already in the dictionary\n",
    "    if student in students:\n",
    "        students[student].append(exam_number)\n",
    "    # If the student is not in the dictionary, create a new key-value pair    \n",
    "    else:\n",
    "        students[student] = [exam_number]"
   ]
  },
  {
   "cell_type": "markdown",
   "metadata": {},
   "source": [
    "### TimeSlots"
   ]
  },
  {
   "cell_type": "code",
   "execution_count": 5,
   "metadata": {},
   "outputs": [],
   "source": [
    "Time_s = Instance_data['Sheet2']\n",
    "time_slots = Time_s.loc[0, 'TimeSlot']\n",
    "TimeList= list(range (time_slots))"
   ]
  },
  {
   "cell_type": "code",
   "execution_count": 6,
   "metadata": {},
   "outputs": [
    {
     "data": {
      "text/plain": [
       "[0, 1, 2, 3, 4, 5, 6, 7, 8, 9, 10, 11, 12]"
      ]
     },
     "execution_count": 6,
     "metadata": {},
     "output_type": "execute_result"
    }
   ],
   "source": [
    "TimeList"
   ]
  },
  {
   "cell_type": "markdown",
   "metadata": {},
   "source": [
    "### Distance"
   ]
  },
  {
   "cell_type": "code",
   "execution_count": 7,
   "metadata": {},
   "outputs": [
    {
     "data": {
      "text/plain": [
       "[1, 2, 3, 4, 5]"
      ]
     },
     "execution_count": 7,
     "metadata": {},
     "output_type": "execute_result"
    }
   ],
   "source": [
    "#Distance\n",
    "Distance=list(range(1,6))\n",
    "Distance"
   ]
  },
  {
   "cell_type": "markdown",
   "metadata": {},
   "source": [
    "###  Finding Conflicted Exams (Weighted-Unweighted)"
   ]
  },
  {
   "cell_type": "code",
   "execution_count": 8,
   "metadata": {},
   "outputs": [],
   "source": [
    "# Unweighted\n",
    "# Step 1: Initialize the dictionary to store conflicting exams\n",
    "conflicting_exams = {exam: set() for exams_list in students.values() for exam in exams_list}\n",
    "\n",
    "# Step 2: Populate the dictionary with conflicting exams\n",
    "for student_exams in students.values():\n",
    "    for i, exam1 in enumerate(student_exams):\n",
    "        for exam2 in student_exams[i + 1:]:\n",
    "            conflicting_exams[exam1].add(exam2)\n",
    "            conflicting_exams[exam2].add(exam1)\n",
    "\n",
    "# Step 3: Create the unweighted conflicting matrix\n",
    "Unweighted_Conflict_Matrix = [\n",
    "    [1 if exam2 in conflicting_exams[exam1] else 0 for exam2 in ExamsList] for exam1 in ExamsList\n",
    "]\n"
   ]
  },
  {
   "cell_type": "code",
   "execution_count": 9,
   "metadata": {},
   "outputs": [],
   "source": [
    "# Weighted\n",
    "\n",
    "# The weighted Conflicting MATRIX\n",
    "# Step 1: Initialize the dictionary to store conflicting exams\n",
    "conflicting_exams = {exam: set() for exams_list in students.values() for exam in exams_list}\n",
    "\n",
    "# Step 2: Populate the dictionary with conflicting exams\n",
    "for student_exams in students.values():\n",
    "    for i, exam1 in enumerate(student_exams):\n",
    "        for exam2 in student_exams[i + 1:]:\n",
    "            conflicting_exams[exam1].add(exam2)\n",
    "            conflicting_exams[exam2].add(exam1)\n",
    "\n",
    "# Step 3: Create the weighted conflicting matrix\n",
    "weighted_conflicting_matrix = [[0 for _ in ExamsList] for _ in ExamsList]\n",
    "\n",
    "# Step 4: Calculate the number of students in each conflicting exam pair and fill the matrix\n",
    "for i, exam1 in enumerate(ExamsList):\n",
    "    for j, exam2 in enumerate(ExamsList):\n",
    "        if exam2 in conflicting_exams[exam1]:\n",
    "            count = sum(1 for student_exams in students.values() if exam1 in student_exams and exam2 in student_exams)\n",
    "            weighted_conflicting_matrix[i][j] = count\n",
    "\n"
   ]
  },
  {
   "cell_type": "markdown",
   "metadata": {},
   "source": [
    "### Converting the Llist of UC and WC to Matrix of Coefficients"
   ]
  },
  {
   "cell_type": "code",
   "execution_count": 10,
   "metadata": {},
   "outputs": [],
   "source": [
    "#Conflicting Exams (Weighted and Unweighted)\n",
    "UC_Matrix=np.array(Unweighted_Conflict_Matrix )\n",
    "WC_Matrix=np.array(weighted_conflicting_matrix)"
   ]
  },
  {
   "cell_type": "code",
   "execution_count": 11,
   "metadata": {},
   "outputs": [
    {
     "data": {
      "text/plain": [
       "array([[0, 0, 0, ..., 1, 0, 0],\n",
       "       [0, 0, 0, ..., 1, 0, 0],\n",
       "       [0, 0, 0, ..., 0, 1, 0],\n",
       "       ...,\n",
       "       [1, 1, 0, ..., 0, 0, 0],\n",
       "       [0, 0, 1, ..., 0, 0, 0],\n",
       "       [0, 0, 0, ..., 0, 0, 0]])"
      ]
     },
     "execution_count": 11,
     "metadata": {},
     "output_type": "execute_result"
    }
   ],
   "source": [
    "UC_Matrix"
   ]
  },
  {
   "cell_type": "code",
   "execution_count": 12,
   "metadata": {},
   "outputs": [
    {
     "data": {
      "text/plain": [
       "array([[  0,   0,   0, ...,   2,   0,   0],\n",
       "       [  0,   0,   0, ...,   1,   0,   0],\n",
       "       [  0,   0,   0, ...,   0, 209,   0],\n",
       "       ...,\n",
       "       [  2,   1,   0, ...,   0,   0,   0],\n",
       "       [  0,   0, 209, ...,   0,   0,   0],\n",
       "       [  0,   0,   0, ...,   0,   0,   0]])"
      ]
     },
     "execution_count": 12,
     "metadata": {},
     "output_type": "execute_result"
    }
   ],
   "source": [
    "WC_Matrix"
   ]
  },
  {
   "cell_type": "code",
   "execution_count": 13,
   "metadata": {},
   "outputs": [
    {
     "name": "stdout",
     "output_type": "stream",
     "text": [
      "Set parameter Username\n",
      "Set parameter LogFile to value \"C:\\Users\\ghadi\\Downloads\\Discrete Optimization Project - Gurobi- Instance 1\\Discrete Optimization Project - Instance 1-Log File.log\"\n",
      "Academic license - for non-commercial use only - expires 2024-07-07\n",
      "Set parameter Threads to value 1\n",
      "Set parameter Presolve to value 1\n",
      "Set parameter Method to value 0\n",
      "Set parameter TimeLimit to value 600\n",
      "Set parameter PreSparsify to value 1\n"
     ]
    }
   ],
   "source": [
    "# Setting up the environment\n",
    "\n",
    "\n",
    "env = gp.Env(\n",
    "    r\"C:\\Users\\ghadi\\Downloads\\Discrete Optimization Project - Gurobi- Instance 1\\Discrete Optimization Project - Instance 1-Log File.log\")\n",
    "env.start()\n",
    "\n",
    "# Environment parameters\n",
    "env.setParam(\"Threads\", 1)  # Controls the number of threads to apply to parallel algorithms\n",
    "env.setParam(\"Presolve\", 1)  # Controls the presolve level. conservative (1).\n",
    "env.setParam(\"MIPGap\", 1e-4)\n",
    "env.setParam('Method', 0)  # Algorithm used to solve the initial root relaxation of a MIP model. 0=primal simplex.\n",
    "env.setParam(\"TimeLimit\", 1200)  # 10 minutes time limit\n",
    "env.setParam(\"PreSparsify\", 1) # to reduce the memory used\n"
   ]
  },
  {
   "cell_type": "markdown",
   "metadata": {},
   "source": [
    "### Defining Gurobi Model"
   ]
  },
  {
   "cell_type": "code",
   "execution_count": 14,
   "metadata": {},
   "outputs": [],
   "source": [
    "model = gp.Model(\"Exam_Scheduling\", env=env)"
   ]
  },
  {
   "cell_type": "markdown",
   "metadata": {},
   "source": [
    "### Defining Decision Variable and Auxiliary Variable"
   ]
  },
  {
   "cell_type": "code",
   "execution_count": 15,
   "metadata": {},
   "outputs": [],
   "source": [
    "#Decision Variable\n",
    "X = model.addVars(ExamsList, TimeList , vtype=GRB.BINARY, name=\"X\")"
   ]
  },
  {
   "cell_type": "code",
   "execution_count": 16,
   "metadata": {},
   "outputs": [],
   "source": [
    "# Binary auxiliary variable for controlling conflict\n",
    "Y = model.addVars(ExamsList, ExamsList, Distance, vtype=GRB.BINARY, name=\"Y\")"
   ]
  },
  {
   "cell_type": "markdown",
   "metadata": {},
   "source": [
    "###  Defining Constraints "
   ]
  },
  {
   "cell_type": "code",
   "execution_count": 17,
   "metadata": {},
   "outputs": [],
   "source": [
    "#Constraint 1\n",
    "model.addConstrs(UC_Matrix[i, j] * (X[i, k] + X[j, k]) <= 1 for i in ExamsList for j in ExamsList for k in TimeList)\n",
    "model.update()"
   ]
  },
  {
   "cell_type": "code",
   "execution_count": 18,
   "metadata": {},
   "outputs": [],
   "source": [
    "#Constraint 2\n",
    "model.addConstrs(sum(X[i, k] for k in TimeList) == 1 for i in ExamsList for k in TimeList)\n",
    "model.update()"
   ]
  },
  {
   "cell_type": "code",
   "execution_count": 19,
   "metadata": {},
   "outputs": [],
   "source": [
    "#Constraint C3\n",
    "model.addConstrs((X[i, k] + X[j, k + d]) <= Y[i, j, d] + 1 for i in ExamsList for j in ExamsList for k in TimeList for d in Distance if (k + d) in TimeList and UC_Matrix[i, j] != 0)\n",
    "model.update()"
   ]
  },
  {
   "cell_type": "markdown",
   "metadata": {},
   "source": [
    "### Defining Objective Function"
   ]
  },
  {
   "cell_type": "code",
   "execution_count": 20,
   "metadata": {},
   "outputs": [],
   "source": [
    "# Create the objective expression using a loop\n",
    "objective_expr = 0\n",
    "for i in ExamsList:\n",
    "    for j in ExamsList:\n",
    "        for d in Distance:\n",
    "            objective_expr += Y[i, j, d] * WC_Matrix[i, j] * ((2 ** (5 - d))/611)\n",
    "\n",
    "# Set up the objective function for minimization\n",
    "model.setObjective(objective_expr, GRB.MINIMIZE)"
   ]
  },
  {
   "cell_type": "code",
   "execution_count": 21,
   "metadata": {},
   "outputs": [
    {
     "name": "stdout",
     "output_type": "stream",
     "text": [
      "Set parameter TimeLimit to value 1200\n"
     ]
    }
   ],
   "source": [
    "# Time limit for the model\n",
    "model.Params.TimeLimit = 1200"
   ]
  },
  {
   "cell_type": "code",
   "execution_count": 22,
   "metadata": {},
   "outputs": [],
   "source": [
    "model.update()"
   ]
  },
  {
   "cell_type": "code",
   "execution_count": 23,
   "metadata": {},
   "outputs": [
    {
     "name": "stdout",
     "output_type": "stream",
     "text": [
      "Gurobi Optimizer version 10.0.2 build v10.0.2rc0 (win64)\n",
      "\n",
      "CPU model: 12th Gen Intel(R) Core(TM) i5-1235U, instruction set [SSE2|AVX|AVX2]\n",
      "Thread count: 10 physical cores, 12 logical processors, using up to 1 threads\n",
      "\n",
      "Optimize a model with 391080 rows, 98412 columns and 509603 nonzeros\n",
      "Model fingerprint: 0x38e7e78b\n",
      "Variable types: 0 continuous, 98412 integer (98412 binary)\n",
      "Coefficient statistics:\n",
      "  Matrix range     [1e+00, 1e+00]\n",
      "  Objective range  [2e-03, 5e+00]\n",
      "  Bounds range     [1e+00, 1e+00]\n",
      "  RHS range        [1e+00, 1e+00]\n",
      "Presolve removed 256324 rows and 83310 columns (presolve time = 9s) ...\n",
      "Sparsify removed 2542 nonzeros (1%)\n",
      "Presolve removed 256324 rows and 83172 columns\n",
      "Presolve time: 8.85s\n",
      "Presolved: 134756 rows, 15240 columns, 412263 nonzeros\n",
      "Variable types: 0 continuous, 15240 integer (15240 binary)\n",
      "Found heuristic solution: objective 211.9918167\n",
      "\n",
      "Root simplex log...\n",
      "\n",
      "Iteration    Objective       Primal Inf.    Dual Inf.      Time\n",
      "       0   -0.0000000e+00   0.000000e+00   2.940000e+02      9s\n",
      "    4011   -0.0000000e+00   0.000000e+00   0.000000e+00      9s\n",
      "    4011   -0.0000000e+00   0.000000e+00   0.000000e+00      9s\n",
      "    4011    0.0000000e+00   0.000000e+00   0.000000e+00      9s\n",
      "\n",
      "Use crossover to convert LP symmetric solution to basic solution...\n",
      "\n",
      "Root crossover log...\n",
      "\n",
      "     588 PPushes remaining with PInf 0.0000000e+00                10s\n",
      "       0 PPushes remaining with PInf 0.0000000e+00                10s\n",
      "\n",
      "  Push phase complete: Pinf 0.0000000e+00, Dinf 0.0000000e+00     10s\n",
      "\n",
      "\n",
      "Root simplex log...\n",
      "\n",
      "Iteration    Objective       Primal Inf.    Dual Inf.      Time\n",
      "    4602    0.0000000e+00   0.000000e+00   0.000000e+00     10s\n",
      "\n",
      "Root relaxation: objective 0.000000e+00, 4602 iterations, 0.51 seconds (0.55 work units)\n",
      "Total elapsed time = 10.95s\n",
      "\n",
      "    Nodes    |    Current Node    |     Objective Bounds      |     Work\n",
      " Expl Unexpl |  Obj  Depth IntInf | Incumbent    BestBd   Gap | It/Node Time\n",
      "\n",
      "     0     0    0.00000    0  383  211.99182    0.00000   100%     -   11s\n",
      "     0     0    0.00000    0  518  211.99182    0.00000   100%     -   15s\n",
      "     0     0    0.00000    0  442  211.99182    0.00000   100%     -   17s\n",
      "     0     0    0.00000    0  497  211.99182    0.00000   100%     -   25s\n",
      "     0     0    0.00000    0  550  211.99182    0.00000   100%     -   28s\n",
      "     0     0    0.00000    0  552  211.99182    0.00000   100%     -   36s\n",
      "     0     0    0.00000    0  558  211.99182    0.00000   100%     -   39s\n",
      "     0     0    0.00000    0  492  211.99182    0.00000   100%     -   49s\n",
      "     0     0    0.00000    0  563  211.99182    0.00000   100%     -   52s\n",
      "     0     0    0.02366    0  488  211.99182    0.02366   100%     -   71s\n",
      "     0     0    0.05572    0  680  211.99182    0.05572   100%     -   75s\n",
      "     0     0    0.14569    0  729  211.99182    0.14569   100%     -   81s\n",
      "     0     0    0.17673    0  792  211.99182    0.17673   100%     -   85s\n",
      "     0     0    0.19397    0  846  211.99182    0.19397   100%     -   88s\n",
      "     0     0    0.20991    0  876  211.99182    0.20991   100%     -   91s\n",
      "     0     0    0.21715    0  941  211.99182    0.21715   100%     -   95s\n",
      "     0     0    0.22548    0  865  211.99182    0.22548   100%     -   97s\n",
      "     0     0    0.22748    0  850  211.99182    0.22748   100%     -  101s\n",
      "     0     0    0.23023    0  980  211.99182    0.23023   100%     -  103s\n",
      "     0     0    0.23230    0  980  211.99182    0.23230   100%     -  108s\n",
      "     0     0    0.23551    0  986  211.99182    0.23551   100%     -  110s\n",
      "     0     0    0.23699    0  998  211.99182    0.23699   100%     -  114s\n",
      "     0     0    0.23771    0  966  211.99182    0.23771   100%     -  116s\n",
      "     0     0    0.23797    0  998  211.99182    0.23797   100%     -  120s\n",
      "     0     0    0.23886    0 1023  211.99182    0.23886   100%     -  121s\n",
      "     0     0    0.23902    0 1043  211.99182    0.23902   100%     -  126s\n",
      "     0     0    0.23934    0  998  211.99182    0.23934   100%     -  127s\n",
      "     0     0    0.23960    0 1047  211.99182    0.23960   100%     -  132s\n",
      "     0     0    0.23973    0 1081  211.99182    0.23973   100%     -  133s\n",
      "     0     0    0.24056    0 1082  211.99182    0.24056   100%     -  137s\n",
      "     0     0    0.24098    0 1085  211.99182    0.24098   100%     -  140s\n",
      "     0     0    0.24123    0 1072  211.99182    0.24123   100%     -  144s\n",
      "     0     0    0.24148    0 1077  211.99182    0.24148   100%     -  145s\n",
      "     0     0    0.24162    0 1099  211.99182    0.24162   100%     -  150s\n",
      "H    0     0                     191.6710311    0.24162   100%     -  150s\n",
      "     0     0    0.24369    0 1015  191.67103    0.24369   100%     -  152s\n",
      "     0     0    0.25048    0  951  191.67103    0.25048   100%     -  156s\n",
      "     0     0    0.26158    0  975  191.67103    0.26158   100%     -  159s\n",
      "     0     0    0.26880    0  890  191.67103    0.26880   100%     -  163s\n",
      "     0     0    0.28126    0  925  191.67103    0.28126   100%     -  167s\n",
      "     0     0    0.28752    0  923  191.67103    0.28752   100%     -  171s\n",
      "     0     0    0.31239    0  963  191.67103    0.31239   100%     -  175s\n",
      "     0     0    0.33088    0  931  191.67103    0.33088   100%     -  179s\n",
      "     0     0    0.33872    0  914  191.67103    0.33872   100%     -  183s\n",
      "     0     0    0.33983    0  936  191.67103    0.33983   100%     -  186s\n",
      "     0     0    0.34445    0  899  191.67103    0.34445   100%     -  188s\n",
      "     0     0    0.34788    0  835  191.67103    0.34788   100%     -  192s\n",
      "     0     0    0.34802    0  925  191.67103    0.34802   100%     -  195s\n",
      "     0     0    0.34941    0  818  191.67103    0.34941   100%     -  198s\n",
      "     0     0    0.35275    0  849  191.67103    0.35275   100%     -  200s\n",
      "     0     0    0.35892    0  954  191.67103    0.35892   100%     -  204s\n",
      "     0     0    0.36219    0  943  191.67103    0.36219   100%     -  207s\n",
      "     0     0    0.36219    0  913  191.67103    0.36219   100%     -  210s\n",
      "     0     0    0.36219    0  963  191.67103    0.36219   100%     -  212s\n",
      "     0     0    0.36219    0  923  191.67103    0.36219   100%     -  215s\n",
      "     0     0    0.36219    0  940  191.67103    0.36219   100%     -  218s\n",
      "     0     0    0.36219    0  911  191.67103    0.36219   100%     -  224s\n",
      "     0     0    0.36219    0  911  191.67103    0.36219   100%     -  226s\n",
      "H    0     0                     187.6022913    0.36219   100%     -  284s\n",
      "     4     3    0.36219    2  118  187.60229    0.36219   100% 57863  305s\n",
      "    33    32    0.36219   31  144  187.60229    0.36219   100%  7327  310s\n",
      "    41    40    3.60605   35  235  187.60229    0.36219   100%  6255  315s\n",
      "    50    49    3.71407   40  134  187.60229    0.36219   100%  5355  320s\n",
      "    64    63    6.91620   47  282  187.60229    0.36219   100%  4437  325s\n",
      "    77    76    7.38101   54  328  187.60229    0.36219   100%  3862  330s\n",
      "    96    95   18.35008   65  386  187.60229    0.36219   100%  3248  335s\n",
      "   127   121    3.37799    6  416  187.60229    0.36219   100%  2619  340s\n",
      "   138   132    2.78955   14  344  187.60229    0.36219   100%  2493  345s\n",
      "   143   137    5.94334   17  422  187.60229    0.36219   100%  2492  350s\n",
      "   153   147    7.25702   22  443  187.60229    0.36219   100%  2411  355s\n",
      "   161   155    6.10033   26  155  187.60229    0.36219   100%  2369  360s\n",
      "   176   170   14.22694   35  455  187.60229    0.36219   100%  2249  365s\n",
      "   205   199   21.93295   53  265  187.60229    0.36219   100%  2015  370s\n",
      "   223   207    6.12487   12  331  187.60229    0.36219   100%  1933  375s\n",
      "   229   213    4.32037   16  382  187.60229    0.36219   100%  1930  380s\n",
      "   234   218    7.96082   19  471  187.60229    0.36219   100%  1942  385s\n",
      "   242   226    6.34276   24  461  187.60229    0.36219   100%  1934  390s\n",
      "   250   234    9.86255   29  508  187.60229    0.36219   100%  1934  395s\n",
      "   259   243   10.25476   33  475  187.60229    0.36219   100%  1921  400s\n",
      "   273   257   17.79376   41  544  187.60229    0.36219   100%  1886  405s\n",
      "   289   273   23.57483   52  508  187.60229    0.36219   100%  1833  410s\n",
      "   323   285    2.57657   12  481  187.60229    0.36219   100%  1687  415s\n",
      "   331   293    3.99830   16  493  187.60229    0.36219   100%  1686  420s\n",
      "   336   298    4.98951   19  454  187.60229    0.36219   100%  1715  426s\n"
     ]
    },
    {
     "name": "stdout",
     "output_type": "stream",
     "text": [
      "   344   306    8.39304   23  445  187.60229    0.36219   100%  1711  430s\n",
      "   350   312    7.74279   26  552  187.60229    0.36219   100%  1714  435s\n",
      "   356   318   14.80415   30  552  187.60229    0.36219   100%  1728  440s\n",
      "   365   327    8.52359   35  465  187.60229    0.36219   100%  1721  445s\n",
      "   379   341   10.64888   39  259  187.60229    0.36219   100%  1695  450s\n",
      "   395   357   14.77778   49  399  187.60229    0.36219   100%  1662  455s\n",
      "   428   374    2.12502    4  483  187.60229    0.36219   100%  1588  462s\n",
      "   429   375    4.49020    5  469  187.60229    0.36219   100%  1596  465s\n",
      "   435   381    5.10849    8  426  187.60229    0.36219   100%  1605  470s\n",
      "   442   388    6.36190    9  470  187.60229    0.36219   100%  1609  476s\n",
      "   445   391    5.91564   13  437  187.60229    0.36219   100%  1620  480s\n",
      "   449   395    6.36258   15  461  187.60229    0.36219   100%  1631  486s\n",
      "   456   402   10.27382   16  425  187.60229    0.36219   100%  1633  491s\n",
      "   461   407    5.59097   21  482  187.60229    0.36219   100%  1638  495s\n",
      "   466   412    5.00000   22  480  187.60229    0.36219   100%  1647  500s\n",
      "   472   418    7.37774   25  460  187.60229    0.36219   100%  1655  506s\n",
      "   476   422   12.77094   27  475  187.60229    0.36219   100%  1655  511s\n",
      "   481   427   13.79718   29  434  187.60229    0.36219   100%  1658  515s\n",
      "   490   436   17.29527   34  523  187.60229    0.36219   100%  1655  520s\n",
      "   500   446   17.31582   38  307  187.60229    0.36219   100%  1645  525s\n",
      "H  503   448                     178.7266776    0.36219   100%  1243  526s\n",
      "   504   451    0.36219    2   87  178.72668    0.36219   100%  1698  539s\n",
      "   509   454   10.28200    5  152  178.72668    0.36219   100%  1690  540s\n",
      "   562   495   71.62242   35  191  178.72668    0.36219   100%  1547  545s\n",
      "   653   560   69.53240   31  157  178.72668    0.36219   100%  1353  550s\n",
      "   771   646   78.58846   66   77  178.72668    0.36219   100%  1160  555s\n",
      "   808   673   28.70016   14  653  178.72668    8.22962  95.4%  1137  560s\n",
      "H 1003   867                     178.0703764    8.22962  95.4%   731  563s\n",
      "  1004   870    8.22962    2  125  178.07038    8.22962  95.4%   964  610s\n",
      "  1014   880    8.22962   12  125  178.07038    8.22962  95.4%   962  615s\n",
      "  1018   884    8.22962   16  125  178.07038    8.22962  95.4%   968  622s\n",
      "  1021   887    8.22962   19  125  178.07038    8.22962  95.4%   969  625s\n",
      "  1023   889    9.16593   20  407  178.07038    8.22962  95.4%   981  630s\n",
      "  1030   896    8.22962   26  128  178.07038    8.22962  95.4%   981  635s\n",
      "  1035   901    8.22962   30  130  178.07038    8.22962  95.4%   987  640s\n",
      "  1038   904   10.35144   31  360  178.07038    8.22962  95.4%  1000  646s\n",
      "  1040   906   10.84576   32  429  178.07038    8.22962  95.4%  1007  650s\n",
      "  1044   910   11.08612   34  490  178.07038    8.22962  95.4%  1020  656s\n",
      "  1046   912   14.42011   35  277  178.07038    8.22962  95.4%  1026  660s\n",
      "  1050   916    8.84834   37  228  178.07038    8.22962  95.4%  1036  665s\n",
      "  1055   921   10.93076   40  312  178.07038    8.22962  95.4%  1046  671s\n",
      "  1057   923    8.22962   41  267  178.07038    8.22962  95.4%  1050  675s\n",
      "  1062   928   10.56290   44  270  178.07038    8.22962  95.4%  1068  684s\n",
      "  1063   929   11.60668   44  584  178.07038    8.22962  95.4%  1076  687s\n",
      "  1065   931   21.51135   45  677  178.07038    8.22962  95.4%  1084  692s\n",
      "  1067   933   11.25007   46  316  178.07038    8.22962  95.4%  1088  696s\n",
      "  1069   935   20.40358   47  598  178.07038    8.22962  95.4%  1094  700s\n",
      "  1072   938   19.29792   49  430  178.07038    8.22962  95.4%  1100  705s\n",
      "  1074   940   24.00801   50  705  178.07038    8.22962  95.4%  1109  710s\n",
      "  1081   947   28.60038   54 1021  178.07038    8.22962  95.4%  1115  715s\n",
      "  1108   974   38.07820   74  623  178.07038    8.22962  95.4%  1099  720s\n",
      "  1189  1049    9.70084    3  296  178.07038    8.22962  95.4%  1033  725s\n",
      "  1191  1051   23.32250    4  651  178.07038    8.22962  95.4%  1045  731s\n",
      "  1193  1053   21.96645    5  436  178.07038    8.22962  95.4%  1050  735s\n",
      "  1197  1057   23.48404    7  523  178.07038    8.22962  95.4%  1063  742s\n",
      "  1199  1059   21.56151    8  495  178.07038    8.22962  95.4%  1071  748s\n",
      "  1200  1060   19.81091    9  393  178.07038    8.22962  95.4%  1078  753s\n",
      "  1203  1063   14.46783   10  496  178.07038    8.22962  95.4%  1082  756s\n",
      "  1209  1069   20.61654   14  454  178.07038    8.22962  95.4%  1087  760s\n",
      "  1217  1077   18.49441   20  642  178.07038    8.22962  95.4%  1087  765s\n",
      "  1226  1086   35.43481   25  974  178.07038    8.22962  95.4%  1093  770s\n",
      "  1272  1088    9.96534    4  513  178.07038    8.22962  95.4%  1065  776s\n",
      "  1274  1090   17.10588    5  368  178.07038    8.22962  95.4%  1073  781s\n",
      "  1276  1092   18.62397    6  586  178.07038    8.22962  95.4%  1079  786s\n",
      "  1278  1094   17.13551    7  548  178.07038    8.22962  95.4%  1084  790s\n",
      "  1288  1104   11.01543   15  621  178.07038    8.22962  95.4%  1081  795s\n",
      "  1294  1110   13.94419   19  720  178.07038    8.22962  95.4%  1081  800s\n",
      "  1305  1121   22.76935   24  721  178.07038    8.22962  95.4%  1082  805s\n",
      "  1313  1129   40.88660   29 1107  178.07038    8.22962  95.4%  1086  810s\n",
      "  1370  1176    8.66735    8  192  178.07038    8.22962  95.4%  1052  816s\n",
      "  1372  1178   18.81178    9  435  178.07038    8.22962  95.4%  1060  821s\n",
      "  1377  1183   21.75415   12  617  178.07038    8.22962  95.4%  1073  830s\n",
      "  1380  1186   21.23502   13  716  178.07038    8.22962  95.4%  1087  839s\n",
      "  1383  1189   18.08920   15  323  178.07038    8.22962  95.4%  1092  844s\n",
      "  1385  1191   16.62711   14  325  178.07038    8.22962  95.4%  1097  847s\n",
      "  1386  1192   21.26573   16  514  178.07038    8.22962  95.4%  1104  851s\n",
      "  1390  1196   20.05200   18  462  178.07038    8.22962  95.4%  1115  859s\n",
      "  1391  1197   14.14416   19  361  178.07038    8.22962  95.4%  1118  861s\n",
      "  1395  1201   13.74545   19  485  178.07038    8.22962  95.4%  1123  865s\n",
      "  1407  1213   36.23936   27  779  178.07038    8.22962  95.4%  1127  870s\n",
      "  1414  1220   29.11548   30  827  178.07038    8.22962  95.4%  1136  875s\n",
      "  1463  1225   10.64866   16  372  178.07038    8.22962  95.4%  1112  883s\n",
      "  1464  1226   11.07002   17  616  178.07038    8.22962  95.4%  1113  885s\n",
      "  1467  1229   24.40116   18 1086  178.07038    8.22962  95.4%  1122  890s\n",
      "  1472  1234   24.59439   19  766  178.07038    8.22962  95.4%  1126  895s\n",
      "  1485  1247   36.68620   28 1261  178.07038    8.22962  95.4%  1130  900s\n",
      "H 1503  1258                     160.8281506    8.22962  94.9%   997  902s\n",
      "  1507  1263   24.12543   41  555  160.82815    8.22962  94.9%  1133  905s\n",
      "  1536  1286    8.22962   13  105  160.82815    8.22962  94.9%  1165  997s\n",
      "  1541  1289    9.72799   15  105  160.82815    8.22962  94.9%  1167 1000s\n",
      "  1549  1294   10.30082   19  100  160.82815    8.22962  94.9%  1170 1005s\n",
      "  1559  1301    8.90065   24   72  160.82815    8.22962  94.9%  1173 1010s\n",
      "  1568  1307    8.22962   29  105  160.82815    8.22962  94.9%  1175 1015s\n",
      "  1575  1312    9.90217   32  202  160.82815    8.22962  94.9%  1178 1020s\n",
      "  1586  1319    8.22962   38  118  160.82815    8.22962  94.9%  1180 1025s\n",
      "  1595  1325    8.69853   42   87  160.82815    8.22962  94.9%  1182 1030s\n",
      "  1603  1330   13.22397   46  298  160.82815    8.22962  94.9%  1184 1035s\n",
      "  1611  1336   10.38265   50  110  160.82815    8.22962  94.9%  1184 1040s\n",
      "  1621  1342   12.39314   55  288  160.82815    8.22962  94.9%  1185 1045s\n",
      "  1631  1349   12.48103   60  233  160.82815    8.22962  94.9%  1185 1050s\n",
      "  1640  1355   19.18672   65  328  160.82815    8.22962  94.9%  1184 1055s\n",
      "  1649  1361   25.61680   69  471  160.82815    8.22962  94.9%  1183 1060s\n",
      "  1661  1369   29.49476   75  263  160.82815    8.22962  94.9%  1181 1065s\n",
      "  1671  1352   32.18216   80  230  160.82815    8.22962  94.9%  1178 1070s\n",
      "  1692  1364   32.95212   91  410  160.82815    8.22962  94.9%  1170 1075s\n",
      "  1742  1367   13.53077   45  111  160.82815    8.22962  94.9%  1144 1080s\n",
      "  1756  1376   12.69771   52  121  160.82815    8.22962  94.9%  1141 1085s\n",
      "  1772  1387   12.50049   60  126  160.82815    8.22962  94.9%  1140 1090s\n",
      "  1788  1398   19.29524   68  280  160.82815    8.22962  94.9%  1138 1095s\n",
      "  1811  1413   22.89971   80  340  160.82815    8.22962  94.9%  1129 1100s\n"
     ]
    },
    {
     "name": "stdout",
     "output_type": "stream",
     "text": [
      "  1837  1426   33.92275   93  387  160.82815    8.22962  94.9%  1121 1105s\n",
      "  1868  1422   10.77627   47  104  160.82815    8.22962  94.9%  1109 1110s\n",
      "  1880  1430   10.83069   53  147  160.82815    8.22962  94.9%  1111 1115s\n",
      "  1887  1435    8.22962   57  130  160.82815    8.22962  94.9%  1112 1120s\n",
      "  1897  1441    8.22962   62  145  160.82815    8.22962  94.9%  1114 1125s\n",
      "  1911  1451   11.91593   69  230  160.82815    8.60114  94.7%  1114 1130s\n",
      "  1924  1459   17.81227   75  251  160.82815    8.60114  94.7%  1112 1135s\n",
      "  1949  1476   19.84828   88  326  160.82815    8.60114  94.7%  1102 1140s\n",
      "  1972  1491   26.25745   99  408  160.82815    8.60114  94.7%  1095 1145s\n",
      "  2032  1517    8.63306   34   86  160.82815    8.60130  94.7%  1067 1150s\n",
      "  2050  1529   10.88742   49  145  160.82815    8.60130  94.7%  1060 1155s\n",
      "  2066  1540   12.56648   59  257  160.82815    8.60130  94.7%  1057 1160s\n",
      "  2077  1547   17.29855   64  338  160.82815    8.60130  94.7%  1057 1165s\n",
      "  2097  1561   23.87119   68  168  160.82815    8.60130  94.7%  1053 1170s\n",
      "  2128  1579   31.20425   82  221  160.82815    8.60130  94.7%  1044 1175s\n",
      "H 2153  1587                     160.7921440    8.60130  94.7%   941 1177s\n",
      "  2176  1608   10.99574   14  186  160.79214    8.60130  94.7%  1032 1184s\n",
      "  2180  1611    8.60130   16   85  160.79214    8.60130  94.7%  1032 1185s\n",
      "  2204  1623   64.38673   28  622  160.79214    8.60130  94.7%  1027 1190s\n",
      "  2274  1633   10.99574   18  159  160.79214    8.60130  94.7%   998 1195s\n",
      "  2298  1647   43.04156   30  661  160.79214    8.60130  94.7%   993 1200s\n",
      "\n",
      "Cutting planes:\n",
      "  Clique: 2\n",
      "  MIR: 21\n",
      "  Zero half: 1\n",
      "  RLT: 2178\n",
      "  BQP: 12\n",
      "\n",
      "Explored 2299 nodes (2306124 simplex iterations) in 1200.07 seconds (3352.34 work units)\n",
      "Thread count was 1 (of 12 available processors)\n",
      "\n",
      "Solution count 7: 160.792 160.828 178.07 ... 211.992\n",
      "\n",
      "Time limit reached\n",
      "Best objective 1.607921440262e+02, best bound 8.602291325696e+00, gap 94.6501%\n"
     ]
    }
   ],
   "source": [
    "model.optimize()"
   ]
  },
  {
   "cell_type": "code",
   "execution_count": 25,
   "metadata": {},
   "outputs": [
    {
     "name": "stdout",
     "output_type": "stream",
     "text": [
      "Objective Value: 160.79214402618658\n"
     ]
    }
   ],
   "source": [
    "if model.Status == GRB.OPTIMAL:\n",
    "    print(\"Optimization was successful and an optimal solution was found.\")\n",
    "elif model.Status == GRB.INFEASIBLE:\n",
    "    print(\"The model is infeasible - no feasible solution exists.\")\n",
    "elif model.Status == GRB.UNBOUNDED:\n",
    "    print(\"The model is unbounded - the objective can be improved without limit.\")\n",
    "print(\"Objective Value:\", model.objVal)"
   ]
  },
  {
   "cell_type": "code",
   "execution_count": 26,
   "metadata": {},
   "outputs": [
    {
     "name": "stdout",
     "output_type": "stream",
     "text": [
      "Objective Value: 160.79214402618658\n"
     ]
    }
   ],
   "source": [
    "print(\"Objective Value:\", model.objVal)"
   ]
  },
  {
   "cell_type": "markdown",
   "metadata": {},
   "source": [
    "### Time Slots and Exams in Each Time Slot"
   ]
  },
  {
   "cell_type": "code",
   "execution_count": 27,
   "metadata": {},
   "outputs": [],
   "source": [
    "# Scheduled-Exams in LIST\n",
    "scheduled_exams = []\n",
    "# Print the values of decision variable X\n",
    "for exam in ExamsList:\n",
    "    for time in TimeList:\n",
    "        if X[exam, time].x > 0.5:\n",
    "            scheduled_exams.append((exam, time))"
   ]
  },
  {
   "cell_type": "code",
   "execution_count": 28,
   "metadata": {},
   "outputs": [
    {
     "name": "stdout",
     "output_type": "stream",
     "text": [
      "Time Slot 0: Exams [9, 11, 15, 16, 25, 53, 54, 60, 62, 63, 64, 65, 76, 82, 85, 102, 103, 113, 121, 123]\n",
      "Time Slot 1: Exams [5, 6, 7, 10, 12, 13, 20, 22, 23, 27, 29, 30, 32, 38, 39, 40, 42, 45, 56, 84, 117, 128]\n",
      "Time Slot 2: Exams [17, 18, 34, 37, 41, 43, 46, 49, 50, 55, 78, 80, 83, 87, 89, 114, 126, 127, 130, 131]\n",
      "Time Slot 3: Exams [3, 70, 133]\n",
      "Time Slot 4: Exams [94, 95, 99, 135, 137]\n",
      "Time Slot 5: Exams [0, 1, 104, 105, 132]\n",
      "Time Slot 6: Exams [19, 21, 24, 28, 44, 48, 86, 88, 90, 93, 120]\n",
      "Time Slot 7: Exams [96, 136, 138]\n",
      "Time Slot 8: Exams [47, 71, 75, 129, 134]\n",
      "Time Slot 9: Exams [26, 72, 73, 74]\n",
      "Time Slot 10: Exams [31, 35, 36, 52, 57, 67, 68, 69, 77, 81, 97, 98, 100, 101, 111, 115]\n",
      "Time Slot 11: Exams [2, 4, 58, 59, 61, 66, 91, 92, 119, 122, 124, 125]\n",
      "Time Slot 12: Exams [8, 14, 33, 51, 79, 106, 107, 108, 109, 110, 112, 116, 118]\n"
     ]
    }
   ],
   "source": [
    "# Create a dictionary to store exams for each time slot\n",
    "Exams_in_TimeSlots = {}\n",
    "\n",
    "for exam, time in scheduled_exams:\n",
    "    if time not in Exams_in_TimeSlots:\n",
    "        Exams_in_TimeSlots[time] = []\n",
    "    Exams_in_TimeSlots[time].append(exam)\n",
    "\n",
    "# Print the organized structure\n",
    "for time_slot, exams in sorted(Exams_in_TimeSlots.items()):\n",
    "    print(f\"Time Slot {time_slot}: Exams {exams}\")"
   ]
  },
  {
   "cell_type": "code",
   "execution_count": 29,
   "metadata": {},
   "outputs": [],
   "source": [
    "# Sorting the Dic According to Time Slot It Will be Sorted By Keys \n",
    "Exams_in_TimeSlots= dict(sorted(Exams_in_TimeSlots.items()))"
   ]
  },
  {
   "cell_type": "markdown",
   "metadata": {},
   "source": [
    "### Chcking whether there is Conflict Between the Exams In Each Time Slots"
   ]
  },
  {
   "cell_type": "code",
   "execution_count": 30,
   "metadata": {
    "scrolled": true
   },
   "outputs": [],
   "source": [
    "#All pairs of Time Tables exams related to Each time slot-More General\n",
    "All_pairs_in_TimeSlots_Exams = []\n",
    "\n",
    "for time_slot, exams in Exams_in_TimeSlots.items():\n",
    "    exam_pairs = [(exams[i], exams[j]) for i in range(len(exams)) for j in range(i + 1, len(exams))]\n",
    "    All_pairs_in_TimeSlots_Exams.extend(exam_pairs)"
   ]
  },
  {
   "cell_type": "code",
   "execution_count": 31,
   "metadata": {},
   "outputs": [],
   "source": [
    "#Conflicting Exams - The code is Correct\n",
    "List_ConflictExams=[]\n",
    "for i in ExamsList:\n",
    "    for j in ExamsList:\n",
    "        if UC_Matrix[i,j] > 0:\n",
    "            List_ConflictExams.append((i,j))"
   ]
  },
  {
   "cell_type": "code",
   "execution_count": 32,
   "metadata": {},
   "outputs": [
    {
     "name": "stdout",
     "output_type": "stream",
     "text": [
      "The Solution is Feasible Meaning that There is No Conflicting Exam in a All Time Slots\n"
     ]
    }
   ],
   "source": [
    "# To find Whether There is Intersection Between This Lists or Not\n",
    "\n",
    "Set_All_pairs_in_TimeSlots_Exams=set(All_pairs_in_TimeSlots_Exams)\n",
    "Set_List_ConflictExams=set(List_ConflictExams)\n",
    "Common_elements = Set_All_pairs_in_TimeSlots_Exams.intersection(List_ConflictExams)\n",
    "# Find common elements\n",
    "if len (Common_elements) == 0:\n",
    "    print('The Solution is Feasible Meaning that There is No Conflicting Exam in a All Time Slots')\n",
    "else:\n",
    "    print('The Solution is Not Feasible Meaning that There is Conflicting Exam in Time Slots')\n",
    "    \n",
    "\n",
    "\n",
    "# Print the common elements\n",
    "#print(\"Common Elements:\", Common_elements)"
   ]
  },
  {
   "cell_type": "markdown",
   "metadata": {},
   "source": [
    "### Necessary OutPuts "
   ]
  },
  {
   "cell_type": "code",
   "execution_count": 34,
   "metadata": {},
   "outputs": [],
   "source": [
    "output_folder = r\"C:\\Users\\ghadi\\Downloads\\Discrete Optimization Project - Gurobi- Instance 1\"\n",
    "\n",
    "\n",
    "output_file_path = os.path.join(output_folder, \"Discrete Optimization Project- Instance 1 .sol\")\n",
    "\n",
    "# Specify the file name only for model.write()\n",
    "model.write(\"Discrete Optimization Project 2023.sol\")\n",
    "\n",
    "with open(output_file_path, 'w') as f:\n",
    "    # your code here\n",
    "    \n",
    "    # Convert Exams_in_TimeSlots to a string before writing\n",
    "    exams_string = \", \".join(map(str, TimeList))\n",
    "    f.write(f\"Exams Time Slots are: {exams_string}\\n\")\n",
    "    \n",
    "    f.write('\\n\\n')\n",
    "    \n",
    "    if len (Common_elements) == 0:\n",
    "        f.write('The Solution is Feasible Meaning that There is No Conflicting Exam in  All Time Slots')\n",
    "    else:\n",
    "        f.write('The Solution is Not Feasible Meaning that There is Conflicting Exam in Time Slots')\n",
    "        \n",
    "    \n",
    "    f.write('\\n\\n')    \n",
    "        \n",
    "    \n",
    "    for time_slot, exams in sorted(Exams_in_TimeSlots.items()):\n",
    "        f.write(f\"Time Slot {time_slot}: Exams {exams}\\n\")\n",
    "        \n",
    "    f.write('\\n\\n') \n",
    "    \n",
    "    f.write(f\"The Objected Value - Penalty: {model.objVal}\\n\")\n",
    "    f.write(f\"The Benchmark is = 157.033 \\n\")\n",
    "    "
   ]
  }
 ],
 "metadata": {
  "kernelspec": {
   "display_name": "Python 3 (ipykernel)",
   "language": "python",
   "name": "python3"
  },
  "language_info": {
   "codemirror_mode": {
    "name": "ipython",
    "version": 3
   },
   "file_extension": ".py",
   "mimetype": "text/x-python",
   "name": "python",
   "nbconvert_exporter": "python",
   "pygments_lexer": "ipython3",
   "version": "3.9.12"
  }
 },
 "nbformat": 4,
 "nbformat_minor": 4
}

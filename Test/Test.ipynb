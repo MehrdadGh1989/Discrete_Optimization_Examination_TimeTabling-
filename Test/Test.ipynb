{
 "cells": [
  {
   "cell_type": "markdown",
   "metadata": {},
   "source": [
    "# Test"
   ]
  },
  {
   "cell_type": "code",
   "execution_count": 1,
   "metadata": {},
   "outputs": [],
   "source": [
    "import os\n",
    "from pyomo.environ import *\n",
    "import numpy as np\n",
    "import pandas as pd\n",
    "import gurobipy as gp\n",
    "from gurobipy import GRB"
   ]
  },
  {
   "cell_type": "markdown",
   "metadata": {},
   "source": [
    "## Importing DataSet"
   ]
  },
  {
   "cell_type": "code",
   "execution_count": 2,
   "metadata": {},
   "outputs": [],
   "source": [
    "file_path = 'Test.xlsx'\n",
    "# Read the Excel file into a dictionary of DataFrames, where keys are sheet names\n",
    "Instance_data = pd.read_excel(file_path, sheet_name=None)"
   ]
  },
  {
   "cell_type": "code",
   "execution_count": 3,
   "metadata": {},
   "outputs": [],
   "source": [
    "# Exam Data Set\n",
    "\n",
    "Exams = Instance_data['Sheet1']\n",
    "Exams['Exams'] = Exams['Exams'] - 1\n",
    "#Exams['Exams'] = Exams['Exams'] \n",
    "ExamsList = list(Exams['Exams'])"
   ]
  },
  {
   "cell_type": "code",
   "execution_count": 4,
   "metadata": {},
   "outputs": [
    {
     "data": {
      "text/plain": [
       "[0, 1, 2, 3]"
      ]
     },
     "execution_count": 4,
     "metadata": {},
     "output_type": "execute_result"
    }
   ],
   "source": [
    "#ExamsList=set (ExamsList)\n",
    "ExamsList"
   ]
  },
  {
   "cell_type": "markdown",
   "metadata": {},
   "source": [
    "### Dictionary of Students and their related Exams"
   ]
  },
  {
   "cell_type": "code",
   "execution_count": 5,
   "metadata": {},
   "outputs": [],
   "source": [
    "# Creating a Dictionary of Students and Their Related Exams\n",
    "Students_exams = Instance_data['Sheet3']\n",
    "Students_exams['ExamNumber'] = Students_exams['ExamNumber'] - 1\n",
    "# Initialize an empty dictionary to store the students and their exams\n",
    "students = {}\n",
    "# Iterate over the rows in the DataFrame\n",
    "for index, row in Students_exams.iterrows():\n",
    "    student = row['Student']\n",
    "    exam_number = row['ExamNumber']\n",
    "    \n",
    "    # Check if the student is already in the dictionary\n",
    "    if student in students:\n",
    "        students[student].append(exam_number)\n",
    "    # If the student is not in the dictionary, create a new key-value pair    \n",
    "    else:\n",
    "        students[student] = [exam_number]"
   ]
  },
  {
   "cell_type": "code",
   "execution_count": 6,
   "metadata": {},
   "outputs": [
    {
     "data": {
      "text/plain": [
       "{'s1 ': [0, 1, 2],\n",
       " 's2 ': [0, 2],\n",
       " 's3 ': [3],\n",
       " 's4 ': [2],\n",
       " 's5 ': [0, 2],\n",
       " 's6 ': [3],\n",
       " 's7 ': [1, 2],\n",
       " 's8 ': [0, 1]}"
      ]
     },
     "execution_count": 6,
     "metadata": {},
     "output_type": "execute_result"
    }
   ],
   "source": [
    "students"
   ]
  },
  {
   "cell_type": "markdown",
   "metadata": {},
   "source": [
    "### TimeSlots"
   ]
  },
  {
   "cell_type": "code",
   "execution_count": 7,
   "metadata": {},
   "outputs": [],
   "source": [
    "Time_s = Instance_data['Sheet2']\n",
    "time_slots = Time_s.loc[0, 'TimeSlot']\n",
    "TimeList= list(range (time_slots))"
   ]
  },
  {
   "cell_type": "code",
   "execution_count": 8,
   "metadata": {},
   "outputs": [
    {
     "data": {
      "text/plain": [
       "[0, 1, 2, 3, 4, 5]"
      ]
     },
     "execution_count": 8,
     "metadata": {},
     "output_type": "execute_result"
    }
   ],
   "source": [
    "TimeList"
   ]
  },
  {
   "cell_type": "markdown",
   "metadata": {},
   "source": [
    "### Distance"
   ]
  },
  {
   "cell_type": "code",
   "execution_count": 9,
   "metadata": {},
   "outputs": [
    {
     "data": {
      "text/plain": [
       "[1, 2, 3, 4, 5]"
      ]
     },
     "execution_count": 9,
     "metadata": {},
     "output_type": "execute_result"
    }
   ],
   "source": [
    "#Distance\n",
    "Distance=list(range(1,6))\n",
    "Distance"
   ]
  },
  {
   "cell_type": "markdown",
   "metadata": {},
   "source": [
    "###  Finding Conflicted Exams (Weighted-Unweighted)"
   ]
  },
  {
   "cell_type": "code",
   "execution_count": 10,
   "metadata": {},
   "outputs": [],
   "source": [
    "# Unweighted\n",
    "\n",
    "# Step 1: Initialize the dictionary to store conflicting exams\n",
    "conflicting_exams = {exam: set() for exams_list in students.values() for exam in exams_list}\n",
    "\n",
    "# Step 2: Populate the dictionary with conflicting exams\n",
    "for student_exams in students.values():\n",
    "    for i, exam1 in enumerate(student_exams):\n",
    "        for exam2 in student_exams[i + 1:]:\n",
    "            conflicting_exams[exam1].add(exam2)\n",
    "            conflicting_exams[exam2].add(exam1)\n",
    "\n",
    "# Step 3: Create the unweighted conflicting matrix\n",
    "Unweighted_Conflict_Matrix = [\n",
    "    [1 if exam2 in conflicting_exams[exam1] else 0 for exam2 in ExamsList] for exam1 in ExamsList\n",
    "]\n",
    "\n"
   ]
  },
  {
   "cell_type": "code",
   "execution_count": 11,
   "metadata": {},
   "outputs": [],
   "source": [
    "# Weighted\n",
    "\n",
    "# The weighted Conflicting MATRIX\n",
    "# Step 1: Initialize the dictionary to store conflicting exams\n",
    "conflicting_exams = {exam: set() for exams_list in students.values() for exam in exams_list}\n",
    "\n",
    "# Step 2: Populate the dictionary with conflicting exams\n",
    "for student_exams in students.values():\n",
    "    for i, exam1 in enumerate(student_exams):\n",
    "        for exam2 in student_exams[i + 1:]:\n",
    "            conflicting_exams[exam1].add(exam2)\n",
    "            conflicting_exams[exam2].add(exam1)\n",
    "\n",
    "# Step 3: Create the weighted conflicting matrix\n",
    "weighted_conflicting_matrix = [[0 for _ in ExamsList] for _ in ExamsList]\n",
    "\n",
    "# Step 4: Calculate the number of students in each conflicting exam pair and fill the matrix\n",
    "for i, exam1 in enumerate(ExamsList):\n",
    "    for j, exam2 in enumerate(ExamsList):\n",
    "        if exam2 in conflicting_exams[exam1]:\n",
    "            count = sum(1 for student_exams in students.values() if exam1 in student_exams and exam2 in student_exams)\n",
    "            weighted_conflicting_matrix[i][j] = count\n",
    "\n"
   ]
  },
  {
   "cell_type": "markdown",
   "metadata": {},
   "source": [
    "### Converting the Llist of UC and WC to Matrix of Coefficients"
   ]
  },
  {
   "cell_type": "code",
   "execution_count": 13,
   "metadata": {},
   "outputs": [],
   "source": [
    "#Conflicting Exams (Weighted and Unweighted)\n",
    "UC_Matrix=np.array(Unweighted_Conflict_Matrix )\n",
    "WC_Matrix=np.array(weighted_conflicting_matrix)"
   ]
  },
  {
   "cell_type": "code",
   "execution_count": 14,
   "metadata": {},
   "outputs": [
    {
     "data": {
      "text/plain": [
       "array([[0, 1, 1, 0],\n",
       "       [1, 0, 1, 0],\n",
       "       [1, 1, 0, 0],\n",
       "       [0, 0, 0, 0]])"
      ]
     },
     "execution_count": 14,
     "metadata": {},
     "output_type": "execute_result"
    }
   ],
   "source": [
    "UC_Matrix"
   ]
  },
  {
   "cell_type": "code",
   "execution_count": 15,
   "metadata": {},
   "outputs": [
    {
     "data": {
      "text/plain": [
       "array([[0, 2, 3, 0],\n",
       "       [2, 0, 2, 0],\n",
       "       [3, 2, 0, 0],\n",
       "       [0, 0, 0, 0]])"
      ]
     },
     "execution_count": 15,
     "metadata": {},
     "output_type": "execute_result"
    }
   ],
   "source": [
    "WC_Matrix"
   ]
  },
  {
   "cell_type": "code",
   "execution_count": 16,
   "metadata": {},
   "outputs": [
    {
     "name": "stdout",
     "output_type": "stream",
     "text": [
      "Set parameter Username\n",
      "Set parameter LogFile to value \"C:\\Users\\ghadi\\Downloads\\Discrete Optimization Project 2023\\Discrete Optimization Project 2023-Log File.log\"\n",
      "Academic license - for non-commercial use only - expires 2024-07-07\n",
      "Set parameter Threads to value 1\n",
      "Set parameter Presolve to value 1\n",
      "Set parameter Method to value 0\n",
      "Set parameter TimeLimit to value 600\n",
      "Set parameter PreSparsify to value 1\n"
     ]
    }
   ],
   "source": [
    "# Setting up the environment\n",
    "env = gp.Env(\n",
    "    r\"C:\\Users\\ghadi\\Downloads\\Discrete Optimization Project 2023\\Discrete Optimization Project 2023-Log File.log\")\n",
    "env.start()\n",
    "\n",
    "# Environment parameters\n",
    "env.setParam(\"Threads\", 1)  # Controls the number of threads to apply to parallel algorithms\n",
    "env.setParam(\"Presolve\", 1)  # Controls the presolve level. conservative (1).\n",
    "env.setParam(\"MIPGap\", 1e-4)\n",
    "env.setParam('Method', 0)  # Algorithm used to solve the initial root relaxation of a MIP model. 0=primal simplex.\n",
    "env.setParam(\"TimeLimit\", 600)  # 10 minutes time limit\n",
    "env.setParam(\"PreSparsify\", 1) # to reduce the memory used\n"
   ]
  },
  {
   "cell_type": "markdown",
   "metadata": {},
   "source": [
    "### Defining Gurobi Model"
   ]
  },
  {
   "cell_type": "code",
   "execution_count": 17,
   "metadata": {},
   "outputs": [],
   "source": [
    "model = gp.Model(\"Exam_Scheduling\",env=env)"
   ]
  },
  {
   "cell_type": "markdown",
   "metadata": {},
   "source": [
    "### Defining Decision Variable and Auxiliary Variable"
   ]
  },
  {
   "cell_type": "code",
   "execution_count": 18,
   "metadata": {},
   "outputs": [],
   "source": [
    "#Decision Variable\n",
    "X = model.addVars(ExamsList, TimeList , vtype=GRB.BINARY, name=\"X\")\n"
   ]
  },
  {
   "cell_type": "code",
   "execution_count": 19,
   "metadata": {},
   "outputs": [],
   "source": [
    "# Binary auxiliary variable for controlling conflict\n",
    "Y = model.addVars(ExamsList, ExamsList, Distance, vtype=GRB.BINARY, name=\"Y\")"
   ]
  },
  {
   "cell_type": "markdown",
   "metadata": {},
   "source": [
    "###  Defining Constraints "
   ]
  },
  {
   "cell_type": "code",
   "execution_count": 20,
   "metadata": {},
   "outputs": [],
   "source": [
    "#Constraint 1\n",
    "model.addConstrs(UC_Matrix[i, j] * (X[i, k] + X[j, k]) <= 1 for i in ExamsList for j in ExamsList for k in TimeList)\n",
    "model.update()"
   ]
  },
  {
   "cell_type": "code",
   "execution_count": 21,
   "metadata": {},
   "outputs": [],
   "source": [
    "#Constraint 2\n",
    "model.addConstrs(sum(X[i, k] for k in TimeList) == 1 for i in ExamsList for k in TimeList)\n",
    "model.update()"
   ]
  },
  {
   "cell_type": "code",
   "execution_count": 22,
   "metadata": {},
   "outputs": [],
   "source": [
    "#Constraint C3\n",
    "model.addConstrs((X[i, k] + X[j, k + d]) <= Y[i, j, d] + 1 for i in ExamsList for j in ExamsList for k in TimeList for d in Distance if (k + d) in TimeList and UC_Matrix[i, j] != 0 )\n",
    "model.update()"
   ]
  },
  {
   "cell_type": "markdown",
   "metadata": {},
   "source": [
    "### Defining Objective Function"
   ]
  },
  {
   "cell_type": "code",
   "execution_count": 23,
   "metadata": {},
   "outputs": [],
   "source": [
    "# Create the objective expression using a loop\n",
    "objective_expr = 0\n",
    "for i in ExamsList:\n",
    "    for j in ExamsList:\n",
    "        for d in Distance:\n",
    "            objective_expr += Y[i, j, d] * WC_Matrix[i, j] * ((2 ** (5 - d))/8)\n",
    "\n",
    "# Set up the objective function for minimization\n",
    "model.setObjective(objective_expr, GRB.MINIMIZE)"
   ]
  },
  {
   "cell_type": "code",
   "execution_count": 24,
   "metadata": {},
   "outputs": [],
   "source": [
    "model.update()"
   ]
  },
  {
   "cell_type": "code",
   "execution_count": 25,
   "metadata": {},
   "outputs": [
    {
     "name": "stdout",
     "output_type": "stream",
     "text": [
      "Gurobi Optimizer version 10.0.2 build v10.0.2rc0 (win64)\n",
      "\n",
      "CPU model: 12th Gen Intel(R) Core(TM) i5-1235U, instruction set [SSE2|AVX|AVX2]\n",
      "Thread count: 10 physical cores, 12 logical processors, using up to 1 threads\n",
      "\n",
      "Optimize a model with 210 rows, 104 columns and 486 nonzeros\n",
      "Model fingerprint: 0x8198af83\n",
      "Variable types: 0 continuous, 104 integer (104 binary)\n",
      "Coefficient statistics:\n",
      "  Matrix range     [1e+00, 1e+00]\n",
      "  Objective range  [3e-01, 6e+00]\n",
      "  Bounds range     [1e+00, 1e+00]\n",
      "  RHS range        [1e+00, 1e+00]\n",
      "Found heuristic solution: objective 9.0000000\n",
      "Presolve removed 111 rows and 56 columns\n",
      "Presolve time: 0.00s\n",
      "Presolved: 99 rows, 48 columns, 306 nonzeros\n",
      "Variable types: 0 continuous, 48 integer (48 binary)\n",
      "\n",
      "Root relaxation: objective 0.000000e+00, 42 iterations, 0.01 seconds (0.00 work units)\n",
      "\n",
      "    Nodes    |    Current Node    |     Objective Bounds      |     Work\n",
      " Expl Unexpl |  Obj  Depth IntInf | Incumbent    BestBd   Gap | It/Node Time\n",
      "\n",
      "     0     0    0.00000    0    6    9.00000    0.00000   100%     -    0s\n",
      "H    0     0                       6.0000000    0.00000   100%     -    0s\n",
      "H    0     0                       5.7500000    0.00000   100%     -    0s\n",
      "     0     0    0.00000    0    6    5.75000    0.00000   100%     -    0s\n",
      "H    0     0                       5.5000000    0.00000   100%     -    0s\n",
      "H    0     0                       3.7500000    0.00000   100%     -    0s\n",
      "     0     0    0.00000    0    6    3.75000    0.00000   100%     -    0s\n",
      "     0     0    0.00000    0    6    3.75000    0.00000   100%     -    0s\n",
      "     0     0    0.08333    0    9    3.75000    0.08333  97.8%     -    0s\n",
      "H    0     0                       3.3750000    0.08333  97.5%     -    0s\n",
      "     0     0    0.75000    0   10    3.37500    0.75000  77.8%     -    0s\n",
      "     0     0    0.79167    0   16    3.37500    0.79167  76.5%     -    0s\n",
      "     0     0    1.00000    0   10    3.37500    1.00000  70.4%     -    0s\n",
      "     0     0    1.04412    0   28    3.37500    1.04412  69.1%     -    0s\n",
      "     0     0    1.50000    0   20    3.37500    1.50000  55.6%     -    0s\n",
      "     0     0    1.60000    0   20    3.37500    1.60000  52.6%     -    0s\n",
      "     0     0    1.66429    0   25    3.37500    1.66429  50.7%     -    0s\n",
      "     0     0    1.68214    0   30    3.37500    1.68214  50.2%     -    0s\n",
      "     0     0    1.68214    0   31    3.37500    1.68214  50.2%     -    0s\n",
      "     0     0    1.95000    0   22    3.37500    1.95000  42.2%     -    0s\n",
      "     0     0    1.95833    0   24    3.37500    1.95833  42.0%     -    0s\n",
      "     0     0    1.96053    0   28    3.37500    1.96053  41.9%     -    0s\n",
      "     0     0    2.02500    0   24    3.37500    2.02500  40.0%     -    0s\n",
      "     0     0    2.02727    0   31    3.37500    2.02727  39.9%     -    0s\n",
      "     0     0    2.07813    0   30    3.37500    2.07813  38.4%     -    0s\n",
      "     0     0    2.08173    0   31    3.37500    2.08173  38.3%     -    0s\n",
      "     0     0    2.10714    0   24    3.37500    2.10714  37.6%     -    0s\n",
      "     0     0    2.12640    0   34    3.37500    2.12640  37.0%     -    0s\n",
      "     0     0    2.12879    0   35    3.37500    2.12879  36.9%     -    0s\n",
      "     0     0    2.12879    0   36    3.37500    2.12879  36.9%     -    0s\n",
      "     0     0    2.35714    0   27    3.37500    2.35714  30.2%     -    0s\n",
      "     0     0    2.39223    0   30    3.37500    2.39223  29.1%     -    0s\n",
      "     0     0    2.40000    0   27    3.37500    2.40000  28.9%     -    0s\n",
      "     0     0    2.40625    0   30    3.37500    2.40625  28.7%     -    0s\n",
      "     0     0    2.40625    0   31    3.37500    2.40625  28.7%     -    0s\n",
      "     0     0    2.41071    0   30    3.37500    2.41071  28.6%     -    0s\n",
      "     0     0    2.41071    0   31    3.37500    2.41071  28.6%     -    0s\n",
      "     0     0    2.41071    0   20    3.37500    2.41071  28.6%     -    0s\n",
      "     0     0    2.41071    0   31    3.37500    2.41071  28.6%     -    0s\n",
      "     0     0    2.41071    0   19    3.37500    2.41071  28.6%     -    0s\n",
      "     0     0    2.41071    0   29    3.37500    2.41071  28.6%     -    0s\n",
      "     0     0    2.41071    0   29    3.37500    2.41071  28.6%     -    0s\n",
      "     0     0    2.41071    0   19    3.37500    2.41071  28.6%     -    0s\n",
      "     0     2    2.41071    0   19    3.37500    2.41071  28.6%     -    0s\n",
      "\n",
      "Cutting planes:\n",
      "  Clique: 2\n",
      "  MIR: 22\n",
      "  RLT: 2\n",
      "\n",
      "Explored 8 nodes (446 simplex iterations) in 0.18 seconds (0.02 work units)\n",
      "Thread count was 1 (of 12 available processors)\n",
      "\n",
      "Solution count 6: 3.375 3.75 5.5 ... 9\n",
      "\n",
      "Optimal solution found (tolerance 1.00e-04)\n",
      "Best objective 3.375000000000e+00, best bound 3.375000000000e+00, gap 0.0000%\n"
     ]
    }
   ],
   "source": [
    "model.optimize()"
   ]
  },
  {
   "cell_type": "code",
   "execution_count": 26,
   "metadata": {},
   "outputs": [
    {
     "name": "stdout",
     "output_type": "stream",
     "text": [
      "Optimization was successful and an optimal solution was found.\n",
      "Objective Value: 3.375\n"
     ]
    }
   ],
   "source": [
    "if model.Status == GRB.OPTIMAL:\n",
    "    print(\"Optimization was successful and an optimal solution was found.\")\n",
    "elif model.Status == GRB.INFEASIBLE:\n",
    "    print(\"The model is infeasible - no feasible solution exists.\")\n",
    "elif model.Status == GRB.UNBOUNDED:\n",
    "    print(\"The model is unbounded - the objective can be improved without limit.\")\n",
    "print(\"Objective Value:\", model.objVal)"
   ]
  },
  {
   "cell_type": "code",
   "execution_count": 27,
   "metadata": {},
   "outputs": [
    {
     "name": "stdout",
     "output_type": "stream",
     "text": [
      "Objective Value: 3.375\n"
     ]
    }
   ],
   "source": [
    "print(\"Objective Value:\", model.objVal)"
   ]
  },
  {
   "cell_type": "markdown",
   "metadata": {},
   "source": [
    "### Time Slots and Exams in Each Time Slot"
   ]
  },
  {
   "cell_type": "code",
   "execution_count": 28,
   "metadata": {},
   "outputs": [],
   "source": [
    "# Scheduled-Exams in LIST\n",
    "scheduled_exams = []\n",
    "# Print the values of decision variable X\n",
    "for exam in ExamsList:\n",
    "    for time in TimeList:\n",
    "        if X[exam, time].x > 0.5:\n",
    "            scheduled_exams.append((exam, time))"
   ]
  },
  {
   "cell_type": "code",
   "execution_count": 29,
   "metadata": {},
   "outputs": [
    {
     "name": "stdout",
     "output_type": "stream",
     "text": [
      "Time Slot 0: Exams [2]\n",
      "Time Slot 3: Exams [1]\n",
      "Time Slot 5: Exams [0, 3]\n"
     ]
    }
   ],
   "source": [
    "# Create a dictionary to store exams for each time slot\n",
    "Exams_in_TimeSlots = {}\n",
    "\n",
    "for exam, time in scheduled_exams:\n",
    "    if time not in Exams_in_TimeSlots:\n",
    "        Exams_in_TimeSlots[time] = []\n",
    "    Exams_in_TimeSlots[time].append(exam)\n",
    "\n",
    "# Print the organized structure\n",
    "for time_slot, exams in sorted(Exams_in_TimeSlots.items()):\n",
    "    print(f\"Time Slot {time_slot}: Exams {exams}\")"
   ]
  },
  {
   "cell_type": "code",
   "execution_count": 30,
   "metadata": {},
   "outputs": [],
   "source": [
    "# Sorting the Dic According to Time Slot It Will be Sorted By Keys \n",
    "Exams_in_TimeSlots= dict(sorted(Exams_in_TimeSlots.items()))"
   ]
  },
  {
   "cell_type": "code",
   "execution_count": 31,
   "metadata": {},
   "outputs": [
    {
     "data": {
      "text/plain": [
       "{0: [2], 3: [1], 5: [0, 3]}"
      ]
     },
     "execution_count": 31,
     "metadata": {},
     "output_type": "execute_result"
    }
   ],
   "source": [
    "Exams_in_TimeSlots"
   ]
  },
  {
   "cell_type": "markdown",
   "metadata": {},
   "source": [
    "### Chcking whether there is Conflict Between the Exams In Each Time Slots"
   ]
  },
  {
   "cell_type": "code",
   "execution_count": 32,
   "metadata": {
    "scrolled": true
   },
   "outputs": [],
   "source": [
    "#All pairs of Time Tables exams related to Each time slot-More General\n",
    "All_pairs_in_TimeSlots_Exams = []\n",
    "\n",
    "for time_slot, exams in Exams_in_TimeSlots.items():\n",
    "    exam_pairs = [(exams[i], exams[j]) for i in range(len(exams)) for j in range(i + 1, len(exams))]\n",
    "    All_pairs_in_TimeSlots_Exams.extend(exam_pairs)"
   ]
  },
  {
   "cell_type": "code",
   "execution_count": 33,
   "metadata": {},
   "outputs": [],
   "source": [
    "#Conflicting Exams - The code is Correct\n",
    "List_ConflictExams=[]\n",
    "for i in ExamsList:\n",
    "    for j in ExamsList:\n",
    "        if UC_Matrix[i,j] > 0:\n",
    "            List_ConflictExams.append((i,j))"
   ]
  },
  {
   "cell_type": "code",
   "execution_count": 34,
   "metadata": {},
   "outputs": [
    {
     "name": "stdout",
     "output_type": "stream",
     "text": [
      "The Solution is Feasible Meaning that There is No Conflicting Exam in a All Time Slots\n"
     ]
    }
   ],
   "source": [
    "# To find Whether There is Intersection Between This Lists or Not\n",
    "\n",
    "Set_All_pairs_in_TimeSlots_Exams=set(All_pairs_in_TimeSlots_Exams)\n",
    "Set_List_ConflictExams=set(List_ConflictExams)\n",
    "Common_elements = Set_All_pairs_in_TimeSlots_Exams.intersection(List_ConflictExams)\n",
    "# Find common elements\n",
    "if len (Common_elements) == 0:\n",
    "    print('The Solution is Feasible Meaning that There is No Conflicting Exam in a All Time Slots')\n",
    "else:\n",
    "    print('The Solution is Not Feasible Meaning that There is Conflicting Exam in Time Slots')\n",
    "    \n",
    "\n",
    "\n",
    "# Print the common elements\n",
    "#print(\"Common Elements:\", Common_elements)"
   ]
  },
  {
   "cell_type": "markdown",
   "metadata": {},
   "source": [
    "### Necessary OutPuts "
   ]
  },
  {
   "cell_type": "code",
   "execution_count": 35,
   "metadata": {},
   "outputs": [],
   "source": [
    "output_folder = r\"C:\\Users\\ghadi\\Downloads\\Discrete Optimization Project 2023\"\n",
    "output_file_path = os.path.join(output_folder, \"Discrete Optimization Project 2023.sol\")\n",
    "\n",
    "# Specify the file name only for model.write()\n",
    "model.write(\"Discrete Optimization Project 2023.sol\")\n",
    "\n",
    "with open(output_file_path, 'w') as f:\n",
    "    # your code here\n",
    "    \n",
    "    # Convert Exams_in_TimeSlots to a string before writing\n",
    "    exams_string = \", \".join(map(str, TimeList))\n",
    "    f.write(f\"Exams Time Slots are: {exams_string}\\n\")\n",
    "    \n",
    "    f.write('\\n\\n')\n",
    "    \n",
    "    if len (Common_elements) == 0:\n",
    "        f.write('The Solution is Feasible Meaning that There is No Conflicting Exam in  All Time Slots')\n",
    "    else:\n",
    "        f.write('The Solution is Not Feasible Meaning that There is Conflicting Exam in Time Slots')\n",
    "        \n",
    "    \n",
    "    f.write('\\n\\n')    \n",
    "        \n",
    "    \n",
    "    for time_slot, exams in sorted(Exams_in_TimeSlots.items()):\n",
    "        f.write(f\"Time Slot {time_slot}: Exams {exams}\\n\")\n",
    "        \n",
    "    f.write('\\n\\n') \n",
    "    \n",
    "    f.write(f\"The Objected Value - Penalty: {model.objVal}\\n\")\n",
    "    f.write(f\"The Benchmark is = 3.375 \\n\")\n",
    "    "
   ]
  },
  {
   "cell_type": "code",
   "execution_count": null,
   "metadata": {},
   "outputs": [],
   "source": []
  },
  {
   "cell_type": "code",
   "execution_count": null,
   "metadata": {},
   "outputs": [],
   "source": []
  },
  {
   "cell_type": "code",
   "execution_count": null,
   "metadata": {},
   "outputs": [],
   "source": []
  },
  {
   "cell_type": "code",
   "execution_count": null,
   "metadata": {},
   "outputs": [],
   "source": []
  },
  {
   "cell_type": "code",
   "execution_count": null,
   "metadata": {},
   "outputs": [],
   "source": []
  },
  {
   "cell_type": "markdown",
   "metadata": {},
   "source": [
    "### Advanced Model"
   ]
  },
  {
   "cell_type": "code",
   "execution_count": 163,
   "metadata": {},
   "outputs": [],
   "source": [
    "# Finding Time Lists Without More than Three Consecutive Items\n",
    "def has_consecutive_numbers(sublist):\n",
    "    consecutive_count = 0\n",
    "    for i in range(len(sublist) - 1):\n",
    "        if sublist[i] + 1 == sublist[i + 1]:\n",
    "            consecutive_count += 1\n",
    "            if consecutive_count >= 3:\n",
    "                return True\n",
    "        else:\n",
    "            consecutive_count = 0\n",
    "    return False\n",
    "\n",
    "def detect_and_remove_consecutive_sublists(input_list):\n",
    "    all_sublists = unique_sublists(input_list)\n",
    "    consecutive_sublists = []\n",
    "\n",
    "    for sublist in all_sublists:\n",
    "        if has_consecutive_numbers(sublist):\n",
    "            consecutive_sublists.append(sublist)\n",
    "\n",
    "    # Remove detected consecutive sublists\n",
    "    for sublist in consecutive_sublists:\n",
    "        all_sublists.remove(sublist)\n",
    "\n",
    "    #print(\"Original List:\", input_list)\n",
    "    #print(\"All Sublists Without 3 Consecutive Numbers:\", all_sublists)\n",
    "    #print(\"\\nSublists with more than three consecutive numbers:\")\n",
    "    #for sublist in consecutive_sublists:\n",
    "    #    print(sublist)\n",
    "    return all_sublists\n",
    "\n"
   ]
  },
  {
   "cell_type": "code",
   "execution_count": 166,
   "metadata": {},
   "outputs": [
    {
     "data": {
      "text/plain": [
       "[[2],\n",
       " [3, 4],\n",
       " [5],\n",
       " [1, 2, 5],\n",
       " [2, 5],\n",
       " [1, 3],\n",
       " [1, 4, 5],\n",
       " [2, 4, 5],\n",
       " [4],\n",
       " [1],\n",
       " [4, 5],\n",
       " [1, 2, 4],\n",
       " [1, 2, 4, 5],\n",
       " [2, 4],\n",
       " [1, 2],\n",
       " [1, 3, 4, 5],\n",
       " [1, 5],\n",
       " [1, 3, 5],\n",
       " [2, 3, 5],\n",
       " [3],\n",
       " [3, 5],\n",
       " [1, 2, 3, 5],\n",
       " [1, 2, 3],\n",
       " [1, 4],\n",
       " [1, 3, 4],\n",
       " [2, 3],\n",
       " [3, 4, 5],\n",
       " [2, 3, 4],\n",
       " []]"
      ]
     },
     "execution_count": 166,
     "metadata": {},
     "output_type": "execute_result"
    }
   ],
   "source": [
    "# Example usage with the list [1, 2, 3, 4, 5]\n",
    "#Lists Without More than 3 Consecutive Items\n",
    "input_list = [1, 2, 3, 4, 5]\n",
    "Prefered_List=detect_and_remove_consecutive_sublists(input_list)\n",
    "Prefered_List"
   ]
  },
  {
   "cell_type": "code",
   "execution_count": 155,
   "metadata": {},
   "outputs": [
    {
     "name": "stdout",
     "output_type": "stream",
     "text": [
      "\n",
      "Key and Value with the Maximum Number of Items:\n",
      "Key: s1, Value: [0, 1, 2], Number of Items: 3\n"
     ]
    }
   ],
   "source": [
    "# To Choose the Max Items of Values in the Dictionary \n",
    "\n",
    "\n",
    "student_dict = {\n",
    "    's1': [0, 1, 2],\n",
    "    's2': [0, 2],\n",
    "    's3': [3],\n",
    "    's4': [2],\n",
    "    's5': [0, 2],\n",
    "    's6': [3],\n",
    "    's7': [1, 2],\n",
    "    's8': [0, 1]\n",
    "}\n",
    "\n",
    "max_key = None\n",
    "max_value = None\n",
    "max_item_count = 0\n",
    "\n",
    "for key, value in student_dict.items():\n",
    "    item_count = len(value)\n",
    "    #print(f\"Key: {key}, Value: {value}, Number of Items: {item_count}\")\n",
    "\n",
    "    if item_count > max_item_count:\n",
    "        max_key = key\n",
    "        max_value = value\n",
    "        max_item_count = item_count\n",
    "\n",
    "print(f\"\\nKey and Value with the Maximum Number of Items:\")\n",
    "print(f\"Key: {max_key}, Value: {max_value}, Number of Items: {max_item_count}\")\n"
   ]
  },
  {
   "cell_type": "code",
   "execution_count": 170,
   "metadata": {},
   "outputs": [],
   "source": [
    "Filtered_Subsets_Times=[sublist for sublist in Prefered_List if len(sublist) >=3 ]"
   ]
  },
  {
   "cell_type": "code",
   "execution_count": 171,
   "metadata": {},
   "outputs": [
    {
     "data": {
      "text/plain": [
       "[[1, 2, 5],\n",
       " [1, 4, 5],\n",
       " [2, 4, 5],\n",
       " [1, 2, 4],\n",
       " [1, 2, 4, 5],\n",
       " [1, 3, 4, 5],\n",
       " [1, 3, 5],\n",
       " [2, 3, 5],\n",
       " [1, 2, 3, 5],\n",
       " [1, 2, 3],\n",
       " [1, 3, 4],\n",
       " [3, 4, 5],\n",
       " [2, 3, 4]]"
      ]
     },
     "execution_count": 171,
     "metadata": {},
     "output_type": "execute_result"
    }
   ],
   "source": [
    "Filtered_Subsets_Times"
   ]
  },
  {
   "cell_type": "code",
   "execution_count": 230,
   "metadata": {},
   "outputs": [
    {
     "name": "stdout",
     "output_type": "stream",
     "text": [
      "1\n",
      "2\n",
      "5\n",
      "1\n",
      "4\n",
      "5\n",
      "2\n",
      "4\n",
      "5\n",
      "1\n",
      "2\n",
      "4\n",
      "1\n",
      "2\n",
      "4\n",
      "5\n",
      "1\n",
      "3\n",
      "4\n",
      "5\n",
      "1\n",
      "3\n",
      "5\n",
      "2\n",
      "3\n",
      "5\n",
      "1\n",
      "2\n",
      "3\n",
      "5\n",
      "1\n",
      "2\n",
      "3\n",
      "1\n",
      "3\n",
      "4\n",
      "3\n",
      "4\n",
      "5\n",
      "2\n",
      "3\n",
      "4\n"
     ]
    }
   ],
   "source": [
    "# Iterate through each sublist\n",
    "for index, sublist in enumerate(Filtered_Subsets_Times):\n",
    "    for item in sublist:\n",
    "        print(item)\n",
    "    #print(f\"Sublist {index + 1}: {sublist}\")\n",
    "\n",
    "    # Perform operations on the sublist if needed\n",
    "    # Example: Print the sum of the sublist\n",
    "    #print(f\"Sum of Sublist {index + 1}: {sum(sublist)}\")\n",
    "    #print(\"-\" * 20)\n",
    "    \n",
    "    \n",
    "    \n",
    "    #print (index)\n"
   ]
  },
  {
   "cell_type": "code",
   "execution_count": 249,
   "metadata": {},
   "outputs": [],
   "source": [
    "from gurobipy import Model, GRB\n",
    "\n",
    "# Example data\n",
    "ExamsList = [1, 2, 3, 4, 5]\n",
    "TimeList = [1, 2, 3, 4]\n",
    "\n",
    "# Create a Gurobi model\n",
    "model = Model()\n",
    "\n",
    "# Create decision variables for each pair of exam and time slot\n",
    "X = model.addVars(((i, k) for i in ExamsList for k in TimeList), vtype=GRB.BINARY, name=\"X\")\n",
    "\n",
    "# At most three consecutive time slots can have conflicting exams\n",
    "for i in ExamsList:\n",
    "    for j in ExamsList:\n",
    "        for k in range(len(TimeList) - 3):  # Iterate up to the third-to-last time slot\n",
    "            # Conflict constraint for each set of four consecutive time slots\n",
    "            model.addConstr(X[i, TimeList[k]] + X[j, TimeList[k + 1]] + X[i, TimeList[k + 2]] + X[j, TimeList[k + 3]] <= 3)\n",
    "\n",
    "# Continue with the rest of your code...\n"
   ]
  },
  {
   "cell_type": "code",
   "execution_count": 250,
   "metadata": {},
   "outputs": [],
   "source": [
    "from gurobipy import Model, GRB\n",
    "\n",
    "# Example data\n",
    "ExamsList = [1, 2, 3, 4, 5]\n",
    "TimeList = [1, 2, 3, 4]\n",
    "\n",
    "# Create a Gurobi model\n",
    "X = model.addVars(((i, k) for i in ExamsList for k in TimeList), vtype=GRB.BINARY, name=\"X\")\n",
    "\n",
    "model = Model()\n"
   ]
  },
  {
   "cell_type": "code",
   "execution_count": 256,
   "metadata": {},
   "outputs": [],
   "source": [
    "for i in ExamsList:\n",
    "    for k in range(len(TimeList) - 3):  # Iterate up to the third-to-last time slot\n",
    "        # Conflict constraint for each set of four consecutive time slots\n",
    "        model.addConstr(quicksum(X[i, t] for t in TimeList[k:k+4]) + quicksum(X[j, t] for j in ExamsList for t in TimeList[k:k+4]) <= 3)\n",
    "\n",
    "\n"
   ]
  },
  {
   "cell_type": "code",
   "execution_count": 255,
   "metadata": {},
   "outputs": [
    {
     "data": {
      "text/plain": [
       "{(1, 1): <gurobi.Var *Awaiting Model Update*>,\n",
       " (1, 2): <gurobi.Var *Awaiting Model Update*>,\n",
       " (1, 3): <gurobi.Var *Awaiting Model Update*>,\n",
       " (1, 4): <gurobi.Var *Awaiting Model Update*>,\n",
       " (2, 1): <gurobi.Var *Awaiting Model Update*>,\n",
       " (2, 2): <gurobi.Var *Awaiting Model Update*>,\n",
       " (2, 3): <gurobi.Var *Awaiting Model Update*>,\n",
       " (2, 4): <gurobi.Var *Awaiting Model Update*>,\n",
       " (3, 1): <gurobi.Var *Awaiting Model Update*>,\n",
       " (3, 2): <gurobi.Var *Awaiting Model Update*>,\n",
       " (3, 3): <gurobi.Var *Awaiting Model Update*>,\n",
       " (3, 4): <gurobi.Var *Awaiting Model Update*>,\n",
       " (4, 1): <gurobi.Var *Awaiting Model Update*>,\n",
       " (4, 2): <gurobi.Var *Awaiting Model Update*>,\n",
       " (4, 3): <gurobi.Var *Awaiting Model Update*>,\n",
       " (4, 4): <gurobi.Var *Awaiting Model Update*>,\n",
       " (5, 1): <gurobi.Var *Awaiting Model Update*>,\n",
       " (5, 2): <gurobi.Var *Awaiting Model Update*>,\n",
       " (5, 3): <gurobi.Var *Awaiting Model Update*>,\n",
       " (5, 4): <gurobi.Var *Awaiting Model Update*>}"
      ]
     },
     "execution_count": 255,
     "metadata": {},
     "output_type": "execute_result"
    }
   ],
   "source": [
    "X"
   ]
  },
  {
   "cell_type": "code",
   "execution_count": null,
   "metadata": {},
   "outputs": [],
   "source": []
  }
 ],
 "metadata": {
  "kernelspec": {
   "display_name": "Python 3 (ipykernel)",
   "language": "python",
   "name": "python3"
  },
  "language_info": {
   "codemirror_mode": {
    "name": "ipython",
    "version": 3
   },
   "file_extension": ".py",
   "mimetype": "text/x-python",
   "name": "python",
   "nbconvert_exporter": "python",
   "pygments_lexer": "ipython3",
   "version": "3.9.12"
  }
 },
 "nbformat": 4,
 "nbformat_minor": 4
}
